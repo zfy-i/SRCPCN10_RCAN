{
 "cells": [
  {
   "cell_type": "code",
   "execution_count": 1,
   "id": "6e8395e0-9f7d-47dd-9f8c-a137f38adbec",
   "metadata": {},
   "outputs": [],
   "source": [
    "import os\n",
    "import torch\n",
    "from torch.utils.data import Dataset, DataLoader\n",
    "from torchvision import transforms\n",
    "import rasterio\n",
    "import numpy as np\n",
    "import torch.nn as nn\n",
    "import torch.optim as optim\n",
    "from skimage.transform import resize\n",
    "from tqdm import tqdm\n",
    "import pandas as pd\n",
    "import torchvision.transforms as transforms\n",
    "import matplotlib.pyplot as plt\n",
    "import geopandas as gpd\n",
    "from shapely.geometry import mapping\n",
    "from rasterio.features import geometry_mask\n",
    "import torch.nn.functional as F"
   ]
  },
  {
   "cell_type": "code",
   "execution_count": 2,
   "id": "f08848cd-bb91-4839-9207-4b7e377109bb",
   "metadata": {},
   "outputs": [
    {
     "name": "stdout",
     "output_type": "stream",
     "text": [
      "Using device: cuda\n"
     ]
    }
   ],
   "source": [
    "device = torch.device(\"cuda\" if torch.cuda.is_available() else \"cpu\")\n",
    "print(f\"Using device: {device}\")\n",
    "\n",
    "tif_path = \"D:/10_climate_10_590_330/1_tem/2017/tem_2017_01_01.tif\"\n",
    "with rasterio.open(tif_path) as src:\n",
    "        image_data = src.read(1)  # 读取第一个波段\n",
    "        transform = src.transform\n",
    "        crs = src.crs\n",
    "        bounds = src.bounds\n",
    "        height, width = src.height, src.width\n",
    "        profile = src.profile  # 获取文件元数据以便后续导出\n",
    "    \n",
    "shp_path = \"C:/Users/Administrator/Desktop/边界/中国/china.shp\"\n",
    "shapefile = gpd.read_file(shp_path)\n",
    "shapefile = shapefile.to_crs(crs)\n",
    "geometries = [mapping(geometry) for geometry in shapefile.geometry]\n",
    "mask = geometry_mask(geometries, transform=transform, invert=True, out_shape=(height, width))"
   ]
  },
  {
   "cell_type": "code",
   "execution_count": 3,
   "id": "8e70c6d1-be03-4fa6-9590-e53500c38c1a",
   "metadata": {},
   "outputs": [],
   "source": [
    "class SuperResolutionDataset(Dataset):\n",
    "    def __init__(self, lr_dirs, hr_dirs, transform=None):\n",
    "        self.lr_files = self._get_all_files(lr_dirs)\n",
    "        self.hr_files = self._get_all_files(hr_dirs)\n",
    "        self.transform = transform\n",
    "\n",
    "    def _get_all_files(self, dirs):\n",
    "        all_files = []\n",
    "        for directory in dirs:\n",
    "            for filename in sorted(os.listdir(directory)):  # 排序保证匹配\n",
    "                file_path = os.path.join(directory, filename)\n",
    "                if os.path.isfile(file_path):  # 确保是文件\n",
    "                    all_files.append(file_path)\n",
    "        return all_files\n",
    "\n",
    "    def __len__(self):\n",
    "        return len(self.lr_files)\n",
    "\n",
    "    def __getitem__(self, idx):\n",
    "        lr_path = self.lr_files[idx]\n",
    "        hr_path = self.hr_files[idx]\n",
    "        \n",
    "        with rasterio.open(lr_path) as lr_dataset:\n",
    "            lr_image = lr_dataset.read(1)  # 读取第一个波段的数据\n",
    "        with rasterio.open(hr_path) as hr_dataset:\n",
    "            hr_image = hr_dataset.read(1)  # 读取第一个波段的数据\n",
    "\n",
    "        # 如果有 transform，应用转换\n",
    "        if self.transform:\n",
    "            lr_image = self.transform(lr_image)\n",
    "            hr_image = self.transform(hr_image)\n",
    "\n",
    "        else:\n",
    "        # 如果没有 transform，转换为 PyTorch 张量\n",
    "            lr_image = torch.from_numpy(lr_image).float()  # (1, H, W)\n",
    "            hr_image = torch.from_numpy(hr_image).float()  # (1, H, W)\n",
    "\n",
    "        return lr_image, hr_image\n",
    "# 定义数据增强和预处理操作\n",
    "data_transforms = transforms.Compose([\n",
    "    transforms.ToTensor(),  # 将 NumPy 数组转换为 PyTorch 张量\n",
    "])\n",
    "\n",
    "def load_tiff_with_rasterio(file_path):\n",
    "    with rasterio.open(file_path) as src:\n",
    "        img = src.read(1)  # 读取第一个波段\n",
    "    return img"
   ]
  },
  {
   "cell_type": "code",
   "execution_count": 4,
   "id": "233eeb80-7bb9-4708-bb1b-1c48a8f97e74",
   "metadata": {},
   "outputs": [],
   "source": [
    "year = list(range(2000,2014))\n",
    "lr_directories = []\n",
    "hr_directories = []\n",
    "for a_index,a in enumerate(year):\n",
    "    hr_path = f'D:/10_climate_10_590_330/4_wind_u/{a}'\n",
    "    hr_directories.append(hr_path)\n",
    "    \n",
    "    lr_path = f'F:/6_climate_100_59_33/4_wind_u/{a}'\n",
    "    lr_directories.append(lr_path)\n",
    "dataset_train = SuperResolutionDataset(lr_dirs=lr_directories, hr_dirs=hr_directories, transform=data_transforms)\n",
    "dataloader_train = DataLoader(dataset_train, batch_size=8, shuffle=True, num_workers=0)\n",
    "\n",
    "year = list(range(2014,2019))\n",
    "lr_directories = []\n",
    "hr_directories = []\n",
    "for a_index,a in enumerate(year):\n",
    "    hr_path = f'D:/10_climate_10_590_330/4_wind_u/{a}'\n",
    "    hr_directories.append(hr_path)\n",
    "    \n",
    "    lr_path = f'F:/6_climate_100_59_33/4_wind_u/{a}'\n",
    "    lr_directories.append(lr_path)\n",
    "dataset_val = SuperResolutionDataset(lr_dirs=lr_directories, hr_dirs=hr_directories, transform=data_transforms)\n",
    "dataloader_val = DataLoader(dataset_val, batch_size=8, shuffle=True, num_workers=0)\n",
    "\n",
    "year = list(range(2019,2024))\n",
    "lr_directories = []\n",
    "hr_directories = []\n",
    "for a_index,a in enumerate(year):\n",
    "    hr_path = f'D:/10_climate_10_590_330/4_wind_u/{a}'\n",
    "    hr_directories.append(hr_path)\n",
    "    \n",
    "    lr_path = f'F:/6_climate_100_59_33/4_wind_u/{a}'\n",
    "    lr_directories.append(lr_path)\n",
    "dataset_test = SuperResolutionDataset(lr_dirs=lr_directories, hr_dirs=hr_directories, transform=data_transforms)\n",
    "dataloader_test = DataLoader(dataset_test, batch_size=8, shuffle=True, num_workers=0)"
   ]
  },
  {
   "cell_type": "code",
   "execution_count": 5,
   "id": "d6f27605-efc1-421d-a519-155b75ac566d",
   "metadata": {},
   "outputs": [],
   "source": [
    "def train_model(model, dataloader, criterion, optimizer, device):\n",
    "    model.train()\n",
    "    running_loss = 0.0\n",
    "    for inputs, targets in tqdm(dataloader):\n",
    "        inputs  = inputs.float().to(device)\n",
    "        targets = targets.float().to(device)\n",
    "\n",
    "        inputs[torch.isnan(inputs)] = 0\n",
    "        targets[torch.isnan(targets)] = 0\n",
    "\n",
    "        assert not torch.isnan(inputs).any(), \"Input contains NaN values\"\n",
    "        assert not torch.isnan(targets).any(), \"Target contains NaN values\"\n",
    "        \n",
    "        optimizer.zero_grad()\n",
    "        outputs_up = model(inputs)\n",
    "\n",
    "        loss = criterion(outputs_up, targets).to(device)\n",
    "        loss.backward()\n",
    "        optimizer.step()\n",
    "\n",
    "        running_loss += loss.item() * inputs.size(0)\n",
    "\n",
    "    epoch_loss = running_loss / len(dataloader.dataset)\n",
    "    return epoch_loss\n",
    "\n",
    "def validate_model(model, dataloader, criterion, device):\n",
    "    model.eval()\n",
    "    running_loss = 0.0\n",
    "    with torch.no_grad():\n",
    "        for inputs, targets in tqdm(dataloader):\n",
    "            inputs = inputs.float().to(device)\n",
    "            targets =  targets.float().to(device)\n",
    "            inputs[torch.isnan(inputs)] = 0\n",
    "            targets[torch.isnan(targets)] = 0\n",
    "\n",
    "            outputs = model(inputs)\n",
    "\n",
    "            loss = criterion(outputs, targets)\n",
    "            running_loss += loss.item() * inputs.size(0)\n",
    "\n",
    "    epoch_loss = running_loss / len(dataloader.dataset)\n",
    "    return epoch_loss\n"
   ]
  },
  {
   "cell_type": "code",
   "execution_count": 6,
   "id": "eb48869c-46fd-44dc-85c0-ad02863579db",
   "metadata": {},
   "outputs": [],
   "source": [
    "import torch\n",
    "import torch.nn as nn\n",
    "\n",
    "class ChannelAttention(nn.Module):\n",
    "    def __init__(self, num_features, reduction=16):\n",
    "        super(ChannelAttention, self).__init__()\n",
    "        self.avg_pool = nn.AdaptiveAvgPool2d(1)\n",
    "        self.conv = nn.Sequential(\n",
    "            nn.Conv2d(num_features, num_features // reduction, 1, padding=0, bias=True),\n",
    "            nn.ReLU(inplace=True),\n",
    "            nn.Conv2d(num_features // reduction, num_features, 1, padding=0, bias=True),\n",
    "            nn.Sigmoid()\n",
    "        )\n",
    "\n",
    "    def forward(self, x):\n",
    "        y = self.avg_pool(x)\n",
    "        y = self.conv(y)\n",
    "        return x * y\n",
    "\n",
    "class RCAB(nn.Module):\n",
    "    def __init__(self, num_features, reduction):\n",
    "        super(RCAB, self).__init__()\n",
    "        self.body = nn.Sequential(\n",
    "            nn.Conv2d(num_features, num_features, 3, padding=1),\n",
    "            nn.ReLU(inplace=True),\n",
    "            nn.Conv2d(num_features, num_features, 3, padding=1),\n",
    "            ChannelAttention(num_features, reduction)\n",
    "        )\n",
    "\n",
    "    def forward(self, x):\n",
    "        return x + self.body(x)\n",
    "\n",
    "class ResidualGroup(nn.Module):\n",
    "    def __init__(self, num_features, num_blocks, reduction):\n",
    "        super(ResidualGroup, self).__init__()\n",
    "        self.body = nn.Sequential(\n",
    "            *[RCAB(num_features, reduction) for _ in range(num_blocks)],\n",
    "            nn.Conv2d(num_features, num_features, 3, padding=1)\n",
    "        )\n",
    "\n",
    "    def forward(self, x):\n",
    "        return x + self.body(x)\n",
    "\n",
    "class RCAN(nn.Module):\n",
    "    def __init__(self, num_features=64, num_groups=10, num_blocks=20, reduction=16, scale=10, in_channels=1, out_channels=1):\n",
    "        super(RCAN, self).__init__()\n",
    "        \n",
    "        self.conv1 = nn.Conv2d(in_channels, num_features, 3, padding=1)\n",
    "        \n",
    "        self.body = nn.Sequential(\n",
    "            *[ResidualGroup(num_features, num_blocks, reduction) for _ in range(num_groups)],\n",
    "            nn.Conv2d(num_features, num_features, 3, padding=1)\n",
    "        )\n",
    "        \n",
    "        self.upsample = nn.Sequential(\n",
    "            nn.Conv2d(num_features, num_features * (scale ** 2), 3, padding=1),\n",
    "            nn.PixelShuffle(scale)\n",
    "        )\n",
    "        \n",
    "        self.conv2 = nn.Conv2d(num_features, out_channels, 3, padding=1)\n",
    "\n",
    "    def forward(self, x):\n",
    "        x = self.conv1(x)\n",
    "        res = self.body(x)\n",
    "        res += x\n",
    "        x = self.upsample(res)\n",
    "        x = self.conv2(x)\n",
    "        return x\n",
    "\n"
   ]
  },
  {
   "cell_type": "code",
   "execution_count": 7,
   "id": "737d144a-9d67-4ef9-a120-edccf1b0c99f",
   "metadata": {
    "scrolled": true
   },
   "outputs": [
    {
     "name": "stdout",
     "output_type": "stream",
     "text": [
      "cuda\n",
      "Epoch 1/100\n",
      "Model is training on: cuda:0\n"
     ]
    },
    {
     "name": "stderr",
     "output_type": "stream",
     "text": [
      "100%|██████████| 640/640 [04:31<00:00,  2.36it/s]\n",
      "100%|██████████| 229/229 [00:44<00:00,  5.17it/s]\n"
     ]
    },
    {
     "name": "stdout",
     "output_type": "stream",
     "text": [
      "Train Loss: 0.3585 | Validation Loss: 0.2722\n",
      "Model saved!\n",
      "Epoch 2/100\n",
      "Model is training on: cuda:0\n"
     ]
    },
    {
     "name": "stderr",
     "output_type": "stream",
     "text": [
      "100%|██████████| 640/640 [04:29<00:00,  2.37it/s]\n",
      "100%|██████████| 229/229 [00:42<00:00,  5.35it/s]\n"
     ]
    },
    {
     "name": "stdout",
     "output_type": "stream",
     "text": [
      "Train Loss: 0.2487 | Validation Loss: 0.2389\n",
      "Model saved!\n",
      "Epoch 3/100\n",
      "Model is training on: cuda:0\n"
     ]
    },
    {
     "name": "stderr",
     "output_type": "stream",
     "text": [
      "100%|██████████| 640/640 [04:30<00:00,  2.37it/s]\n",
      "100%|██████████| 229/229 [00:43<00:00,  5.32it/s]\n"
     ]
    },
    {
     "name": "stdout",
     "output_type": "stream",
     "text": [
      "Train Loss: 0.2218 | Validation Loss: 0.2207\n",
      "Model saved!\n",
      "Epoch 4/100\n",
      "Model is training on: cuda:0\n"
     ]
    },
    {
     "name": "stderr",
     "output_type": "stream",
     "text": [
      "100%|██████████| 640/640 [04:31<00:00,  2.36it/s]\n",
      "100%|██████████| 229/229 [00:42<00:00,  5.34it/s]\n"
     ]
    },
    {
     "name": "stdout",
     "output_type": "stream",
     "text": [
      "Train Loss: 0.2084 | Validation Loss: 0.2074\n",
      "Model saved!\n",
      "Epoch 5/100\n",
      "Model is training on: cuda:0\n"
     ]
    },
    {
     "name": "stderr",
     "output_type": "stream",
     "text": [
      "100%|██████████| 640/640 [04:29<00:00,  2.38it/s]\n",
      "100%|██████████| 229/229 [00:42<00:00,  5.34it/s]\n"
     ]
    },
    {
     "name": "stdout",
     "output_type": "stream",
     "text": [
      "Train Loss: 0.1993 | Validation Loss: 0.1980\n",
      "Model saved!\n",
      "Epoch 6/100\n",
      "Model is training on: cuda:0\n"
     ]
    },
    {
     "name": "stderr",
     "output_type": "stream",
     "text": [
      "100%|██████████| 640/640 [04:27<00:00,  2.39it/s]\n",
      "100%|██████████| 229/229 [00:40<00:00,  5.61it/s]\n"
     ]
    },
    {
     "name": "stdout",
     "output_type": "stream",
     "text": [
      "Train Loss: 0.1935 | Validation Loss: 0.1948\n",
      "Model saved!\n",
      "Epoch 7/100\n",
      "Model is training on: cuda:0\n"
     ]
    },
    {
     "name": "stderr",
     "output_type": "stream",
     "text": [
      "100%|██████████| 640/640 [04:23<00:00,  2.43it/s]\n",
      "100%|██████████| 229/229 [00:42<00:00,  5.38it/s]\n"
     ]
    },
    {
     "name": "stdout",
     "output_type": "stream",
     "text": [
      "Train Loss: 0.1888 | Validation Loss: 0.1913\n",
      "Model saved!\n",
      "Epoch 8/100\n",
      "Model is training on: cuda:0\n"
     ]
    },
    {
     "name": "stderr",
     "output_type": "stream",
     "text": [
      "100%|██████████| 640/640 [04:29<00:00,  2.37it/s]\n",
      "100%|██████████| 229/229 [00:42<00:00,  5.35it/s]\n"
     ]
    },
    {
     "name": "stdout",
     "output_type": "stream",
     "text": [
      "Train Loss: 0.1852 | Validation Loss: 0.1961\n",
      "Epoch 9/100\n",
      "Model is training on: cuda:0\n"
     ]
    },
    {
     "name": "stderr",
     "output_type": "stream",
     "text": [
      "100%|██████████| 640/640 [04:29<00:00,  2.38it/s]\n",
      "100%|██████████| 229/229 [00:42<00:00,  5.33it/s]\n"
     ]
    },
    {
     "name": "stdout",
     "output_type": "stream",
     "text": [
      "Train Loss: 0.1825 | Validation Loss: 0.1850\n",
      "Model saved!\n",
      "Epoch 10/100\n",
      "Model is training on: cuda:0\n"
     ]
    },
    {
     "name": "stderr",
     "output_type": "stream",
     "text": [
      "100%|██████████| 640/640 [04:29<00:00,  2.37it/s]\n",
      "100%|██████████| 229/229 [00:43<00:00,  5.30it/s]\n"
     ]
    },
    {
     "name": "stdout",
     "output_type": "stream",
     "text": [
      "Train Loss: 0.1796 | Validation Loss: 0.1856\n",
      "Epoch 11/100\n",
      "Model is training on: cuda:0\n"
     ]
    },
    {
     "name": "stderr",
     "output_type": "stream",
     "text": [
      "100%|██████████| 640/640 [04:30<00:00,  2.37it/s]\n",
      "100%|██████████| 229/229 [00:42<00:00,  5.34it/s]\n"
     ]
    },
    {
     "name": "stdout",
     "output_type": "stream",
     "text": [
      "Train Loss: 0.1776 | Validation Loss: 0.1828\n",
      "Model saved!\n",
      "Epoch 12/100\n",
      "Model is training on: cuda:0\n"
     ]
    },
    {
     "name": "stderr",
     "output_type": "stream",
     "text": [
      "100%|██████████| 640/640 [04:29<00:00,  2.37it/s]\n",
      "100%|██████████| 229/229 [00:42<00:00,  5.37it/s]\n"
     ]
    },
    {
     "name": "stdout",
     "output_type": "stream",
     "text": [
      "Train Loss: 0.1759 | Validation Loss: 0.1808\n",
      "Model saved!\n",
      "Epoch 13/100\n",
      "Model is training on: cuda:0\n"
     ]
    },
    {
     "name": "stderr",
     "output_type": "stream",
     "text": [
      "100%|██████████| 640/640 [04:29<00:00,  2.38it/s]\n",
      "100%|██████████| 229/229 [00:43<00:00,  5.32it/s]\n"
     ]
    },
    {
     "name": "stdout",
     "output_type": "stream",
     "text": [
      "Train Loss: 0.1740 | Validation Loss: 0.1767\n",
      "Model saved!\n",
      "Epoch 14/100\n",
      "Model is training on: cuda:0\n"
     ]
    },
    {
     "name": "stderr",
     "output_type": "stream",
     "text": [
      "100%|██████████| 640/640 [04:28<00:00,  2.38it/s]\n",
      "100%|██████████| 229/229 [00:42<00:00,  5.38it/s]\n"
     ]
    },
    {
     "name": "stdout",
     "output_type": "stream",
     "text": [
      "Train Loss: 0.1725 | Validation Loss: 0.1775\n",
      "Epoch 15/100\n",
      "Model is training on: cuda:0\n"
     ]
    },
    {
     "name": "stderr",
     "output_type": "stream",
     "text": [
      "100%|██████████| 640/640 [04:28<00:00,  2.38it/s]\n",
      "100%|██████████| 229/229 [00:42<00:00,  5.37it/s]\n"
     ]
    },
    {
     "name": "stdout",
     "output_type": "stream",
     "text": [
      "Train Loss: 0.1713 | Validation Loss: 0.1753\n",
      "Model saved!\n",
      "Epoch 16/100\n",
      "Model is training on: cuda:0\n"
     ]
    },
    {
     "name": "stderr",
     "output_type": "stream",
     "text": [
      "100%|██████████| 640/640 [04:28<00:00,  2.38it/s]\n",
      "100%|██████████| 229/229 [00:42<00:00,  5.34it/s]\n"
     ]
    },
    {
     "name": "stdout",
     "output_type": "stream",
     "text": [
      "Train Loss: 0.1700 | Validation Loss: 0.1755\n",
      "Epoch 17/100\n",
      "Model is training on: cuda:0\n"
     ]
    },
    {
     "name": "stderr",
     "output_type": "stream",
     "text": [
      "100%|██████████| 640/640 [04:29<00:00,  2.38it/s]\n",
      "100%|██████████| 229/229 [00:42<00:00,  5.35it/s]\n"
     ]
    },
    {
     "name": "stdout",
     "output_type": "stream",
     "text": [
      "Train Loss: 0.1689 | Validation Loss: 0.1728\n",
      "Model saved!\n",
      "Epoch 18/100\n",
      "Model is training on: cuda:0\n"
     ]
    },
    {
     "name": "stderr",
     "output_type": "stream",
     "text": [
      "100%|██████████| 640/640 [04:28<00:00,  2.38it/s]\n",
      "100%|██████████| 229/229 [00:39<00:00,  5.74it/s]\n"
     ]
    },
    {
     "name": "stdout",
     "output_type": "stream",
     "text": [
      "Train Loss: 0.1679 | Validation Loss: 0.1739\n",
      "Epoch 19/100\n",
      "Model is training on: cuda:0\n"
     ]
    },
    {
     "name": "stderr",
     "output_type": "stream",
     "text": [
      "100%|██████████| 640/640 [04:14<00:00,  2.51it/s]\n",
      "100%|██████████| 229/229 [00:41<00:00,  5.46it/s]\n"
     ]
    },
    {
     "name": "stdout",
     "output_type": "stream",
     "text": [
      "Train Loss: 0.1668 | Validation Loss: 0.1737\n",
      "Epoch 20/100\n",
      "Model is training on: cuda:0\n"
     ]
    },
    {
     "name": "stderr",
     "output_type": "stream",
     "text": [
      "100%|██████████| 640/640 [04:14<00:00,  2.51it/s]\n",
      "100%|██████████| 229/229 [00:39<00:00,  5.76it/s]\n"
     ]
    },
    {
     "name": "stdout",
     "output_type": "stream",
     "text": [
      "Train Loss: 0.1661 | Validation Loss: 0.1718\n",
      "Model saved!\n",
      "Epoch 21/100\n",
      "Model is training on: cuda:0\n"
     ]
    },
    {
     "name": "stderr",
     "output_type": "stream",
     "text": [
      "100%|██████████| 640/640 [04:13<00:00,  2.52it/s]\n",
      "100%|██████████| 229/229 [00:39<00:00,  5.76it/s]\n"
     ]
    },
    {
     "name": "stdout",
     "output_type": "stream",
     "text": [
      "Train Loss: 0.1650 | Validation Loss: 0.1715\n",
      "Model saved!\n",
      "Epoch 22/100\n",
      "Model is training on: cuda:0\n"
     ]
    },
    {
     "name": "stderr",
     "output_type": "stream",
     "text": [
      "100%|██████████| 640/640 [04:14<00:00,  2.52it/s]\n",
      "100%|██████████| 229/229 [00:39<00:00,  5.75it/s]\n"
     ]
    },
    {
     "name": "stdout",
     "output_type": "stream",
     "text": [
      "Train Loss: 0.1644 | Validation Loss: 0.1711\n",
      "Model saved!\n",
      "Epoch 23/100\n",
      "Model is training on: cuda:0\n"
     ]
    },
    {
     "name": "stderr",
     "output_type": "stream",
     "text": [
      "100%|██████████| 640/640 [04:14<00:00,  2.52it/s]\n",
      "100%|██████████| 229/229 [00:39<00:00,  5.75it/s]\n"
     ]
    },
    {
     "name": "stdout",
     "output_type": "stream",
     "text": [
      "Train Loss: 0.1636 | Validation Loss: 0.1687\n",
      "Model saved!\n",
      "Epoch 24/100\n",
      "Model is training on: cuda:0\n"
     ]
    },
    {
     "name": "stderr",
     "output_type": "stream",
     "text": [
      "100%|██████████| 640/640 [04:13<00:00,  2.52it/s]\n",
      "100%|██████████| 229/229 [00:39<00:00,  5.74it/s]\n"
     ]
    },
    {
     "name": "stdout",
     "output_type": "stream",
     "text": [
      "Train Loss: 0.1629 | Validation Loss: 0.1680\n",
      "Model saved!\n",
      "Epoch 25/100\n",
      "Model is training on: cuda:0\n"
     ]
    },
    {
     "name": "stderr",
     "output_type": "stream",
     "text": [
      "100%|██████████| 640/640 [04:13<00:00,  2.52it/s]\n",
      "100%|██████████| 229/229 [00:39<00:00,  5.75it/s]\n"
     ]
    },
    {
     "name": "stdout",
     "output_type": "stream",
     "text": [
      "Train Loss: 0.1621 | Validation Loss: 0.1671\n",
      "Model saved!\n",
      "Epoch 26/100\n",
      "Model is training on: cuda:0\n"
     ]
    },
    {
     "name": "stderr",
     "output_type": "stream",
     "text": [
      "100%|██████████| 640/640 [04:13<00:00,  2.52it/s]\n",
      "100%|██████████| 229/229 [00:39<00:00,  5.78it/s]\n"
     ]
    },
    {
     "name": "stdout",
     "output_type": "stream",
     "text": [
      "Train Loss: 0.1615 | Validation Loss: 0.1669\n",
      "Model saved!\n",
      "Epoch 27/100\n",
      "Model is training on: cuda:0\n"
     ]
    },
    {
     "name": "stderr",
     "output_type": "stream",
     "text": [
      "100%|██████████| 640/640 [04:13<00:00,  2.52it/s]\n",
      "100%|██████████| 229/229 [00:39<00:00,  5.77it/s]\n"
     ]
    },
    {
     "name": "stdout",
     "output_type": "stream",
     "text": [
      "Train Loss: 0.1610 | Validation Loss: 0.1704\n",
      "Epoch 28/100\n",
      "Model is training on: cuda:0\n"
     ]
    },
    {
     "name": "stderr",
     "output_type": "stream",
     "text": [
      "100%|██████████| 640/640 [04:13<00:00,  2.53it/s]\n",
      "100%|██████████| 229/229 [00:39<00:00,  5.77it/s]\n"
     ]
    },
    {
     "name": "stdout",
     "output_type": "stream",
     "text": [
      "Train Loss: 0.1604 | Validation Loss: 0.1684\n",
      "Epoch 29/100\n",
      "Model is training on: cuda:0\n"
     ]
    },
    {
     "name": "stderr",
     "output_type": "stream",
     "text": [
      "100%|██████████| 640/640 [04:13<00:00,  2.52it/s]\n",
      "100%|██████████| 229/229 [00:39<00:00,  5.77it/s]\n"
     ]
    },
    {
     "name": "stdout",
     "output_type": "stream",
     "text": [
      "Train Loss: 0.1598 | Validation Loss: 0.1669\n",
      "Epoch 30/100\n",
      "Model is training on: cuda:0\n"
     ]
    },
    {
     "name": "stderr",
     "output_type": "stream",
     "text": [
      "100%|██████████| 640/640 [04:13<00:00,  2.52it/s]\n",
      "100%|██████████| 229/229 [00:39<00:00,  5.78it/s]\n"
     ]
    },
    {
     "name": "stdout",
     "output_type": "stream",
     "text": [
      "Train Loss: 0.1593 | Validation Loss: 0.1685\n",
      "Epoch 31/100\n",
      "Model is training on: cuda:0\n"
     ]
    },
    {
     "name": "stderr",
     "output_type": "stream",
     "text": [
      "100%|██████████| 640/640 [04:13<00:00,  2.52it/s]\n",
      "100%|██████████| 229/229 [00:39<00:00,  5.76it/s]\n"
     ]
    },
    {
     "name": "stdout",
     "output_type": "stream",
     "text": [
      "Train Loss: 0.1588 | Validation Loss: 0.1663\n",
      "Model saved!\n",
      "Epoch 32/100\n",
      "Model is training on: cuda:0\n"
     ]
    },
    {
     "name": "stderr",
     "output_type": "stream",
     "text": [
      "100%|██████████| 640/640 [04:13<00:00,  2.53it/s]\n",
      "100%|██████████| 229/229 [00:39<00:00,  5.78it/s]\n"
     ]
    },
    {
     "name": "stdout",
     "output_type": "stream",
     "text": [
      "Train Loss: 0.1583 | Validation Loss: 0.1650\n",
      "Model saved!\n",
      "Epoch 33/100\n",
      "Model is training on: cuda:0\n"
     ]
    },
    {
     "name": "stderr",
     "output_type": "stream",
     "text": [
      "100%|██████████| 640/640 [04:13<00:00,  2.53it/s]\n",
      "100%|██████████| 229/229 [00:39<00:00,  5.78it/s]\n"
     ]
    },
    {
     "name": "stdout",
     "output_type": "stream",
     "text": [
      "Train Loss: 0.1579 | Validation Loss: 0.1657\n",
      "Epoch 34/100\n",
      "Model is training on: cuda:0\n"
     ]
    },
    {
     "name": "stderr",
     "output_type": "stream",
     "text": [
      "100%|██████████| 640/640 [04:13<00:00,  2.53it/s]\n",
      "100%|██████████| 229/229 [00:39<00:00,  5.77it/s]\n"
     ]
    },
    {
     "name": "stdout",
     "output_type": "stream",
     "text": [
      "Train Loss: 0.1574 | Validation Loss: 0.1653\n",
      "Epoch 35/100\n",
      "Model is training on: cuda:0\n"
     ]
    },
    {
     "name": "stderr",
     "output_type": "stream",
     "text": [
      "100%|██████████| 640/640 [04:13<00:00,  2.53it/s]\n",
      "100%|██████████| 229/229 [00:39<00:00,  5.78it/s]\n"
     ]
    },
    {
     "name": "stdout",
     "output_type": "stream",
     "text": [
      "Train Loss: 0.1569 | Validation Loss: 0.1641\n",
      "Model saved!\n",
      "Epoch 36/100\n",
      "Model is training on: cuda:0\n"
     ]
    },
    {
     "name": "stderr",
     "output_type": "stream",
     "text": [
      "100%|██████████| 640/640 [04:13<00:00,  2.52it/s]\n",
      "100%|██████████| 229/229 [00:39<00:00,  5.78it/s]\n"
     ]
    },
    {
     "name": "stdout",
     "output_type": "stream",
     "text": [
      "Train Loss: 0.1565 | Validation Loss: 0.1641\n",
      "Model saved!\n",
      "Epoch 37/100\n",
      "Model is training on: cuda:0\n"
     ]
    },
    {
     "name": "stderr",
     "output_type": "stream",
     "text": [
      "100%|██████████| 640/640 [04:13<00:00,  2.52it/s]\n",
      "100%|██████████| 229/229 [00:39<00:00,  5.77it/s]\n"
     ]
    },
    {
     "name": "stdout",
     "output_type": "stream",
     "text": [
      "Train Loss: 0.1562 | Validation Loss: 0.1636\n",
      "Model saved!\n",
      "Epoch 38/100\n",
      "Model is training on: cuda:0\n"
     ]
    },
    {
     "name": "stderr",
     "output_type": "stream",
     "text": [
      "100%|██████████| 640/640 [04:13<00:00,  2.52it/s]\n",
      "100%|██████████| 229/229 [00:39<00:00,  5.77it/s]\n"
     ]
    },
    {
     "name": "stdout",
     "output_type": "stream",
     "text": [
      "Train Loss: 0.1557 | Validation Loss: 0.1636\n",
      "Model saved!\n",
      "Epoch 39/100\n",
      "Model is training on: cuda:0\n"
     ]
    },
    {
     "name": "stderr",
     "output_type": "stream",
     "text": [
      "100%|██████████| 640/640 [04:13<00:00,  2.52it/s]\n",
      "100%|██████████| 229/229 [00:39<00:00,  5.78it/s]\n"
     ]
    },
    {
     "name": "stdout",
     "output_type": "stream",
     "text": [
      "Train Loss: 0.1553 | Validation Loss: 0.1628\n",
      "Model saved!\n",
      "Epoch 40/100\n",
      "Model is training on: cuda:0\n"
     ]
    },
    {
     "name": "stderr",
     "output_type": "stream",
     "text": [
      "100%|██████████| 640/640 [04:13<00:00,  2.52it/s]\n",
      "100%|██████████| 229/229 [00:39<00:00,  5.76it/s]\n"
     ]
    },
    {
     "name": "stdout",
     "output_type": "stream",
     "text": [
      "Train Loss: 0.1550 | Validation Loss: 0.1634\n",
      "Epoch 41/100\n",
      "Model is training on: cuda:0\n"
     ]
    },
    {
     "name": "stderr",
     "output_type": "stream",
     "text": [
      "100%|██████████| 640/640 [04:13<00:00,  2.52it/s]\n",
      "100%|██████████| 229/229 [00:39<00:00,  5.77it/s]\n"
     ]
    },
    {
     "name": "stdout",
     "output_type": "stream",
     "text": [
      "Train Loss: 0.1547 | Validation Loss: 0.1631\n",
      "Epoch 42/100\n",
      "Model is training on: cuda:0\n"
     ]
    },
    {
     "name": "stderr",
     "output_type": "stream",
     "text": [
      "100%|██████████| 640/640 [04:13<00:00,  2.53it/s]\n",
      "100%|██████████| 229/229 [00:39<00:00,  5.77it/s]\n"
     ]
    },
    {
     "name": "stdout",
     "output_type": "stream",
     "text": [
      "Train Loss: 0.1544 | Validation Loss: 0.1617\n",
      "Model saved!\n",
      "Epoch 43/100\n",
      "Model is training on: cuda:0\n"
     ]
    },
    {
     "name": "stderr",
     "output_type": "stream",
     "text": [
      "100%|██████████| 640/640 [04:13<00:00,  2.52it/s]\n",
      "100%|██████████| 229/229 [00:39<00:00,  5.77it/s]\n"
     ]
    },
    {
     "name": "stdout",
     "output_type": "stream",
     "text": [
      "Train Loss: 0.1542 | Validation Loss: 0.1625\n",
      "Epoch 44/100\n",
      "Model is training on: cuda:0\n"
     ]
    },
    {
     "name": "stderr",
     "output_type": "stream",
     "text": [
      "100%|██████████| 640/640 [04:13<00:00,  2.52it/s]\n",
      "100%|██████████| 229/229 [00:39<00:00,  5.77it/s]\n"
     ]
    },
    {
     "name": "stdout",
     "output_type": "stream",
     "text": [
      "Train Loss: 0.1536 | Validation Loss: 0.1618\n",
      "Epoch 45/100\n",
      "Model is training on: cuda:0\n"
     ]
    },
    {
     "name": "stderr",
     "output_type": "stream",
     "text": [
      "100%|██████████| 640/640 [04:13<00:00,  2.52it/s]\n",
      "100%|██████████| 229/229 [00:39<00:00,  5.77it/s]\n"
     ]
    },
    {
     "name": "stdout",
     "output_type": "stream",
     "text": [
      "Train Loss: 0.1534 | Validation Loss: 0.1616\n",
      "Model saved!\n",
      "Epoch 46/100\n",
      "Model is training on: cuda:0\n"
     ]
    },
    {
     "name": "stderr",
     "output_type": "stream",
     "text": [
      "100%|██████████| 640/640 [04:13<00:00,  2.52it/s]\n",
      "100%|██████████| 229/229 [00:39<00:00,  5.76it/s]\n"
     ]
    },
    {
     "name": "stdout",
     "output_type": "stream",
     "text": [
      "Train Loss: 0.1531 | Validation Loss: 0.1633\n",
      "Epoch 47/100\n",
      "Model is training on: cuda:0\n"
     ]
    },
    {
     "name": "stderr",
     "output_type": "stream",
     "text": [
      "100%|██████████| 640/640 [04:13<00:00,  2.52it/s]\n",
      "100%|██████████| 229/229 [00:39<00:00,  5.77it/s]\n"
     ]
    },
    {
     "name": "stdout",
     "output_type": "stream",
     "text": [
      "Train Loss: 0.1527 | Validation Loss: 0.1612\n",
      "Model saved!\n",
      "Epoch 48/100\n",
      "Model is training on: cuda:0\n"
     ]
    },
    {
     "name": "stderr",
     "output_type": "stream",
     "text": [
      "100%|██████████| 640/640 [04:13<00:00,  2.52it/s]\n",
      "100%|██████████| 229/229 [00:39<00:00,  5.77it/s]\n"
     ]
    },
    {
     "name": "stdout",
     "output_type": "stream",
     "text": [
      "Train Loss: 0.1525 | Validation Loss: 0.1606\n",
      "Model saved!\n",
      "Epoch 49/100\n",
      "Model is training on: cuda:0\n"
     ]
    },
    {
     "name": "stderr",
     "output_type": "stream",
     "text": [
      "100%|██████████| 640/640 [04:13<00:00,  2.52it/s]\n",
      "100%|██████████| 229/229 [00:39<00:00,  5.76it/s]\n"
     ]
    },
    {
     "name": "stdout",
     "output_type": "stream",
     "text": [
      "Train Loss: 0.1523 | Validation Loss: 0.1596\n",
      "Model saved!\n",
      "Epoch 50/100\n",
      "Model is training on: cuda:0\n"
     ]
    },
    {
     "name": "stderr",
     "output_type": "stream",
     "text": [
      "100%|██████████| 640/640 [04:13<00:00,  2.52it/s]\n",
      "100%|██████████| 229/229 [00:39<00:00,  5.76it/s]\n"
     ]
    },
    {
     "name": "stdout",
     "output_type": "stream",
     "text": [
      "Train Loss: 0.1518 | Validation Loss: 0.1612\n",
      "Epoch 51/100\n",
      "Model is training on: cuda:0\n"
     ]
    },
    {
     "name": "stderr",
     "output_type": "stream",
     "text": [
      "100%|██████████| 640/640 [04:13<00:00,  2.52it/s]\n",
      "100%|██████████| 229/229 [00:39<00:00,  5.75it/s]\n"
     ]
    },
    {
     "name": "stdout",
     "output_type": "stream",
     "text": [
      "Train Loss: 0.1518 | Validation Loss: 0.1600\n",
      "Epoch 52/100\n",
      "Model is training on: cuda:0\n"
     ]
    },
    {
     "name": "stderr",
     "output_type": "stream",
     "text": [
      "100%|██████████| 640/640 [04:13<00:00,  2.52it/s]\n",
      "100%|██████████| 229/229 [00:39<00:00,  5.76it/s]\n"
     ]
    },
    {
     "name": "stdout",
     "output_type": "stream",
     "text": [
      "Train Loss: 0.1514 | Validation Loss: 0.1598\n",
      "Epoch 53/100\n",
      "Model is training on: cuda:0\n"
     ]
    },
    {
     "name": "stderr",
     "output_type": "stream",
     "text": [
      "100%|██████████| 640/640 [04:13<00:00,  2.52it/s]\n",
      "100%|██████████| 229/229 [00:39<00:00,  5.76it/s]\n"
     ]
    },
    {
     "name": "stdout",
     "output_type": "stream",
     "text": [
      "Train Loss: 0.1511 | Validation Loss: 0.1583\n",
      "Model saved!\n",
      "Epoch 54/100\n",
      "Model is training on: cuda:0\n"
     ]
    },
    {
     "name": "stderr",
     "output_type": "stream",
     "text": [
      "100%|██████████| 640/640 [04:13<00:00,  2.52it/s]\n",
      "100%|██████████| 229/229 [00:39<00:00,  5.75it/s]\n"
     ]
    },
    {
     "name": "stdout",
     "output_type": "stream",
     "text": [
      "Train Loss: 0.1509 | Validation Loss: 0.1601\n",
      "Epoch 55/100\n",
      "Model is training on: cuda:0\n"
     ]
    },
    {
     "name": "stderr",
     "output_type": "stream",
     "text": [
      "100%|██████████| 640/640 [04:13<00:00,  2.52it/s]\n",
      "100%|██████████| 229/229 [00:39<00:00,  5.76it/s]\n"
     ]
    },
    {
     "name": "stdout",
     "output_type": "stream",
     "text": [
      "Train Loss: 0.1506 | Validation Loss: 0.1594\n",
      "Epoch 56/100\n",
      "Model is training on: cuda:0\n"
     ]
    },
    {
     "name": "stderr",
     "output_type": "stream",
     "text": [
      "100%|██████████| 640/640 [04:13<00:00,  2.52it/s]\n",
      "100%|██████████| 229/229 [00:39<00:00,  5.77it/s]\n"
     ]
    },
    {
     "name": "stdout",
     "output_type": "stream",
     "text": [
      "Train Loss: 0.1504 | Validation Loss: 0.1590\n",
      "Epoch 57/100\n",
      "Model is training on: cuda:0\n"
     ]
    },
    {
     "name": "stderr",
     "output_type": "stream",
     "text": [
      "100%|██████████| 640/640 [04:13<00:00,  2.52it/s]\n",
      "100%|██████████| 229/229 [00:39<00:00,  5.76it/s]\n"
     ]
    },
    {
     "name": "stdout",
     "output_type": "stream",
     "text": [
      "Train Loss: 0.1503 | Validation Loss: 0.1592\n",
      "Epoch 58/100\n",
      "Model is training on: cuda:0\n"
     ]
    },
    {
     "name": "stderr",
     "output_type": "stream",
     "text": [
      "100%|██████████| 640/640 [04:13<00:00,  2.52it/s]\n",
      "100%|██████████| 229/229 [00:39<00:00,  5.75it/s]\n"
     ]
    },
    {
     "name": "stdout",
     "output_type": "stream",
     "text": [
      "Train Loss: 0.1499 | Validation Loss: 0.1573\n",
      "Model saved!\n",
      "Epoch 59/100\n",
      "Model is training on: cuda:0\n"
     ]
    },
    {
     "name": "stderr",
     "output_type": "stream",
     "text": [
      "100%|██████████| 640/640 [04:13<00:00,  2.52it/s]\n",
      "100%|██████████| 229/229 [00:39<00:00,  5.76it/s]\n"
     ]
    },
    {
     "name": "stdout",
     "output_type": "stream",
     "text": [
      "Train Loss: 0.1498 | Validation Loss: 0.1579\n",
      "Epoch 60/100\n",
      "Model is training on: cuda:0\n"
     ]
    },
    {
     "name": "stderr",
     "output_type": "stream",
     "text": [
      "100%|██████████| 640/640 [04:14<00:00,  2.52it/s]\n",
      "100%|██████████| 229/229 [00:40<00:00,  5.71it/s]\n"
     ]
    },
    {
     "name": "stdout",
     "output_type": "stream",
     "text": [
      "Train Loss: 0.1495 | Validation Loss: 0.1584\n",
      "Epoch 61/100\n",
      "Model is training on: cuda:0\n"
     ]
    },
    {
     "name": "stderr",
     "output_type": "stream",
     "text": [
      "100%|██████████| 640/640 [04:13<00:00,  2.52it/s]\n",
      "100%|██████████| 229/229 [00:39<00:00,  5.76it/s]\n"
     ]
    },
    {
     "name": "stdout",
     "output_type": "stream",
     "text": [
      "Train Loss: 0.1494 | Validation Loss: 0.1584\n",
      "Epoch 62/100\n",
      "Model is training on: cuda:0\n"
     ]
    },
    {
     "name": "stderr",
     "output_type": "stream",
     "text": [
      "100%|██████████| 640/640 [04:13<00:00,  2.52it/s]\n",
      "100%|██████████| 229/229 [00:39<00:00,  5.77it/s]\n"
     ]
    },
    {
     "name": "stdout",
     "output_type": "stream",
     "text": [
      "Train Loss: 0.1492 | Validation Loss: 0.1576\n",
      "Epoch 63/100\n",
      "Model is training on: cuda:0\n"
     ]
    },
    {
     "name": "stderr",
     "output_type": "stream",
     "text": [
      "100%|██████████| 640/640 [04:13<00:00,  2.52it/s]\n",
      "100%|██████████| 229/229 [00:39<00:00,  5.76it/s]\n"
     ]
    },
    {
     "name": "stdout",
     "output_type": "stream",
     "text": [
      "Train Loss: 0.1488 | Validation Loss: 0.1566\n",
      "Model saved!\n",
      "Epoch 64/100\n",
      "Model is training on: cuda:0\n"
     ]
    },
    {
     "name": "stderr",
     "output_type": "stream",
     "text": [
      "100%|██████████| 640/640 [04:13<00:00,  2.52it/s]\n",
      "100%|██████████| 229/229 [00:39<00:00,  5.76it/s]\n"
     ]
    },
    {
     "name": "stdout",
     "output_type": "stream",
     "text": [
      "Train Loss: 0.1487 | Validation Loss: 0.1569\n",
      "Epoch 65/100\n",
      "Model is training on: cuda:0\n"
     ]
    },
    {
     "name": "stderr",
     "output_type": "stream",
     "text": [
      "100%|██████████| 640/640 [04:13<00:00,  2.52it/s]\n",
      "100%|██████████| 229/229 [00:39<00:00,  5.76it/s]\n"
     ]
    },
    {
     "name": "stdout",
     "output_type": "stream",
     "text": [
      "Train Loss: 0.1486 | Validation Loss: 0.1575\n",
      "Epoch 66/100\n",
      "Model is training on: cuda:0\n"
     ]
    },
    {
     "name": "stderr",
     "output_type": "stream",
     "text": [
      "100%|██████████| 640/640 [04:13<00:00,  2.52it/s]\n",
      "100%|██████████| 229/229 [00:39<00:00,  5.75it/s]\n"
     ]
    },
    {
     "name": "stdout",
     "output_type": "stream",
     "text": [
      "Train Loss: 0.1484 | Validation Loss: 0.1571\n",
      "Epoch 67/100\n",
      "Model is training on: cuda:0\n"
     ]
    },
    {
     "name": "stderr",
     "output_type": "stream",
     "text": [
      "100%|██████████| 640/640 [04:13<00:00,  2.52it/s]\n",
      "100%|██████████| 229/229 [00:39<00:00,  5.77it/s]\n"
     ]
    },
    {
     "name": "stdout",
     "output_type": "stream",
     "text": [
      "Train Loss: 0.1482 | Validation Loss: 0.1572\n",
      "Epoch 68/100\n",
      "Model is training on: cuda:0\n"
     ]
    },
    {
     "name": "stderr",
     "output_type": "stream",
     "text": [
      "100%|██████████| 640/640 [04:13<00:00,  2.52it/s]\n",
      "100%|██████████| 229/229 [00:39<00:00,  5.76it/s]\n"
     ]
    },
    {
     "name": "stdout",
     "output_type": "stream",
     "text": [
      "Train Loss: 0.1480 | Validation Loss: 0.1577\n",
      "Epoch 69/100\n",
      "Model is training on: cuda:0\n"
     ]
    },
    {
     "name": "stderr",
     "output_type": "stream",
     "text": [
      "100%|██████████| 640/640 [04:13<00:00,  2.52it/s]\n",
      "100%|██████████| 229/229 [00:39<00:00,  5.75it/s]\n"
     ]
    },
    {
     "name": "stdout",
     "output_type": "stream",
     "text": [
      "Train Loss: 0.1478 | Validation Loss: 0.1561\n",
      "Model saved!\n",
      "Epoch 70/100\n",
      "Model is training on: cuda:0\n"
     ]
    },
    {
     "name": "stderr",
     "output_type": "stream",
     "text": [
      "100%|██████████| 640/640 [04:13<00:00,  2.52it/s]\n",
      "100%|██████████| 229/229 [00:39<00:00,  5.77it/s]\n"
     ]
    },
    {
     "name": "stdout",
     "output_type": "stream",
     "text": [
      "Train Loss: 0.1476 | Validation Loss: 0.1561\n",
      "Epoch 71/100\n",
      "Model is training on: cuda:0\n"
     ]
    },
    {
     "name": "stderr",
     "output_type": "stream",
     "text": [
      "100%|██████████| 640/640 [04:13<00:00,  2.52it/s]\n",
      "100%|██████████| 229/229 [00:39<00:00,  5.76it/s]\n"
     ]
    },
    {
     "name": "stdout",
     "output_type": "stream",
     "text": [
      "Train Loss: 0.1475 | Validation Loss: 0.1570\n",
      "Epoch 72/100\n",
      "Model is training on: cuda:0\n"
     ]
    },
    {
     "name": "stderr",
     "output_type": "stream",
     "text": [
      "100%|██████████| 640/640 [04:13<00:00,  2.52it/s]\n",
      "100%|██████████| 229/229 [00:39<00:00,  5.76it/s]\n"
     ]
    },
    {
     "name": "stdout",
     "output_type": "stream",
     "text": [
      "Train Loss: 0.1472 | Validation Loss: 0.1564\n",
      "Epoch 73/100\n",
      "Model is training on: cuda:0\n"
     ]
    },
    {
     "name": "stderr",
     "output_type": "stream",
     "text": [
      "100%|██████████| 640/640 [04:13<00:00,  2.52it/s]\n",
      "100%|██████████| 229/229 [00:39<00:00,  5.76it/s]\n"
     ]
    },
    {
     "name": "stdout",
     "output_type": "stream",
     "text": [
      "Train Loss: 0.1471 | Validation Loss: 0.1567\n",
      "Epoch 74/100\n",
      "Model is training on: cuda:0\n"
     ]
    },
    {
     "name": "stderr",
     "output_type": "stream",
     "text": [
      "100%|██████████| 640/640 [04:13<00:00,  2.52it/s]\n",
      "100%|██████████| 229/229 [00:39<00:00,  5.76it/s]\n"
     ]
    },
    {
     "name": "stdout",
     "output_type": "stream",
     "text": [
      "Train Loss: 0.1469 | Validation Loss: 0.1567\n",
      "Epoch 75/100\n",
      "Model is training on: cuda:0\n"
     ]
    },
    {
     "name": "stderr",
     "output_type": "stream",
     "text": [
      "100%|██████████| 640/640 [04:13<00:00,  2.52it/s]\n",
      "100%|██████████| 229/229 [00:39<00:00,  5.76it/s]\n"
     ]
    },
    {
     "name": "stdout",
     "output_type": "stream",
     "text": [
      "Train Loss: 0.1469 | Validation Loss: 0.1549\n",
      "Model saved!\n",
      "Epoch 76/100\n",
      "Model is training on: cuda:0\n"
     ]
    },
    {
     "name": "stderr",
     "output_type": "stream",
     "text": [
      "100%|██████████| 640/640 [04:13<00:00,  2.52it/s]\n",
      "100%|██████████| 229/229 [00:39<00:00,  5.76it/s]\n"
     ]
    },
    {
     "name": "stdout",
     "output_type": "stream",
     "text": [
      "Train Loss: 0.1466 | Validation Loss: 0.1563\n",
      "Epoch 77/100\n",
      "Model is training on: cuda:0\n"
     ]
    },
    {
     "name": "stderr",
     "output_type": "stream",
     "text": [
      "100%|██████████| 640/640 [04:13<00:00,  2.52it/s]\n",
      "100%|██████████| 229/229 [00:39<00:00,  5.75it/s]\n"
     ]
    },
    {
     "name": "stdout",
     "output_type": "stream",
     "text": [
      "Train Loss: 0.1464 | Validation Loss: 0.1563\n",
      "Epoch 78/100\n",
      "Model is training on: cuda:0\n"
     ]
    },
    {
     "name": "stderr",
     "output_type": "stream",
     "text": [
      "100%|██████████| 640/640 [04:13<00:00,  2.52it/s]\n",
      "100%|██████████| 229/229 [00:39<00:00,  5.76it/s]\n"
     ]
    },
    {
     "name": "stdout",
     "output_type": "stream",
     "text": [
      "Train Loss: 0.1463 | Validation Loss: 0.1552\n",
      "Epoch 79/100\n",
      "Model is training on: cuda:0\n"
     ]
    },
    {
     "name": "stderr",
     "output_type": "stream",
     "text": [
      "100%|██████████| 640/640 [04:13<00:00,  2.52it/s]\n",
      "100%|██████████| 229/229 [00:39<00:00,  5.76it/s]\n"
     ]
    },
    {
     "name": "stdout",
     "output_type": "stream",
     "text": [
      "Train Loss: 0.1461 | Validation Loss: 0.1556\n",
      "Epoch 80/100\n",
      "Model is training on: cuda:0\n"
     ]
    },
    {
     "name": "stderr",
     "output_type": "stream",
     "text": [
      "100%|██████████| 640/640 [04:13<00:00,  2.52it/s]\n",
      "100%|██████████| 229/229 [00:39<00:00,  5.75it/s]\n"
     ]
    },
    {
     "name": "stdout",
     "output_type": "stream",
     "text": [
      "Train Loss: 0.1460 | Validation Loss: 0.1551\n",
      "Epoch 81/100\n",
      "Model is training on: cuda:0\n"
     ]
    },
    {
     "name": "stderr",
     "output_type": "stream",
     "text": [
      "100%|██████████| 640/640 [04:13<00:00,  2.52it/s]\n",
      "100%|██████████| 229/229 [00:39<00:00,  5.77it/s]\n"
     ]
    },
    {
     "name": "stdout",
     "output_type": "stream",
     "text": [
      "Train Loss: 0.1457 | Validation Loss: 0.1546\n",
      "Model saved!\n",
      "Epoch 82/100\n",
      "Model is training on: cuda:0\n"
     ]
    },
    {
     "name": "stderr",
     "output_type": "stream",
     "text": [
      "100%|██████████| 640/640 [04:13<00:00,  2.52it/s]\n",
      "100%|██████████| 229/229 [00:39<00:00,  5.77it/s]\n"
     ]
    },
    {
     "name": "stdout",
     "output_type": "stream",
     "text": [
      "Train Loss: 0.1457 | Validation Loss: 0.1552\n",
      "Epoch 83/100\n",
      "Model is training on: cuda:0\n"
     ]
    },
    {
     "name": "stderr",
     "output_type": "stream",
     "text": [
      "100%|██████████| 640/640 [04:13<00:00,  2.52it/s]\n",
      "100%|██████████| 229/229 [00:39<00:00,  5.76it/s]\n"
     ]
    },
    {
     "name": "stdout",
     "output_type": "stream",
     "text": [
      "Train Loss: 0.1455 | Validation Loss: 0.1534\n",
      "Model saved!\n",
      "Epoch 84/100\n",
      "Model is training on: cuda:0\n"
     ]
    },
    {
     "name": "stderr",
     "output_type": "stream",
     "text": [
      "100%|██████████| 640/640 [04:13<00:00,  2.52it/s]\n",
      "100%|██████████| 229/229 [00:39<00:00,  5.76it/s]\n"
     ]
    },
    {
     "name": "stdout",
     "output_type": "stream",
     "text": [
      "Train Loss: 0.1454 | Validation Loss: 0.1545\n",
      "Epoch 85/100\n",
      "Model is training on: cuda:0\n"
     ]
    },
    {
     "name": "stderr",
     "output_type": "stream",
     "text": [
      "100%|██████████| 640/640 [04:13<00:00,  2.52it/s]\n",
      "100%|██████████| 229/229 [00:39<00:00,  5.76it/s]\n"
     ]
    },
    {
     "name": "stdout",
     "output_type": "stream",
     "text": [
      "Train Loss: 0.1453 | Validation Loss: 0.1563\n",
      "Epoch 86/100\n",
      "Model is training on: cuda:0\n"
     ]
    },
    {
     "name": "stderr",
     "output_type": "stream",
     "text": [
      "100%|██████████| 640/640 [04:13<00:00,  2.52it/s]\n",
      "100%|██████████| 229/229 [00:39<00:00,  5.75it/s]\n"
     ]
    },
    {
     "name": "stdout",
     "output_type": "stream",
     "text": [
      "Train Loss: 0.1452 | Validation Loss: 0.1546\n",
      "Epoch 87/100\n",
      "Model is training on: cuda:0\n"
     ]
    },
    {
     "name": "stderr",
     "output_type": "stream",
     "text": [
      "100%|██████████| 640/640 [04:13<00:00,  2.52it/s]\n",
      "100%|██████████| 229/229 [00:39<00:00,  5.76it/s]\n"
     ]
    },
    {
     "name": "stdout",
     "output_type": "stream",
     "text": [
      "Train Loss: 0.1451 | Validation Loss: 0.1548\n",
      "Epoch 88/100\n",
      "Model is training on: cuda:0\n"
     ]
    },
    {
     "name": "stderr",
     "output_type": "stream",
     "text": [
      "100%|██████████| 640/640 [04:13<00:00,  2.52it/s]\n",
      "100%|██████████| 229/229 [00:39<00:00,  5.76it/s]\n"
     ]
    },
    {
     "name": "stdout",
     "output_type": "stream",
     "text": [
      "Train Loss: 0.1449 | Validation Loss: 0.1543\n",
      "Epoch 89/100\n",
      "Model is training on: cuda:0\n"
     ]
    },
    {
     "name": "stderr",
     "output_type": "stream",
     "text": [
      "100%|██████████| 640/640 [04:13<00:00,  2.52it/s]\n",
      "100%|██████████| 229/229 [00:39<00:00,  5.75it/s]\n"
     ]
    },
    {
     "name": "stdout",
     "output_type": "stream",
     "text": [
      "Train Loss: 0.1447 | Validation Loss: 0.1543\n",
      "Epoch 90/100\n",
      "Model is training on: cuda:0\n"
     ]
    },
    {
     "name": "stderr",
     "output_type": "stream",
     "text": [
      "100%|██████████| 640/640 [04:13<00:00,  2.52it/s]\n",
      "100%|██████████| 229/229 [00:39<00:00,  5.76it/s]\n"
     ]
    },
    {
     "name": "stdout",
     "output_type": "stream",
     "text": [
      "Train Loss: 0.1447 | Validation Loss: 0.1538\n",
      "Epoch 91/100\n",
      "Model is training on: cuda:0\n"
     ]
    },
    {
     "name": "stderr",
     "output_type": "stream",
     "text": [
      "100%|██████████| 640/640 [04:13<00:00,  2.52it/s]\n",
      "100%|██████████| 229/229 [00:39<00:00,  5.75it/s]\n"
     ]
    },
    {
     "name": "stdout",
     "output_type": "stream",
     "text": [
      "Train Loss: 0.1445 | Validation Loss: 0.1545\n",
      "Epoch 92/100\n",
      "Model is training on: cuda:0\n"
     ]
    },
    {
     "name": "stderr",
     "output_type": "stream",
     "text": [
      "100%|██████████| 640/640 [04:13<00:00,  2.52it/s]\n",
      "100%|██████████| 229/229 [00:39<00:00,  5.76it/s]\n"
     ]
    },
    {
     "name": "stdout",
     "output_type": "stream",
     "text": [
      "Train Loss: 0.1444 | Validation Loss: 0.1548\n",
      "Epoch 93/100\n",
      "Model is training on: cuda:0\n"
     ]
    },
    {
     "name": "stderr",
     "output_type": "stream",
     "text": [
      "100%|██████████| 640/640 [04:13<00:00,  2.52it/s]\n",
      "100%|██████████| 229/229 [00:39<00:00,  5.76it/s]\n"
     ]
    },
    {
     "name": "stdout",
     "output_type": "stream",
     "text": [
      "Train Loss: 0.1442 | Validation Loss: 0.1540\n",
      "Epoch 94/100\n",
      "Model is training on: cuda:0\n"
     ]
    },
    {
     "name": "stderr",
     "output_type": "stream",
     "text": [
      "100%|██████████| 640/640 [04:13<00:00,  2.52it/s]\n",
      "100%|██████████| 229/229 [00:39<00:00,  5.75it/s]\n"
     ]
    },
    {
     "name": "stdout",
     "output_type": "stream",
     "text": [
      "Train Loss: 0.1441 | Validation Loss: 0.1540\n",
      "Epoch 95/100\n",
      "Model is training on: cuda:0\n"
     ]
    },
    {
     "name": "stderr",
     "output_type": "stream",
     "text": [
      "100%|██████████| 640/640 [04:13<00:00,  2.52it/s]\n",
      "100%|██████████| 229/229 [00:39<00:00,  5.75it/s]\n"
     ]
    },
    {
     "name": "stdout",
     "output_type": "stream",
     "text": [
      "Train Loss: 0.1439 | Validation Loss: 0.1541\n",
      "Epoch 96/100\n",
      "Model is training on: cuda:0\n"
     ]
    },
    {
     "name": "stderr",
     "output_type": "stream",
     "text": [
      "100%|██████████| 640/640 [04:13<00:00,  2.52it/s]\n",
      "100%|██████████| 229/229 [00:39<00:00,  5.76it/s]\n"
     ]
    },
    {
     "name": "stdout",
     "output_type": "stream",
     "text": [
      "Train Loss: 0.1439 | Validation Loss: 0.1544\n",
      "Epoch 97/100\n",
      "Model is training on: cuda:0\n"
     ]
    },
    {
     "name": "stderr",
     "output_type": "stream",
     "text": [
      "100%|██████████| 640/640 [04:14<00:00,  2.52it/s]\n",
      "100%|██████████| 229/229 [00:39<00:00,  5.73it/s]\n"
     ]
    },
    {
     "name": "stdout",
     "output_type": "stream",
     "text": [
      "Train Loss: 0.1438 | Validation Loss: 0.1559\n",
      "Epoch 98/100\n",
      "Model is training on: cuda:0\n"
     ]
    },
    {
     "name": "stderr",
     "output_type": "stream",
     "text": [
      "100%|██████████| 640/640 [04:14<00:00,  2.52it/s]\n",
      "100%|██████████| 229/229 [00:39<00:00,  5.77it/s]\n"
     ]
    },
    {
     "name": "stdout",
     "output_type": "stream",
     "text": [
      "Train Loss: 0.1436 | Validation Loss: 0.1537\n",
      "Epoch 99/100\n",
      "Model is training on: cuda:0\n"
     ]
    },
    {
     "name": "stderr",
     "output_type": "stream",
     "text": [
      "100%|██████████| 640/640 [04:13<00:00,  2.52it/s]\n",
      "100%|██████████| 229/229 [00:39<00:00,  5.76it/s]\n"
     ]
    },
    {
     "name": "stdout",
     "output_type": "stream",
     "text": [
      "Train Loss: 0.1435 | Validation Loss: 0.1526\n",
      "Model saved!\n",
      "Epoch 100/100\n",
      "Model is training on: cuda:0\n"
     ]
    },
    {
     "name": "stderr",
     "output_type": "stream",
     "text": [
      "100%|██████████| 640/640 [04:13<00:00,  2.52it/s]\n",
      "100%|██████████| 229/229 [00:39<00:00,  5.75it/s]"
     ]
    },
    {
     "name": "stdout",
     "output_type": "stream",
     "text": [
      "Train Loss: 0.1433 | Validation Loss: 0.1559\n"
     ]
    },
    {
     "name": "stderr",
     "output_type": "stream",
     "text": [
      "\n"
     ]
    }
   ],
   "source": [
    "device = torch.device(\"cuda\" if torch.cuda.is_available() else \"cpu\")\n",
    "print(device)\n",
    "model = RCAN(num_features=64, num_groups=10, num_blocks=20, reduction=16, scale=10, in_channels=1, out_channels=1).to(device)\n",
    "\n",
    "learning_rate = 0.0001\n",
    "criterion = nn.L1Loss().to(device)\n",
    "optimizer = optim.Adam(model.parameters(), lr=learning_rate,weight_decay=1e-4)\n",
    "\n",
    "num_epochs = 100\n",
    "best_loss = float('inf')\n",
    "\n",
    "for epoch in range(num_epochs):\n",
    "    print(f'Epoch {epoch+1}/{num_epochs}')\n",
    "    print(f'Model is training on: {next(model.parameters()).device}')\n",
    "    train_loss = train_model(model, dataloader_train, criterion, optimizer, device)\n",
    "    val_loss = validate_model(model, dataloader_val, criterion, device)\n",
    "    print(f'Train Loss: {train_loss:.4f} | Validation Loss: {val_loss:.4f}')\n",
    "    \n",
    "    if val_loss < best_loss:\n",
    "        best_loss = val_loss\n",
    "        torch.save(model.state_dict(), 'G:/16_ECMWF/13_DL_modle/4_climate_590_330/RCAN/RCAN_wind.pth')\n",
    "        print('Model saved!')\n"
   ]
  },
  {
   "cell_type": "code",
   "execution_count": null,
   "id": "89c64bce-c85b-41c5-a0e4-27c58832c95f",
   "metadata": {},
   "outputs": [],
   "source": []
  }
 ],
 "metadata": {
  "kernelspec": {
   "display_name": "Python 3 (ipykernel)",
   "language": "python",
   "name": "python3"
  },
  "language_info": {
   "codemirror_mode": {
    "name": "ipython",
    "version": 3
   },
   "file_extension": ".py",
   "mimetype": "text/x-python",
   "name": "python",
   "nbconvert_exporter": "python",
   "pygments_lexer": "ipython3",
   "version": "3.9.21"
  }
 },
 "nbformat": 4,
 "nbformat_minor": 5
}
