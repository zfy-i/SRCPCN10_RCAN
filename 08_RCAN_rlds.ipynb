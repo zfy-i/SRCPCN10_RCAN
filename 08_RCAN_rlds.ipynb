{
 "cells": [
  {
   "cell_type": "code",
   "execution_count": 1,
   "id": "6e8395e0-9f7d-47dd-9f8c-a137f38adbec",
   "metadata": {},
   "outputs": [],
   "source": [
    "import os\n",
    "import torch\n",
    "from torch.utils.data import Dataset, DataLoader\n",
    "from torchvision import transforms\n",
    "import rasterio\n",
    "import numpy as np\n",
    "import torch.nn as nn\n",
    "import torch.optim as optim\n",
    "from skimage.transform import resize\n",
    "from tqdm import tqdm\n",
    "import pandas as pd\n",
    "import torchvision.transforms as transforms\n",
    "import matplotlib.pyplot as plt\n",
    "import geopandas as gpd\n",
    "from shapely.geometry import mapping\n",
    "from rasterio.features import geometry_mask\n",
    "import torch.nn.functional as F"
   ]
  },
  {
   "cell_type": "code",
   "execution_count": 2,
   "id": "f08848cd-bb91-4839-9207-4b7e377109bb",
   "metadata": {},
   "outputs": [
    {
     "name": "stdout",
     "output_type": "stream",
     "text": [
      "Using device: cuda\n"
     ]
    }
   ],
   "source": [
    "device = torch.device(\"cuda\" if torch.cuda.is_available() else \"cpu\")\n",
    "print(f\"Using device: {device}\")\n",
    "\n",
    "tif_path = \"D:/10_climate_10_590_330/1_tem/2017/tem_2017_01_01.tif\"\n",
    "with rasterio.open(tif_path) as src:\n",
    "        image_data = src.read(1)  # 读取第一个波段\n",
    "        transform = src.transform\n",
    "        crs = src.crs\n",
    "        bounds = src.bounds\n",
    "        height, width = src.height, src.width\n",
    "        profile = src.profile  # 获取文件元数据以便后续导出\n",
    "    \n",
    "shp_path = \"C:/Users/Administrator/Desktop/边界/中国/china.shp\"\n",
    "shapefile = gpd.read_file(shp_path)\n",
    "shapefile = shapefile.to_crs(crs)\n",
    "geometries = [mapping(geometry) for geometry in shapefile.geometry]\n",
    "mask = geometry_mask(geometries, transform=transform, invert=True, out_shape=(height, width))"
   ]
  },
  {
   "cell_type": "code",
   "execution_count": 3,
   "id": "8e70c6d1-be03-4fa6-9590-e53500c38c1a",
   "metadata": {},
   "outputs": [],
   "source": [
    "class SuperResolutionDataset(Dataset):\n",
    "    def __init__(self, lr_dirs, hr_dirs, transform=None):\n",
    "        self.lr_files = self._get_all_files(lr_dirs)\n",
    "        self.hr_files = self._get_all_files(hr_dirs)\n",
    "        self.transform = transform\n",
    "\n",
    "    def _get_all_files(self, dirs):\n",
    "        all_files = []\n",
    "        for directory in dirs:\n",
    "            for filename in sorted(os.listdir(directory)):  # 排序保证匹配\n",
    "                file_path = os.path.join(directory, filename)\n",
    "                if os.path.isfile(file_path):  # 确保是文件\n",
    "                    all_files.append(file_path)\n",
    "        return all_files\n",
    "\n",
    "    def __len__(self):\n",
    "        return len(self.lr_files)\n",
    "\n",
    "    def __getitem__(self, idx):\n",
    "        lr_path = self.lr_files[idx]\n",
    "        hr_path = self.hr_files[idx]\n",
    "        \n",
    "        with rasterio.open(lr_path) as lr_dataset:\n",
    "            lr_image = lr_dataset.read(1)\n",
    "            lr_image = lr_image/86400\n",
    "        with rasterio.open(hr_path) as hr_dataset:\n",
    "            hr_image = hr_dataset.read(1)\n",
    "            hr_image = hr_image/86400\n",
    "\n",
    "        # 如果有 transform，应用转换\n",
    "        if self.transform:\n",
    "            lr_image = self.transform(lr_image)\n",
    "            hr_image = self.transform(hr_image)\n",
    "\n",
    "        else:\n",
    "        # 如果没有 transform，转换为 PyTorch 张量\n",
    "            lr_image = torch.from_numpy(lr_image).float()  # (1, H, W)\n",
    "            hr_image = torch.from_numpy(hr_image).float()  # (1, H, W)\n",
    "\n",
    "        return lr_image, hr_image\n",
    "# 定义数据增强和预处理操作\n",
    "data_transforms = transforms.Compose([\n",
    "    transforms.ToTensor(),  # 将 NumPy 数组转换为 PyTorch 张量\n",
    "])\n",
    "\n",
    "def load_tiff_with_rasterio(file_path):\n",
    "    with rasterio.open(file_path) as src:\n",
    "        img = src.read(1)\n",
    "        img = img/86400\n",
    "    return img"
   ]
  },
  {
   "cell_type": "code",
   "execution_count": 4,
   "id": "233eeb80-7bb9-4708-bb1b-1c48a8f97e74",
   "metadata": {},
   "outputs": [],
   "source": [
    "year = list(range(2000,2014))\n",
    "lr_directories = []\n",
    "hr_directories = []\n",
    "for a_index,a in enumerate(year):\n",
    "    hr_path = f'D:/10_climate_10_590_330/9_ther_rad/{a}'\n",
    "    hr_directories.append(hr_path)\n",
    "    \n",
    "    lr_path = f'F:/6_climate_100_59_33/9_ther_rad/{a}'\n",
    "    lr_directories.append(lr_path)\n",
    "dataset_train = SuperResolutionDataset(lr_dirs=lr_directories, hr_dirs=hr_directories, transform=data_transforms)\n",
    "dataloader_train = DataLoader(dataset_train, batch_size=8, shuffle=True, num_workers=0)\n",
    "\n",
    "year = list(range(2014,2019))\n",
    "lr_directories = []\n",
    "hr_directories = []\n",
    "for a_index,a in enumerate(year):\n",
    "    hr_path = f'D:/10_climate_10_590_330/9_ther_rad/{a}'\n",
    "    hr_directories.append(hr_path)\n",
    "    \n",
    "    lr_path = f'F:/6_climate_100_59_33/9_ther_rad/{a}'\n",
    "    lr_directories.append(lr_path)\n",
    "dataset_val = SuperResolutionDataset(lr_dirs=lr_directories, hr_dirs=hr_directories, transform=data_transforms)\n",
    "dataloader_val = DataLoader(dataset_val, batch_size=8, shuffle=True, num_workers=0)\n",
    "\n",
    "year = list(range(2019,2024))\n",
    "lr_directories = []\n",
    "hr_directories = []\n",
    "for a_index,a in enumerate(year):\n",
    "    hr_path = f'D:/10_climate_10_590_330/9_ther_rad/{a}'\n",
    "    hr_directories.append(hr_path)\n",
    "    \n",
    "    lr_path = f'F:/6_climate_100_59_33/9_ther_rad/{a}'\n",
    "    lr_directories.append(lr_path)\n",
    "dataset_test = SuperResolutionDataset(lr_dirs=lr_directories, hr_dirs=hr_directories, transform=data_transforms)\n",
    "dataloader_test = DataLoader(dataset_test, batch_size=8, shuffle=True, num_workers=0)"
   ]
  },
  {
   "cell_type": "code",
   "execution_count": 5,
   "id": "d6f27605-efc1-421d-a519-155b75ac566d",
   "metadata": {},
   "outputs": [],
   "source": [
    "def train_model(model, dataloader, criterion, optimizer, device):\n",
    "    model.train()\n",
    "    running_loss = 0.0\n",
    "    for inputs, targets in tqdm(dataloader):\n",
    "        inputs  = inputs.float().to(device)\n",
    "        targets = targets.float().to(device)\n",
    "\n",
    "        inputs[torch.isnan(inputs)] = 0\n",
    "        targets[torch.isnan(targets)] = 0\n",
    "\n",
    "        assert not torch.isnan(inputs).any(), \"Input contains NaN values\"\n",
    "        assert not torch.isnan(targets).any(), \"Target contains NaN values\"\n",
    "        \n",
    "        optimizer.zero_grad()\n",
    "        outputs_up = model(inputs)\n",
    "\n",
    "        loss = criterion(outputs_up, targets).to(device)\n",
    "        loss.backward()\n",
    "        optimizer.step()\n",
    "\n",
    "        running_loss += loss.item() * inputs.size(0)\n",
    "\n",
    "    epoch_loss = running_loss / len(dataloader.dataset)\n",
    "    return epoch_loss\n",
    "\n",
    "def validate_model(model, dataloader, criterion, device):\n",
    "    model.eval()\n",
    "    running_loss = 0.0\n",
    "    with torch.no_grad():\n",
    "        for inputs, targets in tqdm(dataloader):\n",
    "            inputs = inputs.float().to(device)\n",
    "            targets =  targets.float().to(device)\n",
    "            inputs[torch.isnan(inputs)] = 0\n",
    "            targets[torch.isnan(targets)] = 0\n",
    "\n",
    "            outputs = model(inputs)\n",
    "\n",
    "            loss = criterion(outputs, targets)\n",
    "            running_loss += loss.item() * inputs.size(0)\n",
    "\n",
    "    epoch_loss = running_loss / len(dataloader.dataset)\n",
    "    return epoch_loss\n"
   ]
  },
  {
   "cell_type": "code",
   "execution_count": 6,
   "id": "eb48869c-46fd-44dc-85c0-ad02863579db",
   "metadata": {},
   "outputs": [],
   "source": [
    "import torch\n",
    "import torch.nn as nn\n",
    "\n",
    "class ChannelAttention(nn.Module):\n",
    "    def __init__(self, num_features, reduction=16):\n",
    "        super(ChannelAttention, self).__init__()\n",
    "        self.avg_pool = nn.AdaptiveAvgPool2d(1)\n",
    "        self.conv = nn.Sequential(\n",
    "            nn.Conv2d(num_features, num_features // reduction, 1, padding=0, bias=True),\n",
    "            nn.ReLU(inplace=True),\n",
    "            nn.Conv2d(num_features // reduction, num_features, 1, padding=0, bias=True),\n",
    "            nn.Sigmoid()\n",
    "        )\n",
    "\n",
    "    def forward(self, x):\n",
    "        y = self.avg_pool(x)\n",
    "        y = self.conv(y)\n",
    "        return x * y\n",
    "\n",
    "class RCAB(nn.Module):\n",
    "    def __init__(self, num_features, reduction):\n",
    "        super(RCAB, self).__init__()\n",
    "        self.body = nn.Sequential(\n",
    "            nn.Conv2d(num_features, num_features, 3, padding=1),\n",
    "            nn.ReLU(inplace=True),\n",
    "            nn.Conv2d(num_features, num_features, 3, padding=1),\n",
    "            ChannelAttention(num_features, reduction)\n",
    "        )\n",
    "\n",
    "    def forward(self, x):\n",
    "        return x + self.body(x)\n",
    "\n",
    "class ResidualGroup(nn.Module):\n",
    "    def __init__(self, num_features, num_blocks, reduction):\n",
    "        super(ResidualGroup, self).__init__()\n",
    "        self.body = nn.Sequential(\n",
    "            *[RCAB(num_features, reduction) for _ in range(num_blocks)],\n",
    "            nn.Conv2d(num_features, num_features, 3, padding=1)\n",
    "        )\n",
    "\n",
    "    def forward(self, x):\n",
    "        return x + self.body(x)\n",
    "\n",
    "class RCAN(nn.Module):\n",
    "    def __init__(self, num_features=64, num_groups=10, num_blocks=20, reduction=16, scale=10, in_channels=1, out_channels=1):\n",
    "        super(RCAN, self).__init__()\n",
    "        \n",
    "        self.conv1 = nn.Conv2d(in_channels, num_features, 3, padding=1)\n",
    "        \n",
    "        self.body = nn.Sequential(\n",
    "            *[ResidualGroup(num_features, num_blocks, reduction) for _ in range(num_groups)],\n",
    "            nn.Conv2d(num_features, num_features, 3, padding=1)\n",
    "        )\n",
    "        \n",
    "        self.upsample = nn.Sequential(\n",
    "            nn.Conv2d(num_features, num_features * (scale ** 2), 3, padding=1),\n",
    "            nn.PixelShuffle(scale)\n",
    "        )\n",
    "        \n",
    "        self.conv2 = nn.Conv2d(num_features, out_channels, 3, padding=1)\n",
    "\n",
    "    def forward(self, x):\n",
    "        x = self.conv1(x)\n",
    "        res = self.body(x)\n",
    "        res += x\n",
    "        x = self.upsample(res)\n",
    "        x = self.conv2(x)\n",
    "        return x"
   ]
  },
  {
   "cell_type": "code",
   "execution_count": 7,
   "id": "737d144a-9d67-4ef9-a120-edccf1b0c99f",
   "metadata": {
    "scrolled": true
   },
   "outputs": [
    {
     "name": "stdout",
     "output_type": "stream",
     "text": [
      "cuda\n",
      "Epoch 1/100\n",
      "Model is training on: cuda:0\n"
     ]
    },
    {
     "name": "stderr",
     "output_type": "stream",
     "text": [
      "100%|██████████| 640/640 [04:38<00:00,  2.30it/s]\n",
      "100%|██████████| 229/229 [00:45<00:00,  4.99it/s]\n"
     ]
    },
    {
     "name": "stdout",
     "output_type": "stream",
     "text": [
      "Train Loss: 44.0393 | Validation Loss: 8.7145\n",
      "Model saved!\n",
      "Epoch 2/100\n",
      "Model is training on: cuda:0\n"
     ]
    },
    {
     "name": "stderr",
     "output_type": "stream",
     "text": [
      "100%|██████████| 640/640 [04:34<00:00,  2.33it/s]\n",
      "100%|██████████| 229/229 [00:45<00:00,  5.05it/s]\n"
     ]
    },
    {
     "name": "stdout",
     "output_type": "stream",
     "text": [
      "Train Loss: 7.5630 | Validation Loss: 6.1223\n",
      "Model saved!\n",
      "Epoch 3/100\n",
      "Model is training on: cuda:0\n"
     ]
    },
    {
     "name": "stderr",
     "output_type": "stream",
     "text": [
      "100%|██████████| 640/640 [04:32<00:00,  2.35it/s]\n",
      "100%|██████████| 229/229 [00:44<00:00,  5.19it/s]\n"
     ]
    },
    {
     "name": "stdout",
     "output_type": "stream",
     "text": [
      "Train Loss: 5.6030 | Validation Loss: 5.0166\n",
      "Model saved!\n",
      "Epoch 4/100\n",
      "Model is training on: cuda:0\n"
     ]
    },
    {
     "name": "stderr",
     "output_type": "stream",
     "text": [
      "100%|██████████| 640/640 [04:34<00:00,  2.33it/s]\n",
      "100%|██████████| 229/229 [00:44<00:00,  5.15it/s]\n"
     ]
    },
    {
     "name": "stdout",
     "output_type": "stream",
     "text": [
      "Train Loss: 4.7322 | Validation Loss: 4.2057\n",
      "Model saved!\n",
      "Epoch 5/100\n",
      "Model is training on: cuda:0\n"
     ]
    },
    {
     "name": "stderr",
     "output_type": "stream",
     "text": [
      "100%|██████████| 640/640 [04:35<00:00,  2.33it/s]\n",
      "100%|██████████| 229/229 [00:44<00:00,  5.09it/s]\n"
     ]
    },
    {
     "name": "stdout",
     "output_type": "stream",
     "text": [
      "Train Loss: 4.2617 | Validation Loss: 3.7478\n",
      "Model saved!\n",
      "Epoch 6/100\n",
      "Model is training on: cuda:0\n"
     ]
    },
    {
     "name": "stderr",
     "output_type": "stream",
     "text": [
      "100%|██████████| 640/640 [04:37<00:00,  2.31it/s]\n",
      "100%|██████████| 229/229 [00:45<00:00,  5.08it/s]\n"
     ]
    },
    {
     "name": "stdout",
     "output_type": "stream",
     "text": [
      "Train Loss: 3.8746 | Validation Loss: 3.8914\n",
      "Epoch 7/100\n",
      "Model is training on: cuda:0\n"
     ]
    },
    {
     "name": "stderr",
     "output_type": "stream",
     "text": [
      "100%|██████████| 640/640 [04:29<00:00,  2.37it/s]\n",
      "100%|██████████| 229/229 [00:44<00:00,  5.13it/s]\n"
     ]
    },
    {
     "name": "stdout",
     "output_type": "stream",
     "text": [
      "Train Loss: 3.4933 | Validation Loss: 3.0944\n",
      "Model saved!\n",
      "Epoch 8/100\n",
      "Model is training on: cuda:0\n"
     ]
    },
    {
     "name": "stderr",
     "output_type": "stream",
     "text": [
      "100%|██████████| 640/640 [04:26<00:00,  2.40it/s]\n",
      "100%|██████████| 229/229 [00:43<00:00,  5.31it/s]\n"
     ]
    },
    {
     "name": "stdout",
     "output_type": "stream",
     "text": [
      "Train Loss: 3.3189 | Validation Loss: 2.9760\n",
      "Model saved!\n",
      "Epoch 9/100\n",
      "Model is training on: cuda:0\n"
     ]
    },
    {
     "name": "stderr",
     "output_type": "stream",
     "text": [
      "100%|██████████| 640/640 [04:26<00:00,  2.40it/s]\n",
      "100%|██████████| 229/229 [00:43<00:00,  5.31it/s]\n"
     ]
    },
    {
     "name": "stdout",
     "output_type": "stream",
     "text": [
      "Train Loss: 2.9581 | Validation Loss: 2.5850\n",
      "Model saved!\n",
      "Epoch 10/100\n",
      "Model is training on: cuda:0\n"
     ]
    },
    {
     "name": "stderr",
     "output_type": "stream",
     "text": [
      "100%|██████████| 640/640 [04:30<00:00,  2.37it/s]\n",
      "100%|██████████| 229/229 [00:44<00:00,  5.18it/s]\n"
     ]
    },
    {
     "name": "stdout",
     "output_type": "stream",
     "text": [
      "Train Loss: 2.7534 | Validation Loss: 2.4945\n",
      "Model saved!\n",
      "Epoch 11/100\n",
      "Model is training on: cuda:0\n"
     ]
    },
    {
     "name": "stderr",
     "output_type": "stream",
     "text": [
      "100%|██████████| 640/640 [04:33<00:00,  2.34it/s]\n",
      "100%|██████████| 229/229 [00:44<00:00,  5.14it/s]\n"
     ]
    },
    {
     "name": "stdout",
     "output_type": "stream",
     "text": [
      "Train Loss: 2.7947 | Validation Loss: 2.5803\n",
      "Epoch 12/100\n",
      "Model is training on: cuda:0\n"
     ]
    },
    {
     "name": "stderr",
     "output_type": "stream",
     "text": [
      "100%|██████████| 640/640 [04:32<00:00,  2.35it/s]\n",
      "100%|██████████| 229/229 [00:44<00:00,  5.15it/s]\n"
     ]
    },
    {
     "name": "stdout",
     "output_type": "stream",
     "text": [
      "Train Loss: 2.4740 | Validation Loss: 2.6506\n",
      "Epoch 13/100\n",
      "Model is training on: cuda:0\n"
     ]
    },
    {
     "name": "stderr",
     "output_type": "stream",
     "text": [
      "100%|██████████| 640/640 [04:32<00:00,  2.35it/s]\n",
      "100%|██████████| 229/229 [00:44<00:00,  5.13it/s]\n"
     ]
    },
    {
     "name": "stdout",
     "output_type": "stream",
     "text": [
      "Train Loss: 2.3831 | Validation Loss: 2.2143\n",
      "Model saved!\n",
      "Epoch 14/100\n",
      "Model is training on: cuda:0\n"
     ]
    },
    {
     "name": "stderr",
     "output_type": "stream",
     "text": [
      "100%|██████████| 640/640 [04:34<00:00,  2.34it/s]\n",
      "100%|██████████| 229/229 [00:44<00:00,  5.15it/s]\n"
     ]
    },
    {
     "name": "stdout",
     "output_type": "stream",
     "text": [
      "Train Loss: 2.2996 | Validation Loss: 1.9681\n",
      "Model saved!\n",
      "Epoch 15/100\n",
      "Model is training on: cuda:0\n"
     ]
    },
    {
     "name": "stderr",
     "output_type": "stream",
     "text": [
      "100%|██████████| 640/640 [04:32<00:00,  2.35it/s]\n",
      "100%|██████████| 229/229 [00:44<00:00,  5.18it/s]\n"
     ]
    },
    {
     "name": "stdout",
     "output_type": "stream",
     "text": [
      "Train Loss: 2.1896 | Validation Loss: 2.3559\n",
      "Epoch 16/100\n",
      "Model is training on: cuda:0\n"
     ]
    },
    {
     "name": "stderr",
     "output_type": "stream",
     "text": [
      "100%|██████████| 640/640 [04:29<00:00,  2.37it/s]\n",
      "100%|██████████| 229/229 [00:44<00:00,  5.19it/s]\n"
     ]
    },
    {
     "name": "stdout",
     "output_type": "stream",
     "text": [
      "Train Loss: 2.2296 | Validation Loss: 2.0116\n",
      "Epoch 17/100\n",
      "Model is training on: cuda:0\n"
     ]
    },
    {
     "name": "stderr",
     "output_type": "stream",
     "text": [
      "100%|██████████| 640/640 [04:30<00:00,  2.36it/s]\n",
      "100%|██████████| 229/229 [00:43<00:00,  5.27it/s]\n"
     ]
    },
    {
     "name": "stdout",
     "output_type": "stream",
     "text": [
      "Train Loss: 2.0970 | Validation Loss: 1.8090\n",
      "Model saved!\n",
      "Epoch 18/100\n",
      "Model is training on: cuda:0\n"
     ]
    },
    {
     "name": "stderr",
     "output_type": "stream",
     "text": [
      "100%|██████████| 640/640 [04:28<00:00,  2.39it/s]\n",
      "100%|██████████| 229/229 [00:43<00:00,  5.28it/s]\n"
     ]
    },
    {
     "name": "stdout",
     "output_type": "stream",
     "text": [
      "Train Loss: 1.9769 | Validation Loss: 1.8700\n",
      "Epoch 19/100\n",
      "Model is training on: cuda:0\n"
     ]
    },
    {
     "name": "stderr",
     "output_type": "stream",
     "text": [
      "100%|██████████| 640/640 [04:35<00:00,  2.32it/s]\n",
      "100%|██████████| 229/229 [00:45<00:00,  4.99it/s]\n"
     ]
    },
    {
     "name": "stdout",
     "output_type": "stream",
     "text": [
      "Train Loss: 2.0295 | Validation Loss: 1.8406\n",
      "Epoch 20/100\n",
      "Model is training on: cuda:0\n"
     ]
    },
    {
     "name": "stderr",
     "output_type": "stream",
     "text": [
      "100%|██████████| 640/640 [04:42<00:00,  2.26it/s]\n",
      "100%|██████████| 229/229 [00:45<00:00,  4.99it/s]\n"
     ]
    },
    {
     "name": "stdout",
     "output_type": "stream",
     "text": [
      "Train Loss: 1.8383 | Validation Loss: 1.9707\n",
      "Epoch 21/100\n",
      "Model is training on: cuda:0\n"
     ]
    },
    {
     "name": "stderr",
     "output_type": "stream",
     "text": [
      "100%|██████████| 640/640 [04:41<00:00,  2.27it/s]\n",
      "100%|██████████| 229/229 [00:45<00:00,  5.01it/s]\n"
     ]
    },
    {
     "name": "stdout",
     "output_type": "stream",
     "text": [
      "Train Loss: 1.8282 | Validation Loss: 1.9422\n",
      "Epoch 22/100\n",
      "Model is training on: cuda:0\n"
     ]
    },
    {
     "name": "stderr",
     "output_type": "stream",
     "text": [
      "100%|██████████| 640/640 [04:40<00:00,  2.28it/s]\n",
      "100%|██████████| 229/229 [00:45<00:00,  5.03it/s]\n"
     ]
    },
    {
     "name": "stdout",
     "output_type": "stream",
     "text": [
      "Train Loss: 1.8305 | Validation Loss: 1.8476\n",
      "Epoch 23/100\n",
      "Model is training on: cuda:0\n"
     ]
    },
    {
     "name": "stderr",
     "output_type": "stream",
     "text": [
      "100%|██████████| 640/640 [04:39<00:00,  2.29it/s]\n",
      "100%|██████████| 229/229 [00:44<00:00,  5.16it/s]\n"
     ]
    },
    {
     "name": "stdout",
     "output_type": "stream",
     "text": [
      "Train Loss: 62.7235 | Validation Loss: 15.4101\n",
      "Epoch 24/100\n",
      "Model is training on: cuda:0\n"
     ]
    },
    {
     "name": "stderr",
     "output_type": "stream",
     "text": [
      "100%|██████████| 640/640 [04:29<00:00,  2.37it/s]\n",
      "100%|██████████| 229/229 [00:43<00:00,  5.26it/s]\n"
     ]
    },
    {
     "name": "stdout",
     "output_type": "stream",
     "text": [
      "Train Loss: 8.0904 | Validation Loss: 6.2707\n",
      "Epoch 25/100\n",
      "Model is training on: cuda:0\n"
     ]
    },
    {
     "name": "stderr",
     "output_type": "stream",
     "text": [
      "100%|██████████| 640/640 [04:30<00:00,  2.36it/s]\n",
      "100%|██████████| 229/229 [00:44<00:00,  5.10it/s]\n"
     ]
    },
    {
     "name": "stdout",
     "output_type": "stream",
     "text": [
      "Train Loss: 5.0929 | Validation Loss: 4.6131\n",
      "Epoch 26/100\n",
      "Model is training on: cuda:0\n"
     ]
    },
    {
     "name": "stderr",
     "output_type": "stream",
     "text": [
      "100%|██████████| 640/640 [04:30<00:00,  2.37it/s]\n",
      "100%|██████████| 229/229 [00:43<00:00,  5.22it/s]\n"
     ]
    },
    {
     "name": "stdout",
     "output_type": "stream",
     "text": [
      "Train Loss: 4.3709 | Validation Loss: 4.0478\n",
      "Epoch 27/100\n",
      "Model is training on: cuda:0\n"
     ]
    },
    {
     "name": "stderr",
     "output_type": "stream",
     "text": [
      "100%|██████████| 640/640 [04:41<00:00,  2.27it/s]\n",
      "100%|██████████| 229/229 [00:43<00:00,  5.25it/s]\n"
     ]
    },
    {
     "name": "stdout",
     "output_type": "stream",
     "text": [
      "Train Loss: 3.7609 | Validation Loss: 3.4888\n",
      "Epoch 28/100\n",
      "Model is training on: cuda:0\n"
     ]
    },
    {
     "name": "stderr",
     "output_type": "stream",
     "text": [
      "100%|██████████| 640/640 [04:35<00:00,  2.32it/s]\n",
      "100%|██████████| 229/229 [00:46<00:00,  4.97it/s]\n"
     ]
    },
    {
     "name": "stdout",
     "output_type": "stream",
     "text": [
      "Train Loss: 3.4240 | Validation Loss: 3.1473\n",
      "Epoch 29/100\n",
      "Model is training on: cuda:0\n"
     ]
    },
    {
     "name": "stderr",
     "output_type": "stream",
     "text": [
      "100%|██████████| 640/640 [04:40<00:00,  2.28it/s]\n",
      "100%|██████████| 229/229 [00:44<00:00,  5.10it/s]\n"
     ]
    },
    {
     "name": "stdout",
     "output_type": "stream",
     "text": [
      "Train Loss: 3.0528 | Validation Loss: 3.2200\n",
      "Epoch 30/100\n",
      "Model is training on: cuda:0\n"
     ]
    },
    {
     "name": "stderr",
     "output_type": "stream",
     "text": [
      "100%|██████████| 640/640 [04:38<00:00,  2.29it/s]\n",
      "100%|██████████| 229/229 [00:44<00:00,  5.09it/s]\n"
     ]
    },
    {
     "name": "stdout",
     "output_type": "stream",
     "text": [
      "Train Loss: 2.8767 | Validation Loss: 2.5627\n",
      "Epoch 31/100\n",
      "Model is training on: cuda:0\n"
     ]
    },
    {
     "name": "stderr",
     "output_type": "stream",
     "text": [
      "100%|██████████| 640/640 [04:37<00:00,  2.31it/s]\n",
      "100%|██████████| 229/229 [00:44<00:00,  5.09it/s]\n"
     ]
    },
    {
     "name": "stdout",
     "output_type": "stream",
     "text": [
      "Train Loss: 2.7467 | Validation Loss: 2.4751\n",
      "Epoch 32/100\n",
      "Model is training on: cuda:0\n"
     ]
    },
    {
     "name": "stderr",
     "output_type": "stream",
     "text": [
      "100%|██████████| 640/640 [04:37<00:00,  2.31it/s]\n",
      "100%|██████████| 229/229 [00:45<00:00,  5.09it/s]\n"
     ]
    },
    {
     "name": "stdout",
     "output_type": "stream",
     "text": [
      "Train Loss: 2.5528 | Validation Loss: 2.2440\n",
      "Epoch 33/100\n",
      "Model is training on: cuda:0\n"
     ]
    },
    {
     "name": "stderr",
     "output_type": "stream",
     "text": [
      "100%|██████████| 640/640 [04:37<00:00,  2.30it/s]\n",
      "100%|██████████| 229/229 [00:45<00:00,  5.05it/s]\n"
     ]
    },
    {
     "name": "stdout",
     "output_type": "stream",
     "text": [
      "Train Loss: 2.3899 | Validation Loss: 2.5749\n",
      "Epoch 34/100\n",
      "Model is training on: cuda:0\n"
     ]
    },
    {
     "name": "stderr",
     "output_type": "stream",
     "text": [
      "100%|██████████| 640/640 [04:36<00:00,  2.31it/s]\n",
      "100%|██████████| 229/229 [00:45<00:00,  5.07it/s]\n"
     ]
    },
    {
     "name": "stdout",
     "output_type": "stream",
     "text": [
      "Train Loss: 2.2826 | Validation Loss: 2.7222\n",
      "Epoch 35/100\n",
      "Model is training on: cuda:0\n"
     ]
    },
    {
     "name": "stderr",
     "output_type": "stream",
     "text": [
      "100%|██████████| 640/640 [04:41<00:00,  2.28it/s]\n",
      "100%|██████████| 229/229 [00:45<00:00,  5.04it/s]\n"
     ]
    },
    {
     "name": "stdout",
     "output_type": "stream",
     "text": [
      "Train Loss: 2.1697 | Validation Loss: 2.3539\n",
      "Epoch 36/100\n",
      "Model is training on: cuda:0\n"
     ]
    },
    {
     "name": "stderr",
     "output_type": "stream",
     "text": [
      "100%|██████████| 640/640 [04:39<00:00,  2.29it/s]\n",
      "100%|██████████| 229/229 [00:45<00:00,  5.06it/s]\n"
     ]
    },
    {
     "name": "stdout",
     "output_type": "stream",
     "text": [
      "Train Loss: 2.1125 | Validation Loss: 2.3949\n",
      "Epoch 37/100\n",
      "Model is training on: cuda:0\n"
     ]
    },
    {
     "name": "stderr",
     "output_type": "stream",
     "text": [
      "100%|██████████| 640/640 [04:40<00:00,  2.29it/s]\n",
      "100%|██████████| 229/229 [00:45<00:00,  5.08it/s]\n"
     ]
    },
    {
     "name": "stdout",
     "output_type": "stream",
     "text": [
      "Train Loss: 2.0168 | Validation Loss: 1.7561\n",
      "Model saved!\n",
      "Epoch 38/100\n",
      "Model is training on: cuda:0\n"
     ]
    },
    {
     "name": "stderr",
     "output_type": "stream",
     "text": [
      "100%|██████████| 640/640 [04:38<00:00,  2.30it/s]\n",
      "100%|██████████| 229/229 [00:45<00:00,  5.06it/s]\n"
     ]
    },
    {
     "name": "stdout",
     "output_type": "stream",
     "text": [
      "Train Loss: 1.8983 | Validation Loss: 1.8167\n",
      "Epoch 39/100\n",
      "Model is training on: cuda:0\n"
     ]
    },
    {
     "name": "stderr",
     "output_type": "stream",
     "text": [
      "100%|██████████| 640/640 [04:37<00:00,  2.30it/s]\n",
      "100%|██████████| 229/229 [00:44<00:00,  5.10it/s]\n"
     ]
    },
    {
     "name": "stdout",
     "output_type": "stream",
     "text": [
      "Train Loss: 1.8745 | Validation Loss: 2.7434\n",
      "Epoch 40/100\n",
      "Model is training on: cuda:0\n"
     ]
    },
    {
     "name": "stderr",
     "output_type": "stream",
     "text": [
      "100%|██████████| 640/640 [04:37<00:00,  2.31it/s]\n",
      "100%|██████████| 229/229 [00:44<00:00,  5.11it/s]\n"
     ]
    },
    {
     "name": "stdout",
     "output_type": "stream",
     "text": [
      "Train Loss: 1.9076 | Validation Loss: 2.0828\n",
      "Epoch 41/100\n",
      "Model is training on: cuda:0\n"
     ]
    },
    {
     "name": "stderr",
     "output_type": "stream",
     "text": [
      "100%|██████████| 640/640 [04:37<00:00,  2.31it/s]\n",
      "100%|██████████| 229/229 [00:44<00:00,  5.12it/s]\n"
     ]
    },
    {
     "name": "stdout",
     "output_type": "stream",
     "text": [
      "Train Loss: 1.8174 | Validation Loss: 1.6518\n",
      "Model saved!\n",
      "Epoch 42/100\n",
      "Model is training on: cuda:0\n"
     ]
    },
    {
     "name": "stderr",
     "output_type": "stream",
     "text": [
      "100%|██████████| 640/640 [04:39<00:00,  2.29it/s]\n",
      "100%|██████████| 229/229 [00:46<00:00,  4.96it/s]\n"
     ]
    },
    {
     "name": "stdout",
     "output_type": "stream",
     "text": [
      "Train Loss: 1.7697 | Validation Loss: 1.9476\n",
      "Epoch 43/100\n",
      "Model is training on: cuda:0\n"
     ]
    },
    {
     "name": "stderr",
     "output_type": "stream",
     "text": [
      "100%|██████████| 640/640 [04:44<00:00,  2.25it/s]\n",
      "100%|██████████| 229/229 [00:46<00:00,  4.96it/s]\n"
     ]
    },
    {
     "name": "stdout",
     "output_type": "stream",
     "text": [
      "Train Loss: 1.7502 | Validation Loss: 1.6101\n",
      "Model saved!\n",
      "Epoch 44/100\n",
      "Model is training on: cuda:0\n"
     ]
    },
    {
     "name": "stderr",
     "output_type": "stream",
     "text": [
      "100%|██████████| 640/640 [04:41<00:00,  2.27it/s]\n",
      "100%|██████████| 229/229 [00:45<00:00,  5.06it/s]\n"
     ]
    },
    {
     "name": "stdout",
     "output_type": "stream",
     "text": [
      "Train Loss: 1.8097 | Validation Loss: 1.9215\n",
      "Epoch 45/100\n",
      "Model is training on: cuda:0\n"
     ]
    },
    {
     "name": "stderr",
     "output_type": "stream",
     "text": [
      "100%|██████████| 640/640 [04:38<00:00,  2.30it/s]\n",
      "100%|██████████| 229/229 [00:45<00:00,  5.03it/s]\n"
     ]
    },
    {
     "name": "stdout",
     "output_type": "stream",
     "text": [
      "Train Loss: 1.7618 | Validation Loss: 2.5033\n",
      "Epoch 46/100\n",
      "Model is training on: cuda:0\n"
     ]
    },
    {
     "name": "stderr",
     "output_type": "stream",
     "text": [
      "100%|██████████| 640/640 [04:39<00:00,  2.29it/s]\n",
      "100%|██████████| 229/229 [00:44<00:00,  5.16it/s]\n"
     ]
    },
    {
     "name": "stdout",
     "output_type": "stream",
     "text": [
      "Train Loss: 1.6915 | Validation Loss: 1.5013\n",
      "Model saved!\n",
      "Epoch 47/100\n",
      "Model is training on: cuda:0\n"
     ]
    },
    {
     "name": "stderr",
     "output_type": "stream",
     "text": [
      "100%|██████████| 640/640 [04:33<00:00,  2.34it/s]\n",
      "100%|██████████| 229/229 [00:43<00:00,  5.25it/s]\n"
     ]
    },
    {
     "name": "stdout",
     "output_type": "stream",
     "text": [
      "Train Loss: 1.6180 | Validation Loss: 1.7448\n",
      "Epoch 48/100\n",
      "Model is training on: cuda:0\n"
     ]
    },
    {
     "name": "stderr",
     "output_type": "stream",
     "text": [
      "100%|██████████| 640/640 [04:30<00:00,  2.37it/s]\n",
      "100%|██████████| 229/229 [00:44<00:00,  5.12it/s]\n"
     ]
    },
    {
     "name": "stdout",
     "output_type": "stream",
     "text": [
      "Train Loss: 1.7169 | Validation Loss: 1.5058\n",
      "Epoch 49/100\n",
      "Model is training on: cuda:0\n"
     ]
    },
    {
     "name": "stderr",
     "output_type": "stream",
     "text": [
      "100%|██████████| 640/640 [04:30<00:00,  2.37it/s]\n",
      "100%|██████████| 229/229 [00:44<00:00,  5.17it/s]\n"
     ]
    },
    {
     "name": "stdout",
     "output_type": "stream",
     "text": [
      "Train Loss: 1.6629 | Validation Loss: 1.7534\n",
      "Epoch 50/100\n",
      "Model is training on: cuda:0\n"
     ]
    },
    {
     "name": "stderr",
     "output_type": "stream",
     "text": [
      "100%|██████████| 640/640 [04:30<00:00,  2.36it/s]\n",
      "100%|██████████| 229/229 [00:43<00:00,  5.21it/s]\n"
     ]
    },
    {
     "name": "stdout",
     "output_type": "stream",
     "text": [
      "Train Loss: 1.5374 | Validation Loss: 1.5084\n",
      "Epoch 51/100\n",
      "Model is training on: cuda:0\n"
     ]
    },
    {
     "name": "stderr",
     "output_type": "stream",
     "text": [
      "100%|██████████| 640/640 [04:31<00:00,  2.36it/s]\n",
      "100%|██████████| 229/229 [00:44<00:00,  5.19it/s]\n"
     ]
    },
    {
     "name": "stdout",
     "output_type": "stream",
     "text": [
      "Train Loss: 1.5552 | Validation Loss: 1.4940\n",
      "Model saved!\n",
      "Epoch 52/100\n",
      "Model is training on: cuda:0\n"
     ]
    },
    {
     "name": "stderr",
     "output_type": "stream",
     "text": [
      "100%|██████████| 640/640 [04:30<00:00,  2.37it/s]\n",
      "100%|██████████| 229/229 [00:43<00:00,  5.22it/s]\n"
     ]
    },
    {
     "name": "stdout",
     "output_type": "stream",
     "text": [
      "Train Loss: 1.6423 | Validation Loss: 1.3914\n",
      "Model saved!\n",
      "Epoch 53/100\n",
      "Model is training on: cuda:0\n"
     ]
    },
    {
     "name": "stderr",
     "output_type": "stream",
     "text": [
      "100%|██████████| 640/640 [04:31<00:00,  2.36it/s]\n",
      "100%|██████████| 229/229 [00:45<00:00,  5.09it/s]\n"
     ]
    },
    {
     "name": "stdout",
     "output_type": "stream",
     "text": [
      "Train Loss: 1.5617 | Validation Loss: 1.4596\n",
      "Epoch 54/100\n",
      "Model is training on: cuda:0\n"
     ]
    },
    {
     "name": "stderr",
     "output_type": "stream",
     "text": [
      "100%|██████████| 640/640 [04:30<00:00,  2.36it/s]\n",
      "100%|██████████| 229/229 [00:43<00:00,  5.22it/s]\n"
     ]
    },
    {
     "name": "stdout",
     "output_type": "stream",
     "text": [
      "Train Loss: 1.4933 | Validation Loss: 1.4010\n",
      "Epoch 55/100\n",
      "Model is training on: cuda:0\n"
     ]
    },
    {
     "name": "stderr",
     "output_type": "stream",
     "text": [
      "100%|██████████| 640/640 [04:32<00:00,  2.35it/s]\n",
      "100%|██████████| 229/229 [00:44<00:00,  5.17it/s]\n"
     ]
    },
    {
     "name": "stdout",
     "output_type": "stream",
     "text": [
      "Train Loss: 1.5811 | Validation Loss: 1.6027\n",
      "Epoch 56/100\n",
      "Model is training on: cuda:0\n"
     ]
    },
    {
     "name": "stderr",
     "output_type": "stream",
     "text": [
      "100%|██████████| 640/640 [04:32<00:00,  2.35it/s]\n",
      "100%|██████████| 229/229 [00:43<00:00,  5.29it/s]\n"
     ]
    },
    {
     "name": "stdout",
     "output_type": "stream",
     "text": [
      "Train Loss: 1.5303 | Validation Loss: 1.5916\n",
      "Epoch 57/100\n",
      "Model is training on: cuda:0\n"
     ]
    },
    {
     "name": "stderr",
     "output_type": "stream",
     "text": [
      "100%|██████████| 640/640 [04:27<00:00,  2.40it/s]\n",
      "100%|██████████| 229/229 [00:43<00:00,  5.27it/s]\n"
     ]
    },
    {
     "name": "stdout",
     "output_type": "stream",
     "text": [
      "Train Loss: 1.4955 | Validation Loss: 1.8629\n",
      "Epoch 58/100\n",
      "Model is training on: cuda:0\n"
     ]
    },
    {
     "name": "stderr",
     "output_type": "stream",
     "text": [
      "100%|██████████| 640/640 [04:30<00:00,  2.36it/s]\n",
      "100%|██████████| 229/229 [00:44<00:00,  5.15it/s]\n"
     ]
    },
    {
     "name": "stdout",
     "output_type": "stream",
     "text": [
      "Train Loss: 1.4579 | Validation Loss: 1.4761\n",
      "Epoch 59/100\n",
      "Model is training on: cuda:0\n"
     ]
    },
    {
     "name": "stderr",
     "output_type": "stream",
     "text": [
      "100%|██████████| 640/640 [04:34<00:00,  2.34it/s]\n",
      "100%|██████████| 229/229 [00:45<00:00,  4.99it/s]\n"
     ]
    },
    {
     "name": "stdout",
     "output_type": "stream",
     "text": [
      "Train Loss: 1.6214 | Validation Loss: 1.3161\n",
      "Model saved!\n",
      "Epoch 60/100\n",
      "Model is training on: cuda:0\n"
     ]
    },
    {
     "name": "stderr",
     "output_type": "stream",
     "text": [
      "100%|██████████| 640/640 [04:42<00:00,  2.27it/s]\n",
      "100%|██████████| 229/229 [00:44<00:00,  5.18it/s]\n"
     ]
    },
    {
     "name": "stdout",
     "output_type": "stream",
     "text": [
      "Train Loss: 1.4100 | Validation Loss: 1.5382\n",
      "Epoch 61/100\n",
      "Model is training on: cuda:0\n"
     ]
    },
    {
     "name": "stderr",
     "output_type": "stream",
     "text": [
      "100%|██████████| 640/640 [04:38<00:00,  2.30it/s]\n",
      "100%|██████████| 229/229 [00:45<00:00,  5.03it/s]\n"
     ]
    },
    {
     "name": "stdout",
     "output_type": "stream",
     "text": [
      "Train Loss: 1.4795 | Validation Loss: 1.6428\n",
      "Epoch 62/100\n",
      "Model is training on: cuda:0\n"
     ]
    },
    {
     "name": "stderr",
     "output_type": "stream",
     "text": [
      "100%|██████████| 640/640 [04:40<00:00,  2.28it/s]\n",
      "100%|██████████| 229/229 [00:45<00:00,  5.04it/s]\n"
     ]
    },
    {
     "name": "stdout",
     "output_type": "stream",
     "text": [
      "Train Loss: 1.4905 | Validation Loss: 1.3671\n",
      "Epoch 63/100\n",
      "Model is training on: cuda:0\n"
     ]
    },
    {
     "name": "stderr",
     "output_type": "stream",
     "text": [
      "100%|██████████| 640/640 [04:38<00:00,  2.30it/s]\n",
      "100%|██████████| 229/229 [00:44<00:00,  5.13it/s]\n"
     ]
    },
    {
     "name": "stdout",
     "output_type": "stream",
     "text": [
      "Train Loss: 1.5075 | Validation Loss: 1.3290\n",
      "Epoch 64/100\n",
      "Model is training on: cuda:0\n"
     ]
    },
    {
     "name": "stderr",
     "output_type": "stream",
     "text": [
      "100%|██████████| 640/640 [04:33<00:00,  2.34it/s]\n",
      "100%|██████████| 229/229 [00:44<00:00,  5.15it/s]\n"
     ]
    },
    {
     "name": "stdout",
     "output_type": "stream",
     "text": [
      "Train Loss: 1.3259 | Validation Loss: 1.3140\n",
      "Model saved!\n",
      "Epoch 65/100\n",
      "Model is training on: cuda:0\n"
     ]
    },
    {
     "name": "stderr",
     "output_type": "stream",
     "text": [
      "100%|██████████| 640/640 [04:36<00:00,  2.31it/s]\n",
      "100%|██████████| 229/229 [00:45<00:00,  5.09it/s]\n"
     ]
    },
    {
     "name": "stdout",
     "output_type": "stream",
     "text": [
      "Train Loss: 1.4442 | Validation Loss: 1.5796\n",
      "Epoch 66/100\n",
      "Model is training on: cuda:0\n"
     ]
    },
    {
     "name": "stderr",
     "output_type": "stream",
     "text": [
      "100%|██████████| 640/640 [04:35<00:00,  2.32it/s]\n",
      "100%|██████████| 229/229 [00:44<00:00,  5.12it/s]\n"
     ]
    },
    {
     "name": "stdout",
     "output_type": "stream",
     "text": [
      "Train Loss: 1.3815 | Validation Loss: 1.3616\n",
      "Epoch 67/100\n",
      "Model is training on: cuda:0\n"
     ]
    },
    {
     "name": "stderr",
     "output_type": "stream",
     "text": [
      "100%|██████████| 640/640 [04:34<00:00,  2.33it/s]\n",
      "100%|██████████| 229/229 [00:44<00:00,  5.13it/s]\n"
     ]
    },
    {
     "name": "stdout",
     "output_type": "stream",
     "text": [
      "Train Loss: 1.4338 | Validation Loss: 1.4107\n",
      "Epoch 68/100\n",
      "Model is training on: cuda:0\n"
     ]
    },
    {
     "name": "stderr",
     "output_type": "stream",
     "text": [
      "100%|██████████| 640/640 [04:36<00:00,  2.32it/s]\n",
      "100%|██████████| 229/229 [00:44<00:00,  5.12it/s]\n"
     ]
    },
    {
     "name": "stdout",
     "output_type": "stream",
     "text": [
      "Train Loss: 1.4322 | Validation Loss: 1.3746\n",
      "Epoch 69/100\n",
      "Model is training on: cuda:0\n"
     ]
    },
    {
     "name": "stderr",
     "output_type": "stream",
     "text": [
      "100%|██████████| 640/640 [04:35<00:00,  2.32it/s]\n",
      "100%|██████████| 229/229 [00:44<00:00,  5.13it/s]\n"
     ]
    },
    {
     "name": "stdout",
     "output_type": "stream",
     "text": [
      "Train Loss: 1.4248 | Validation Loss: 1.3148\n",
      "Epoch 70/100\n",
      "Model is training on: cuda:0\n"
     ]
    },
    {
     "name": "stderr",
     "output_type": "stream",
     "text": [
      "100%|██████████| 640/640 [04:35<00:00,  2.33it/s]\n",
      "100%|██████████| 229/229 [00:44<00:00,  5.11it/s]\n"
     ]
    },
    {
     "name": "stdout",
     "output_type": "stream",
     "text": [
      "Train Loss: 1.3694 | Validation Loss: 1.3523\n",
      "Epoch 71/100\n",
      "Model is training on: cuda:0\n"
     ]
    },
    {
     "name": "stderr",
     "output_type": "stream",
     "text": [
      "100%|██████████| 640/640 [04:35<00:00,  2.32it/s]\n",
      "100%|██████████| 229/229 [00:44<00:00,  5.10it/s]\n"
     ]
    },
    {
     "name": "stdout",
     "output_type": "stream",
     "text": [
      "Train Loss: 1.3477 | Validation Loss: 1.5912\n",
      "Epoch 72/100\n",
      "Model is training on: cuda:0\n"
     ]
    },
    {
     "name": "stderr",
     "output_type": "stream",
     "text": [
      "100%|██████████| 640/640 [04:35<00:00,  2.32it/s]\n",
      "100%|██████████| 229/229 [00:44<00:00,  5.11it/s]\n"
     ]
    },
    {
     "name": "stdout",
     "output_type": "stream",
     "text": [
      "Train Loss: 1.3906 | Validation Loss: 1.2816\n",
      "Model saved!\n",
      "Epoch 73/100\n",
      "Model is training on: cuda:0\n"
     ]
    },
    {
     "name": "stderr",
     "output_type": "stream",
     "text": [
      "100%|██████████| 640/640 [04:35<00:00,  2.32it/s]\n",
      "100%|██████████| 229/229 [00:44<00:00,  5.10it/s]\n"
     ]
    },
    {
     "name": "stdout",
     "output_type": "stream",
     "text": [
      "Train Loss: 1.3266 | Validation Loss: 1.5043\n",
      "Epoch 74/100\n",
      "Model is training on: cuda:0\n"
     ]
    },
    {
     "name": "stderr",
     "output_type": "stream",
     "text": [
      "100%|██████████| 640/640 [04:35<00:00,  2.32it/s]\n",
      "100%|██████████| 229/229 [00:44<00:00,  5.10it/s]\n"
     ]
    },
    {
     "name": "stdout",
     "output_type": "stream",
     "text": [
      "Train Loss: 1.4028 | Validation Loss: 1.2715\n",
      "Model saved!\n",
      "Epoch 75/100\n",
      "Model is training on: cuda:0\n"
     ]
    },
    {
     "name": "stderr",
     "output_type": "stream",
     "text": [
      "100%|██████████| 640/640 [04:30<00:00,  2.36it/s]\n",
      "100%|██████████| 229/229 [00:43<00:00,  5.20it/s]\n"
     ]
    },
    {
     "name": "stdout",
     "output_type": "stream",
     "text": [
      "Train Loss: 1.3310 | Validation Loss: 1.2880\n",
      "Epoch 76/100\n",
      "Model is training on: cuda:0\n"
     ]
    },
    {
     "name": "stderr",
     "output_type": "stream",
     "text": [
      "100%|██████████| 640/640 [04:31<00:00,  2.36it/s]\n",
      "100%|██████████| 229/229 [00:43<00:00,  5.21it/s]\n"
     ]
    },
    {
     "name": "stdout",
     "output_type": "stream",
     "text": [
      "Train Loss: 1.4113 | Validation Loss: 1.2544\n",
      "Model saved!\n",
      "Epoch 77/100\n",
      "Model is training on: cuda:0\n"
     ]
    },
    {
     "name": "stderr",
     "output_type": "stream",
     "text": [
      "100%|██████████| 640/640 [04:31<00:00,  2.35it/s]\n",
      "100%|██████████| 229/229 [00:44<00:00,  5.10it/s]\n"
     ]
    },
    {
     "name": "stdout",
     "output_type": "stream",
     "text": [
      "Train Loss: 1.3094 | Validation Loss: 1.2765\n",
      "Epoch 78/100\n",
      "Model is training on: cuda:0\n"
     ]
    },
    {
     "name": "stderr",
     "output_type": "stream",
     "text": [
      "100%|██████████| 640/640 [04:28<00:00,  2.39it/s]\n",
      "100%|██████████| 229/229 [00:43<00:00,  5.29it/s]\n"
     ]
    },
    {
     "name": "stdout",
     "output_type": "stream",
     "text": [
      "Train Loss: 1.3573 | Validation Loss: 1.5493\n",
      "Epoch 79/100\n",
      "Model is training on: cuda:0\n"
     ]
    },
    {
     "name": "stderr",
     "output_type": "stream",
     "text": [
      "100%|██████████| 640/640 [04:27<00:00,  2.40it/s]\n",
      "100%|██████████| 229/229 [00:45<00:00,  5.04it/s]\n"
     ]
    },
    {
     "name": "stdout",
     "output_type": "stream",
     "text": [
      "Train Loss: 1.2738 | Validation Loss: 1.5110\n",
      "Epoch 80/100\n",
      "Model is training on: cuda:0\n"
     ]
    },
    {
     "name": "stderr",
     "output_type": "stream",
     "text": [
      "100%|██████████| 640/640 [04:33<00:00,  2.34it/s]\n",
      "100%|██████████| 229/229 [00:44<00:00,  5.09it/s]\n"
     ]
    },
    {
     "name": "stdout",
     "output_type": "stream",
     "text": [
      "Train Loss: 1.3456 | Validation Loss: 1.2449\n",
      "Model saved!\n",
      "Epoch 81/100\n",
      "Model is training on: cuda:0\n"
     ]
    },
    {
     "name": "stderr",
     "output_type": "stream",
     "text": [
      "100%|██████████| 640/640 [04:35<00:00,  2.32it/s]\n",
      "100%|██████████| 229/229 [00:43<00:00,  5.22it/s]\n"
     ]
    },
    {
     "name": "stdout",
     "output_type": "stream",
     "text": [
      "Train Loss: 1.3153 | Validation Loss: 1.2766\n",
      "Epoch 82/100\n",
      "Model is training on: cuda:0\n"
     ]
    },
    {
     "name": "stderr",
     "output_type": "stream",
     "text": [
      "100%|██████████| 640/640 [04:37<00:00,  2.30it/s]\n",
      "100%|██████████| 229/229 [00:45<00:00,  5.07it/s]\n"
     ]
    },
    {
     "name": "stdout",
     "output_type": "stream",
     "text": [
      "Train Loss: 1.2608 | Validation Loss: 1.2753\n",
      "Epoch 83/100\n",
      "Model is training on: cuda:0\n"
     ]
    },
    {
     "name": "stderr",
     "output_type": "stream",
     "text": [
      "100%|██████████| 640/640 [04:35<00:00,  2.32it/s]\n",
      "100%|██████████| 229/229 [00:43<00:00,  5.22it/s]\n"
     ]
    },
    {
     "name": "stdout",
     "output_type": "stream",
     "text": [
      "Train Loss: 1.3023 | Validation Loss: 1.7482\n",
      "Epoch 84/100\n",
      "Model is training on: cuda:0\n"
     ]
    },
    {
     "name": "stderr",
     "output_type": "stream",
     "text": [
      "100%|██████████| 640/640 [04:29<00:00,  2.37it/s]\n",
      "100%|██████████| 229/229 [00:43<00:00,  5.23it/s]\n"
     ]
    },
    {
     "name": "stdout",
     "output_type": "stream",
     "text": [
      "Train Loss: 1.3203 | Validation Loss: 1.2994\n",
      "Epoch 85/100\n",
      "Model is training on: cuda:0\n"
     ]
    },
    {
     "name": "stderr",
     "output_type": "stream",
     "text": [
      "100%|██████████| 640/640 [04:29<00:00,  2.37it/s]\n",
      "100%|██████████| 229/229 [00:43<00:00,  5.21it/s]\n"
     ]
    },
    {
     "name": "stdout",
     "output_type": "stream",
     "text": [
      "Train Loss: 1.3366 | Validation Loss: 1.5225\n",
      "Epoch 86/100\n",
      "Model is training on: cuda:0\n"
     ]
    },
    {
     "name": "stderr",
     "output_type": "stream",
     "text": [
      "100%|██████████| 640/640 [04:29<00:00,  2.37it/s]\n",
      "100%|██████████| 229/229 [00:43<00:00,  5.22it/s]\n"
     ]
    },
    {
     "name": "stdout",
     "output_type": "stream",
     "text": [
      "Train Loss: 1.2498 | Validation Loss: 1.3058\n",
      "Epoch 87/100\n",
      "Model is training on: cuda:0\n"
     ]
    },
    {
     "name": "stderr",
     "output_type": "stream",
     "text": [
      "100%|██████████| 640/640 [04:29<00:00,  2.37it/s]\n",
      "100%|██████████| 229/229 [00:43<00:00,  5.23it/s]\n"
     ]
    },
    {
     "name": "stdout",
     "output_type": "stream",
     "text": [
      "Train Loss: 1.2959 | Validation Loss: 1.2693\n",
      "Epoch 88/100\n",
      "Model is training on: cuda:0\n"
     ]
    },
    {
     "name": "stderr",
     "output_type": "stream",
     "text": [
      "100%|██████████| 640/640 [04:29<00:00,  2.37it/s]\n",
      "100%|██████████| 229/229 [00:43<00:00,  5.22it/s]\n"
     ]
    },
    {
     "name": "stdout",
     "output_type": "stream",
     "text": [
      "Train Loss: 1.2719 | Validation Loss: 1.3131\n",
      "Epoch 89/100\n",
      "Model is training on: cuda:0\n"
     ]
    },
    {
     "name": "stderr",
     "output_type": "stream",
     "text": [
      "100%|██████████| 640/640 [04:29<00:00,  2.37it/s]\n",
      "100%|██████████| 229/229 [00:43<00:00,  5.22it/s]\n"
     ]
    },
    {
     "name": "stdout",
     "output_type": "stream",
     "text": [
      "Train Loss: 1.2829 | Validation Loss: 1.7277\n",
      "Epoch 90/100\n",
      "Model is training on: cuda:0\n"
     ]
    },
    {
     "name": "stderr",
     "output_type": "stream",
     "text": [
      "100%|██████████| 640/640 [04:29<00:00,  2.37it/s]\n",
      "100%|██████████| 229/229 [00:43<00:00,  5.23it/s]\n"
     ]
    },
    {
     "name": "stdout",
     "output_type": "stream",
     "text": [
      "Train Loss: 1.3096 | Validation Loss: 1.3486\n",
      "Epoch 91/100\n",
      "Model is training on: cuda:0\n"
     ]
    },
    {
     "name": "stderr",
     "output_type": "stream",
     "text": [
      "100%|██████████| 640/640 [04:29<00:00,  2.37it/s]\n",
      "100%|██████████| 229/229 [00:43<00:00,  5.22it/s]\n"
     ]
    },
    {
     "name": "stdout",
     "output_type": "stream",
     "text": [
      "Train Loss: 1.2144 | Validation Loss: 1.8128\n",
      "Epoch 92/100\n",
      "Model is training on: cuda:0\n"
     ]
    },
    {
     "name": "stderr",
     "output_type": "stream",
     "text": [
      "100%|██████████| 640/640 [04:29<00:00,  2.37it/s]\n",
      "100%|██████████| 229/229 [00:43<00:00,  5.22it/s]\n"
     ]
    },
    {
     "name": "stdout",
     "output_type": "stream",
     "text": [
      "Train Loss: 1.2064 | Validation Loss: 1.2433\n",
      "Model saved!\n",
      "Epoch 93/100\n",
      "Model is training on: cuda:0\n"
     ]
    },
    {
     "name": "stderr",
     "output_type": "stream",
     "text": [
      "100%|██████████| 640/640 [04:29<00:00,  2.37it/s]\n",
      "100%|██████████| 229/229 [00:43<00:00,  5.23it/s]\n"
     ]
    },
    {
     "name": "stdout",
     "output_type": "stream",
     "text": [
      "Train Loss: 1.2080 | Validation Loss: 1.2376\n",
      "Model saved!\n",
      "Epoch 94/100\n",
      "Model is training on: cuda:0\n"
     ]
    },
    {
     "name": "stderr",
     "output_type": "stream",
     "text": [
      "100%|██████████| 640/640 [04:29<00:00,  2.37it/s]\n",
      "100%|██████████| 229/229 [00:43<00:00,  5.23it/s]\n"
     ]
    },
    {
     "name": "stdout",
     "output_type": "stream",
     "text": [
      "Train Loss: 1.3374 | Validation Loss: 1.6878\n",
      "Epoch 95/100\n",
      "Model is training on: cuda:0\n"
     ]
    },
    {
     "name": "stderr",
     "output_type": "stream",
     "text": [
      "100%|██████████| 640/640 [04:29<00:00,  2.37it/s]\n",
      "100%|██████████| 229/229 [00:43<00:00,  5.23it/s]\n"
     ]
    },
    {
     "name": "stdout",
     "output_type": "stream",
     "text": [
      "Train Loss: 1.2547 | Validation Loss: 1.7333\n",
      "Epoch 96/100\n",
      "Model is training on: cuda:0\n"
     ]
    },
    {
     "name": "stderr",
     "output_type": "stream",
     "text": [
      "100%|██████████| 640/640 [04:31<00:00,  2.36it/s]\n",
      "100%|██████████| 229/229 [00:45<00:00,  5.08it/s]\n"
     ]
    },
    {
     "name": "stdout",
     "output_type": "stream",
     "text": [
      "Train Loss: 1.1873 | Validation Loss: 1.2490\n",
      "Epoch 97/100\n",
      "Model is training on: cuda:0\n"
     ]
    },
    {
     "name": "stderr",
     "output_type": "stream",
     "text": [
      "100%|██████████| 640/640 [04:35<00:00,  2.32it/s]\n",
      "100%|██████████| 229/229 [00:44<00:00,  5.09it/s]\n"
     ]
    },
    {
     "name": "stdout",
     "output_type": "stream",
     "text": [
      "Train Loss: 1.2426 | Validation Loss: 1.2779\n",
      "Epoch 98/100\n",
      "Model is training on: cuda:0\n"
     ]
    },
    {
     "name": "stderr",
     "output_type": "stream",
     "text": [
      "100%|██████████| 640/640 [04:33<00:00,  2.34it/s]\n",
      "100%|██████████| 229/229 [00:44<00:00,  5.17it/s]\n"
     ]
    },
    {
     "name": "stdout",
     "output_type": "stream",
     "text": [
      "Train Loss: 1.2228 | Validation Loss: 1.2464\n",
      "Epoch 99/100\n",
      "Model is training on: cuda:0\n"
     ]
    },
    {
     "name": "stderr",
     "output_type": "stream",
     "text": [
      "100%|██████████| 640/640 [04:30<00:00,  2.37it/s]\n",
      "100%|██████████| 229/229 [00:43<00:00,  5.21it/s]\n"
     ]
    },
    {
     "name": "stdout",
     "output_type": "stream",
     "text": [
      "Train Loss: 1.1896 | Validation Loss: 1.2506\n",
      "Epoch 100/100\n",
      "Model is training on: cuda:0\n"
     ]
    },
    {
     "name": "stderr",
     "output_type": "stream",
     "text": [
      "100%|██████████| 640/640 [04:33<00:00,  2.34it/s]\n",
      "100%|██████████| 229/229 [00:43<00:00,  5.21it/s]"
     ]
    },
    {
     "name": "stdout",
     "output_type": "stream",
     "text": [
      "Train Loss: 1.2326 | Validation Loss: 1.2564\n"
     ]
    },
    {
     "name": "stderr",
     "output_type": "stream",
     "text": [
      "\n"
     ]
    }
   ],
   "source": [
    "device = torch.device(\"cuda\" if torch.cuda.is_available() else \"cpu\")\n",
    "print(device)\n",
    "model = RCAN(num_features=64, num_groups=10, num_blocks=20, reduction=16, scale=10, in_channels=1, out_channels=1).to(device)\n",
    "\n",
    "learning_rate = 0.0001\n",
    "criterion = nn.L1Loss().to(device)\n",
    "optimizer = optim.Adam(model.parameters(), lr=learning_rate,weight_decay=1e-4)\n",
    "\n",
    "num_epochs = 100\n",
    "best_loss = float('inf')\n",
    "\n",
    "for epoch in range(num_epochs):\n",
    "    print(f'Epoch {epoch+1}/{num_epochs}')\n",
    "    print(f'Model is training on: {next(model.parameters()).device}')\n",
    "    train_loss = train_model(model, dataloader_train, criterion, optimizer, device)\n",
    "    val_loss = validate_model(model, dataloader_val, criterion, device)\n",
    "    print(f'Train Loss: {train_loss:.4f} | Validation Loss: {val_loss:.4f}')\n",
    "    \n",
    "    if val_loss < best_loss:\n",
    "        best_loss = val_loss\n",
    "        torch.save(model.state_dict(), 'G:/16_ECMWF/13_DL_modle/4_climate_590_330/RCAN/RCAN_ther.pth')\n",
    "        print('Model saved!')\n"
   ]
  },
  {
   "cell_type": "code",
   "execution_count": null,
   "id": "fa14eda8-3ae6-4b43-b3c1-7a43336d8a7a",
   "metadata": {},
   "outputs": [],
   "source": []
  },
  {
   "cell_type": "code",
   "execution_count": null,
   "id": "665e61c7-ca4c-4524-9906-a84e3df329a7",
   "metadata": {},
   "outputs": [],
   "source": []
  }
 ],
 "metadata": {
  "kernelspec": {
   "display_name": "Python 3 (ipykernel)",
   "language": "python",
   "name": "python3"
  },
  "language_info": {
   "codemirror_mode": {
    "name": "ipython",
    "version": 3
   },
   "file_extension": ".py",
   "mimetype": "text/x-python",
   "name": "python",
   "nbconvert_exporter": "python",
   "pygments_lexer": "ipython3",
   "version": "3.9.21"
  }
 },
 "nbformat": 4,
 "nbformat_minor": 5
}
