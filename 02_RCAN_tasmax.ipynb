{
 "cells": [
  {
   "cell_type": "code",
   "execution_count": 1,
   "id": "6e8395e0-9f7d-47dd-9f8c-a137f38adbec",
   "metadata": {},
   "outputs": [],
   "source": [
    "import os\n",
    "import torch\n",
    "from torch.utils.data import Dataset, DataLoader\n",
    "from torchvision import transforms\n",
    "import rasterio\n",
    "import numpy as np\n",
    "import torch.nn as nn\n",
    "import torch.optim as optim\n",
    "from skimage.transform import resize\n",
    "from tqdm import tqdm\n",
    "import pandas as pd\n",
    "import torchvision.transforms as transforms\n",
    "import matplotlib.pyplot as plt\n",
    "import geopandas as gpd\n",
    "from shapely.geometry import mapping\n",
    "from rasterio.features import geometry_mask\n",
    "import torch.nn.functional as F"
   ]
  },
  {
   "cell_type": "code",
   "execution_count": 2,
   "id": "f08848cd-bb91-4839-9207-4b7e377109bb",
   "metadata": {},
   "outputs": [
    {
     "name": "stdout",
     "output_type": "stream",
     "text": [
      "Using device: cuda\n"
     ]
    }
   ],
   "source": [
    "device = torch.device(\"cuda\" if torch.cuda.is_available() else \"cpu\")\n",
    "print(f\"Using device: {device}\")\n",
    "\n",
    "tif_path = \"D:/10_climate_10_590_330/1_tem/2017/tem_2017_01_01.tif\"\n",
    "with rasterio.open(tif_path) as src:\n",
    "        image_data = src.read(1)  # 读取第一个波段\n",
    "        transform = src.transform\n",
    "        crs = src.crs\n",
    "        bounds = src.bounds\n",
    "        height, width = src.height, src.width\n",
    "        profile = src.profile  # 获取文件元数据以便后续导出\n",
    "    \n",
    "shp_path = \"C:/Users/Administrator/Desktop/边界/中国/china.shp\"\n",
    "shapefile = gpd.read_file(shp_path)\n",
    "shapefile = shapefile.to_crs(crs)\n",
    "geometries = [mapping(geometry) for geometry in shapefile.geometry]\n",
    "mask = geometry_mask(geometries, transform=transform, invert=True, out_shape=(height, width))"
   ]
  },
  {
   "cell_type": "code",
   "execution_count": 3,
   "id": "8e70c6d1-be03-4fa6-9590-e53500c38c1a",
   "metadata": {},
   "outputs": [],
   "source": [
    "class SuperResolutionDataset(Dataset):\n",
    "    def __init__(self, lr_dirs, hr_dirs, transform=None):\n",
    "        self.lr_files = self._get_all_files(lr_dirs)\n",
    "        self.hr_files = self._get_all_files(hr_dirs)\n",
    "        self.transform = transform\n",
    "\n",
    "    def _get_all_files(self, dirs):\n",
    "        all_files = []\n",
    "        for directory in dirs:\n",
    "            for filename in sorted(os.listdir(directory)):  # 排序保证匹配\n",
    "                file_path = os.path.join(directory, filename)\n",
    "                if os.path.isfile(file_path):  # 确保是文件\n",
    "                    all_files.append(file_path)\n",
    "        return all_files\n",
    "\n",
    "    def __len__(self):\n",
    "        return len(self.lr_files)\n",
    "\n",
    "    def __getitem__(self, idx):\n",
    "        lr_path = self.lr_files[idx]\n",
    "        hr_path = self.hr_files[idx]\n",
    "        \n",
    "        with rasterio.open(lr_path) as lr_dataset:\n",
    "            lr_image = lr_dataset.read(1)  # 读取第一个波段的数据\n",
    "        with rasterio.open(hr_path) as hr_dataset:\n",
    "            hr_image = hr_dataset.read(1)  # 读取第一个波段的数据\n",
    "\n",
    "        # 如果有 transform，应用转换\n",
    "        if self.transform:\n",
    "            lr_image = self.transform(lr_image)\n",
    "            hr_image = self.transform(hr_image)\n",
    "\n",
    "        else:\n",
    "        # 如果没有 transform，转换为 PyTorch 张量\n",
    "            lr_image = torch.from_numpy(lr_image).float()  # (1, H, W)\n",
    "            hr_image = torch.from_numpy(hr_image).float()  # (1, H, W)\n",
    "\n",
    "        return lr_image, hr_image\n",
    "# 定义数据增强和预处理操作\n",
    "data_transforms = transforms.Compose([\n",
    "    transforms.ToTensor(),  # 将 NumPy 数组转换为 PyTorch 张量\n",
    "])\n",
    "\n",
    "def load_tiff_with_rasterio(file_path):\n",
    "    with rasterio.open(file_path) as src:\n",
    "        img = src.read(1)  # 读取第一个波段\n",
    "    return img"
   ]
  },
  {
   "cell_type": "code",
   "execution_count": 4,
   "id": "233eeb80-7bb9-4708-bb1b-1c48a8f97e74",
   "metadata": {},
   "outputs": [],
   "source": [
    "year = list(range(2000,2014))\n",
    "lr_directories = []\n",
    "hr_directories = []\n",
    "for a_index,a in enumerate(year):\n",
    "    hr_path = f'D:/10_climate_10_590_330/2_tem_max/{a}'\n",
    "    hr_directories.append(hr_path)\n",
    "    \n",
    "    lr_path = f'F:/6_climate_100_59_33/2_tem_max/{a}'\n",
    "    lr_directories.append(lr_path)\n",
    "dataset_train = SuperResolutionDataset(lr_dirs=lr_directories, hr_dirs=hr_directories, transform=data_transforms)\n",
    "dataloader_train = DataLoader(dataset_train, batch_size=8, shuffle=True, num_workers=0)\n",
    "\n",
    "year = list(range(2014,2019))\n",
    "lr_directories = []\n",
    "hr_directories = []\n",
    "for a_index,a in enumerate(year):\n",
    "    hr_path = f'D:/10_climate_10_590_330/2_tem_max/{a}'\n",
    "    hr_directories.append(hr_path)\n",
    "    \n",
    "    lr_path = f'F:/6_climate_100_59_33/2_tem_max/{a}'\n",
    "    lr_directories.append(lr_path)\n",
    "dataset_val = SuperResolutionDataset(lr_dirs=lr_directories, hr_dirs=hr_directories, transform=data_transforms)\n",
    "dataloader_val = DataLoader(dataset_val, batch_size=8, shuffle=True, num_workers=0)\n",
    "\n",
    "year = list(range(2019,2024))\n",
    "lr_directories = []\n",
    "hr_directories = []\n",
    "for a_index,a in enumerate(year):\n",
    "    hr_path = f'D:/10_climate_10_590_330/2_tem_max/{a}'\n",
    "    hr_directories.append(hr_path)\n",
    "    \n",
    "    lr_path = f'F:/6_climate_100_59_33/2_tem_max/{a}'\n",
    "    lr_directories.append(lr_path)\n",
    "dataset_test = SuperResolutionDataset(lr_dirs=lr_directories, hr_dirs=hr_directories, transform=data_transforms)\n",
    "dataloader_test = DataLoader(dataset_test, batch_size=8, shuffle=True, num_workers=0)"
   ]
  },
  {
   "cell_type": "code",
   "execution_count": 5,
   "id": "d6f27605-efc1-421d-a519-155b75ac566d",
   "metadata": {},
   "outputs": [],
   "source": [
    "def train_model(model, dataloader, criterion, optimizer, device):\n",
    "    model.train()\n",
    "    running_loss = 0.0\n",
    "    for inputs, targets in tqdm(dataloader):\n",
    "        inputs  = inputs.float().to(device)\n",
    "        targets = targets.float().to(device)\n",
    "\n",
    "        inputs[torch.isnan(inputs)] = 0\n",
    "        targets[torch.isnan(targets)] = 0\n",
    "\n",
    "        assert not torch.isnan(inputs).any(), \"Input contains NaN values\"\n",
    "        assert not torch.isnan(targets).any(), \"Target contains NaN values\"\n",
    "        \n",
    "        optimizer.zero_grad()\n",
    "        outputs_up = model(inputs)\n",
    "\n",
    "        loss = criterion(outputs_up, targets).to(device)\n",
    "        loss.backward()\n",
    "        optimizer.step()\n",
    "\n",
    "        running_loss += loss.item() * inputs.size(0)\n",
    "\n",
    "    epoch_loss = running_loss / len(dataloader.dataset)\n",
    "    return epoch_loss\n",
    "\n",
    "def validate_model(model, dataloader, criterion, device):\n",
    "    model.eval()\n",
    "    running_loss = 0.0\n",
    "    with torch.no_grad():\n",
    "        for inputs, targets in tqdm(dataloader):\n",
    "            inputs = inputs.float().to(device)\n",
    "            targets =  targets.float().to(device)\n",
    "            inputs[torch.isnan(inputs)] = 0\n",
    "            targets[torch.isnan(targets)] = 0\n",
    "\n",
    "            outputs = model(inputs)\n",
    "\n",
    "            loss = criterion(outputs, targets)\n",
    "            running_loss += loss.item() * inputs.size(0)\n",
    "\n",
    "    epoch_loss = running_loss / len(dataloader.dataset)\n",
    "    return epoch_loss\n"
   ]
  },
  {
   "cell_type": "code",
   "execution_count": 6,
   "id": "eb48869c-46fd-44dc-85c0-ad02863579db",
   "metadata": {},
   "outputs": [],
   "source": [
    "import torch\n",
    "import torch.nn as nn\n",
    "\n",
    "class ChannelAttention(nn.Module):\n",
    "    def __init__(self, num_features, reduction=16):\n",
    "        super(ChannelAttention, self).__init__()\n",
    "        self.avg_pool = nn.AdaptiveAvgPool2d(1)\n",
    "        self.conv = nn.Sequential(\n",
    "            nn.Conv2d(num_features, num_features // reduction, 1, padding=0, bias=True),\n",
    "            nn.ReLU(inplace=True),\n",
    "            nn.Conv2d(num_features // reduction, num_features, 1, padding=0, bias=True),\n",
    "            nn.Sigmoid()\n",
    "        )\n",
    "\n",
    "    def forward(self, x):\n",
    "        y = self.avg_pool(x)\n",
    "        y = self.conv(y)\n",
    "        return x * y\n",
    "\n",
    "class RCAB(nn.Module):\n",
    "    def __init__(self, num_features, reduction):\n",
    "        super(RCAB, self).__init__()\n",
    "        self.body = nn.Sequential(\n",
    "            nn.Conv2d(num_features, num_features, 3, padding=1),\n",
    "            nn.ReLU(inplace=True),\n",
    "            nn.Conv2d(num_features, num_features, 3, padding=1),\n",
    "            ChannelAttention(num_features, reduction)\n",
    "        )\n",
    "\n",
    "    def forward(self, x):\n",
    "        return x + self.body(x)\n",
    "\n",
    "class ResidualGroup(nn.Module):\n",
    "    def __init__(self, num_features, num_blocks, reduction):\n",
    "        super(ResidualGroup, self).__init__()\n",
    "        self.body = nn.Sequential(\n",
    "            *[RCAB(num_features, reduction) for _ in range(num_blocks)],\n",
    "            nn.Conv2d(num_features, num_features, 3, padding=1)\n",
    "        )\n",
    "\n",
    "    def forward(self, x):\n",
    "        return x + self.body(x)\n",
    "\n",
    "class RCAN(nn.Module):\n",
    "    def __init__(self, num_features=64, num_groups=10, num_blocks=20, reduction=16, scale=10, in_channels=1, out_channels=1):\n",
    "        super(RCAN, self).__init__()\n",
    "        \n",
    "        self.conv1 = nn.Conv2d(in_channels, num_features, 3, padding=1)\n",
    "        \n",
    "        self.body = nn.Sequential(\n",
    "            *[ResidualGroup(num_features, num_blocks, reduction) for _ in range(num_groups)],\n",
    "            nn.Conv2d(num_features, num_features, 3, padding=1)\n",
    "        )\n",
    "        \n",
    "        self.upsample = nn.Sequential(\n",
    "            nn.Conv2d(num_features, num_features * (scale ** 2), 3, padding=1),\n",
    "            nn.PixelShuffle(scale)\n",
    "        )\n",
    "        \n",
    "        self.conv2 = nn.Conv2d(num_features, out_channels, 3, padding=1)\n",
    "\n",
    "    def forward(self, x):\n",
    "        x = self.conv1(x)\n",
    "        res = self.body(x)\n",
    "        res += x\n",
    "        x = self.upsample(res)\n",
    "        x = self.conv2(x)\n",
    "        return x"
   ]
  },
  {
   "cell_type": "code",
   "execution_count": 7,
   "id": "737d144a-9d67-4ef9-a120-edccf1b0c99f",
   "metadata": {
    "scrolled": true
   },
   "outputs": [
    {
     "name": "stdout",
     "output_type": "stream",
     "text": [
      "cuda\n",
      "Epoch 1/100\n",
      "Model is training on: cuda:0\n"
     ]
    },
    {
     "name": "stderr",
     "output_type": "stream",
     "text": [
      "100%|██████████| 640/640 [04:35<00:00,  2.32it/s]\n",
      "100%|██████████| 229/229 [00:45<00:00,  5.00it/s]\n"
     ]
    },
    {
     "name": "stdout",
     "output_type": "stream",
     "text": [
      "Train Loss: 87.8878 | Validation Loss: 8.8921\n",
      "Model saved!\n",
      "Epoch 2/100\n",
      "Model is training on: cuda:0\n"
     ]
    },
    {
     "name": "stderr",
     "output_type": "stream",
     "text": [
      "100%|██████████| 640/640 [04:27<00:00,  2.39it/s]\n",
      "100%|██████████| 229/229 [00:42<00:00,  5.36it/s]\n"
     ]
    },
    {
     "name": "stdout",
     "output_type": "stream",
     "text": [
      "Train Loss: 7.3426 | Validation Loss: 5.9448\n",
      "Model saved!\n",
      "Epoch 3/100\n",
      "Model is training on: cuda:0\n"
     ]
    },
    {
     "name": "stderr",
     "output_type": "stream",
     "text": [
      "100%|██████████| 640/640 [04:27<00:00,  2.39it/s]\n",
      "100%|██████████| 229/229 [00:43<00:00,  5.31it/s]\n"
     ]
    },
    {
     "name": "stdout",
     "output_type": "stream",
     "text": [
      "Train Loss: 5.0746 | Validation Loss: 4.4373\n",
      "Model saved!\n",
      "Epoch 4/100\n",
      "Model is training on: cuda:0\n"
     ]
    },
    {
     "name": "stderr",
     "output_type": "stream",
     "text": [
      "100%|██████████| 640/640 [04:26<00:00,  2.40it/s]\n",
      "100%|██████████| 229/229 [00:42<00:00,  5.34it/s]\n"
     ]
    },
    {
     "name": "stdout",
     "output_type": "stream",
     "text": [
      "Train Loss: 3.9469 | Validation Loss: 3.2024\n",
      "Model saved!\n",
      "Epoch 5/100\n",
      "Model is training on: cuda:0\n"
     ]
    },
    {
     "name": "stderr",
     "output_type": "stream",
     "text": [
      "100%|██████████| 640/640 [04:26<00:00,  2.40it/s]\n",
      "100%|██████████| 229/229 [00:42<00:00,  5.33it/s]\n"
     ]
    },
    {
     "name": "stdout",
     "output_type": "stream",
     "text": [
      "Train Loss: 3.2598 | Validation Loss: 2.9835\n",
      "Model saved!\n",
      "Epoch 6/100\n",
      "Model is training on: cuda:0\n"
     ]
    },
    {
     "name": "stderr",
     "output_type": "stream",
     "text": [
      "100%|██████████| 640/640 [04:27<00:00,  2.39it/s]\n",
      "100%|██████████| 229/229 [00:43<00:00,  5.32it/s]\n"
     ]
    },
    {
     "name": "stdout",
     "output_type": "stream",
     "text": [
      "Train Loss: 2.9065 | Validation Loss: 2.5327\n",
      "Model saved!\n",
      "Epoch 7/100\n",
      "Model is training on: cuda:0\n"
     ]
    },
    {
     "name": "stderr",
     "output_type": "stream",
     "text": [
      "100%|██████████| 640/640 [04:28<00:00,  2.38it/s]\n",
      "100%|██████████| 229/229 [00:42<00:00,  5.34it/s]\n"
     ]
    },
    {
     "name": "stdout",
     "output_type": "stream",
     "text": [
      "Train Loss: 2.6135 | Validation Loss: 2.5639\n",
      "Epoch 8/100\n",
      "Model is training on: cuda:0\n"
     ]
    },
    {
     "name": "stderr",
     "output_type": "stream",
     "text": [
      "100%|██████████| 640/640 [04:28<00:00,  2.38it/s]\n",
      "100%|██████████| 229/229 [00:43<00:00,  5.32it/s]\n"
     ]
    },
    {
     "name": "stdout",
     "output_type": "stream",
     "text": [
      "Train Loss: 2.4971 | Validation Loss: 2.3415\n",
      "Model saved!\n",
      "Epoch 9/100\n",
      "Model is training on: cuda:0\n"
     ]
    },
    {
     "name": "stderr",
     "output_type": "stream",
     "text": [
      "100%|██████████| 640/640 [04:24<00:00,  2.42it/s]\n",
      "100%|██████████| 229/229 [00:42<00:00,  5.36it/s]\n"
     ]
    },
    {
     "name": "stdout",
     "output_type": "stream",
     "text": [
      "Train Loss: 2.3579 | Validation Loss: 2.5119\n",
      "Epoch 10/100\n",
      "Model is training on: cuda:0\n"
     ]
    },
    {
     "name": "stderr",
     "output_type": "stream",
     "text": [
      "100%|██████████| 640/640 [04:26<00:00,  2.40it/s]\n",
      "100%|██████████| 229/229 [00:44<00:00,  5.20it/s]\n"
     ]
    },
    {
     "name": "stdout",
     "output_type": "stream",
     "text": [
      "Train Loss: 2.5548 | Validation Loss: 2.4695\n",
      "Epoch 11/100\n",
      "Model is training on: cuda:0\n"
     ]
    },
    {
     "name": "stderr",
     "output_type": "stream",
     "text": [
      "100%|██████████| 640/640 [04:30<00:00,  2.36it/s]\n",
      "100%|██████████| 229/229 [00:43<00:00,  5.21it/s]\n"
     ]
    },
    {
     "name": "stdout",
     "output_type": "stream",
     "text": [
      "Train Loss: 1.9688 | Validation Loss: 1.7131\n",
      "Model saved!\n",
      "Epoch 12/100\n",
      "Model is training on: cuda:0\n"
     ]
    },
    {
     "name": "stderr",
     "output_type": "stream",
     "text": [
      "100%|██████████| 640/640 [04:31<00:00,  2.36it/s]\n",
      "100%|██████████| 229/229 [00:44<00:00,  5.20it/s]\n"
     ]
    },
    {
     "name": "stdout",
     "output_type": "stream",
     "text": [
      "Train Loss: 1.7203 | Validation Loss: 1.5362\n",
      "Model saved!\n",
      "Epoch 13/100\n",
      "Model is training on: cuda:0\n"
     ]
    },
    {
     "name": "stderr",
     "output_type": "stream",
     "text": [
      "100%|██████████| 640/640 [04:31<00:00,  2.36it/s]\n",
      "100%|██████████| 229/229 [00:42<00:00,  5.35it/s]\n"
     ]
    },
    {
     "name": "stdout",
     "output_type": "stream",
     "text": [
      "Train Loss: 1.6475 | Validation Loss: 1.5850\n",
      "Epoch 14/100\n",
      "Model is training on: cuda:0\n"
     ]
    },
    {
     "name": "stderr",
     "output_type": "stream",
     "text": [
      "100%|██████████| 640/640 [04:28<00:00,  2.38it/s]\n",
      "100%|██████████| 229/229 [00:43<00:00,  5.26it/s]\n"
     ]
    },
    {
     "name": "stdout",
     "output_type": "stream",
     "text": [
      "Train Loss: 1.5888 | Validation Loss: 1.4913\n",
      "Model saved!\n",
      "Epoch 15/100\n",
      "Model is training on: cuda:0\n"
     ]
    },
    {
     "name": "stderr",
     "output_type": "stream",
     "text": [
      "100%|██████████| 640/640 [04:31<00:00,  2.35it/s]\n",
      "100%|██████████| 229/229 [00:43<00:00,  5.29it/s]\n"
     ]
    },
    {
     "name": "stdout",
     "output_type": "stream",
     "text": [
      "Train Loss: 1.5209 | Validation Loss: 1.6147\n",
      "Epoch 16/100\n",
      "Model is training on: cuda:0\n"
     ]
    },
    {
     "name": "stderr",
     "output_type": "stream",
     "text": [
      "100%|██████████| 640/640 [04:32<00:00,  2.35it/s]\n",
      "100%|██████████| 229/229 [00:45<00:00,  5.08it/s]\n"
     ]
    },
    {
     "name": "stdout",
     "output_type": "stream",
     "text": [
      "Train Loss: 1.4152 | Validation Loss: 1.3370\n",
      "Model saved!\n",
      "Epoch 17/100\n",
      "Model is training on: cuda:0\n"
     ]
    },
    {
     "name": "stderr",
     "output_type": "stream",
     "text": [
      "100%|██████████| 640/640 [04:42<00:00,  2.27it/s]\n",
      "100%|██████████| 229/229 [00:45<00:00,  5.08it/s]\n"
     ]
    },
    {
     "name": "stdout",
     "output_type": "stream",
     "text": [
      "Train Loss: 1.3377 | Validation Loss: 1.3283\n",
      "Model saved!\n",
      "Epoch 18/100\n",
      "Model is training on: cuda:0\n"
     ]
    },
    {
     "name": "stderr",
     "output_type": "stream",
     "text": [
      "100%|██████████| 640/640 [04:43<00:00,  2.26it/s]\n",
      "100%|██████████| 229/229 [00:45<00:00,  5.06it/s]\n"
     ]
    },
    {
     "name": "stdout",
     "output_type": "stream",
     "text": [
      "Train Loss: 1.2780 | Validation Loss: 1.4324\n",
      "Epoch 19/100\n",
      "Model is training on: cuda:0\n"
     ]
    },
    {
     "name": "stderr",
     "output_type": "stream",
     "text": [
      "100%|██████████| 640/640 [04:42<00:00,  2.26it/s]\n",
      "100%|██████████| 229/229 [00:44<00:00,  5.11it/s]\n"
     ]
    },
    {
     "name": "stdout",
     "output_type": "stream",
     "text": [
      "Train Loss: 1.2475 | Validation Loss: 1.0954\n",
      "Model saved!\n",
      "Epoch 20/100\n",
      "Model is training on: cuda:0\n"
     ]
    },
    {
     "name": "stderr",
     "output_type": "stream",
     "text": [
      "100%|██████████| 640/640 [04:41<00:00,  2.28it/s]\n",
      "100%|██████████| 229/229 [00:44<00:00,  5.14it/s]\n"
     ]
    },
    {
     "name": "stdout",
     "output_type": "stream",
     "text": [
      "Train Loss: 1.2254 | Validation Loss: 1.9383\n",
      "Epoch 21/100\n",
      "Model is training on: cuda:0\n"
     ]
    },
    {
     "name": "stderr",
     "output_type": "stream",
     "text": [
      "100%|██████████| 640/640 [04:40<00:00,  2.29it/s]\n",
      "100%|██████████| 229/229 [00:44<00:00,  5.12it/s]\n"
     ]
    },
    {
     "name": "stdout",
     "output_type": "stream",
     "text": [
      "Train Loss: 136.2165 | Validation Loss: 9.5983\n",
      "Epoch 22/100\n",
      "Model is training on: cuda:0\n"
     ]
    },
    {
     "name": "stderr",
     "output_type": "stream",
     "text": [
      "100%|██████████| 640/640 [04:40<00:00,  2.28it/s]\n",
      "100%|██████████| 229/229 [00:44<00:00,  5.12it/s]\n"
     ]
    },
    {
     "name": "stdout",
     "output_type": "stream",
     "text": [
      "Train Loss: 5.4283 | Validation Loss: 4.0066\n",
      "Epoch 23/100\n",
      "Model is training on: cuda:0\n"
     ]
    },
    {
     "name": "stderr",
     "output_type": "stream",
     "text": [
      "100%|██████████| 640/640 [04:40<00:00,  2.28it/s]\n",
      "100%|██████████| 229/229 [00:44<00:00,  5.14it/s]\n"
     ]
    },
    {
     "name": "stdout",
     "output_type": "stream",
     "text": [
      "Train Loss: 3.5754 | Validation Loss: 2.9557\n",
      "Epoch 24/100\n",
      "Model is training on: cuda:0\n"
     ]
    },
    {
     "name": "stderr",
     "output_type": "stream",
     "text": [
      "100%|██████████| 640/640 [04:35<00:00,  2.32it/s]\n",
      "100%|██████████| 229/229 [00:43<00:00,  5.32it/s]\n"
     ]
    },
    {
     "name": "stdout",
     "output_type": "stream",
     "text": [
      "Train Loss: 3.1690 | Validation Loss: 3.1400\n",
      "Epoch 25/100\n",
      "Model is training on: cuda:0\n"
     ]
    },
    {
     "name": "stderr",
     "output_type": "stream",
     "text": [
      "100%|██████████| 640/640 [04:30<00:00,  2.37it/s]\n",
      "100%|██████████| 229/229 [00:43<00:00,  5.31it/s]\n"
     ]
    },
    {
     "name": "stdout",
     "output_type": "stream",
     "text": [
      "Train Loss: 3.3065 | Validation Loss: 2.6677\n",
      "Epoch 26/100\n",
      "Model is training on: cuda:0\n"
     ]
    },
    {
     "name": "stderr",
     "output_type": "stream",
     "text": [
      "100%|██████████| 640/640 [04:31<00:00,  2.35it/s]\n",
      "100%|██████████| 229/229 [00:43<00:00,  5.23it/s]\n"
     ]
    },
    {
     "name": "stdout",
     "output_type": "stream",
     "text": [
      "Train Loss: 2.0796 | Validation Loss: 2.0209\n",
      "Epoch 27/100\n",
      "Model is training on: cuda:0\n"
     ]
    },
    {
     "name": "stderr",
     "output_type": "stream",
     "text": [
      "100%|██████████| 640/640 [04:32<00:00,  2.35it/s]\n",
      "100%|██████████| 229/229 [00:44<00:00,  5.17it/s]\n"
     ]
    },
    {
     "name": "stdout",
     "output_type": "stream",
     "text": [
      "Train Loss: 1.9405 | Validation Loss: 1.7546\n",
      "Epoch 28/100\n",
      "Model is training on: cuda:0\n"
     ]
    },
    {
     "name": "stderr",
     "output_type": "stream",
     "text": [
      "100%|██████████| 640/640 [04:31<00:00,  2.36it/s]\n",
      "100%|██████████| 229/229 [00:43<00:00,  5.23it/s]\n"
     ]
    },
    {
     "name": "stdout",
     "output_type": "stream",
     "text": [
      "Train Loss: 1.7911 | Validation Loss: 1.5703\n",
      "Epoch 29/100\n",
      "Model is training on: cuda:0\n"
     ]
    },
    {
     "name": "stderr",
     "output_type": "stream",
     "text": [
      "100%|██████████| 640/640 [04:33<00:00,  2.34it/s]\n",
      "100%|██████████| 229/229 [00:43<00:00,  5.24it/s]\n"
     ]
    },
    {
     "name": "stdout",
     "output_type": "stream",
     "text": [
      "Train Loss: 1.6531 | Validation Loss: 1.5771\n",
      "Epoch 30/100\n",
      "Model is training on: cuda:0\n"
     ]
    },
    {
     "name": "stderr",
     "output_type": "stream",
     "text": [
      "100%|██████████| 640/640 [04:30<00:00,  2.37it/s]\n",
      "100%|██████████| 229/229 [00:43<00:00,  5.29it/s]\n"
     ]
    },
    {
     "name": "stdout",
     "output_type": "stream",
     "text": [
      "Train Loss: 1.5470 | Validation Loss: 1.4701\n",
      "Epoch 31/100\n",
      "Model is training on: cuda:0\n"
     ]
    },
    {
     "name": "stderr",
     "output_type": "stream",
     "text": [
      "100%|██████████| 640/640 [04:31<00:00,  2.36it/s]\n",
      "100%|██████████| 229/229 [00:42<00:00,  5.39it/s]\n"
     ]
    },
    {
     "name": "stdout",
     "output_type": "stream",
     "text": [
      "Train Loss: 1.5526 | Validation Loss: 1.5143\n",
      "Epoch 32/100\n",
      "Model is training on: cuda:0\n"
     ]
    },
    {
     "name": "stderr",
     "output_type": "stream",
     "text": [
      "100%|██████████| 640/640 [04:28<00:00,  2.38it/s]\n",
      "100%|██████████| 229/229 [00:43<00:00,  5.21it/s]\n"
     ]
    },
    {
     "name": "stdout",
     "output_type": "stream",
     "text": [
      "Train Loss: 1.4489 | Validation Loss: 1.3655\n",
      "Epoch 33/100\n",
      "Model is training on: cuda:0\n"
     ]
    },
    {
     "name": "stderr",
     "output_type": "stream",
     "text": [
      "100%|██████████| 640/640 [04:32<00:00,  2.35it/s]\n",
      "100%|██████████| 229/229 [00:43<00:00,  5.27it/s]\n"
     ]
    },
    {
     "name": "stdout",
     "output_type": "stream",
     "text": [
      "Train Loss: 1.3826 | Validation Loss: 1.2668\n",
      "Epoch 34/100\n",
      "Model is training on: cuda:0\n"
     ]
    },
    {
     "name": "stderr",
     "output_type": "stream",
     "text": [
      "100%|██████████| 640/640 [04:31<00:00,  2.36it/s]\n",
      "100%|██████████| 229/229 [00:43<00:00,  5.26it/s]\n"
     ]
    },
    {
     "name": "stdout",
     "output_type": "stream",
     "text": [
      "Train Loss: 1.3193 | Validation Loss: 1.3072\n",
      "Epoch 35/100\n",
      "Model is training on: cuda:0\n"
     ]
    },
    {
     "name": "stderr",
     "output_type": "stream",
     "text": [
      "100%|██████████| 640/640 [04:32<00:00,  2.35it/s]\n",
      "100%|██████████| 229/229 [00:43<00:00,  5.26it/s]\n"
     ]
    },
    {
     "name": "stdout",
     "output_type": "stream",
     "text": [
      "Train Loss: 1.2751 | Validation Loss: 1.1822\n",
      "Epoch 36/100\n",
      "Model is training on: cuda:0\n"
     ]
    },
    {
     "name": "stderr",
     "output_type": "stream",
     "text": [
      "100%|██████████| 640/640 [04:32<00:00,  2.35it/s]\n",
      "100%|██████████| 229/229 [00:43<00:00,  5.26it/s]\n"
     ]
    },
    {
     "name": "stdout",
     "output_type": "stream",
     "text": [
      "Train Loss: 1.1620 | Validation Loss: 1.1277\n",
      "Epoch 37/100\n",
      "Model is training on: cuda:0\n"
     ]
    },
    {
     "name": "stderr",
     "output_type": "stream",
     "text": [
      "100%|██████████| 640/640 [04:32<00:00,  2.35it/s]\n",
      "100%|██████████| 229/229 [00:43<00:00,  5.25it/s]\n"
     ]
    },
    {
     "name": "stdout",
     "output_type": "stream",
     "text": [
      "Train Loss: 1.1245 | Validation Loss: 1.1050\n",
      "Epoch 38/100\n",
      "Model is training on: cuda:0\n"
     ]
    },
    {
     "name": "stderr",
     "output_type": "stream",
     "text": [
      "100%|██████████| 640/640 [04:32<00:00,  2.35it/s]\n",
      "100%|██████████| 229/229 [00:43<00:00,  5.24it/s]\n"
     ]
    },
    {
     "name": "stdout",
     "output_type": "stream",
     "text": [
      "Train Loss: 1.0922 | Validation Loss: 1.2575\n",
      "Epoch 39/100\n",
      "Model is training on: cuda:0\n"
     ]
    },
    {
     "name": "stderr",
     "output_type": "stream",
     "text": [
      "100%|██████████| 640/640 [04:32<00:00,  2.35it/s]\n",
      "100%|██████████| 229/229 [00:43<00:00,  5.24it/s]\n"
     ]
    },
    {
     "name": "stdout",
     "output_type": "stream",
     "text": [
      "Train Loss: 1.0573 | Validation Loss: 1.0233\n",
      "Model saved!\n",
      "Epoch 40/100\n",
      "Model is training on: cuda:0\n"
     ]
    },
    {
     "name": "stderr",
     "output_type": "stream",
     "text": [
      "100%|██████████| 640/640 [04:32<00:00,  2.35it/s]\n",
      "100%|██████████| 229/229 [00:43<00:00,  5.28it/s]\n"
     ]
    },
    {
     "name": "stdout",
     "output_type": "stream",
     "text": [
      "Train Loss: 1.0175 | Validation Loss: 0.9947\n",
      "Model saved!\n",
      "Epoch 41/100\n",
      "Model is training on: cuda:0\n"
     ]
    },
    {
     "name": "stderr",
     "output_type": "stream",
     "text": [
      "100%|██████████| 640/640 [04:31<00:00,  2.35it/s]\n",
      "100%|██████████| 229/229 [00:43<00:00,  5.27it/s]\n"
     ]
    },
    {
     "name": "stdout",
     "output_type": "stream",
     "text": [
      "Train Loss: 0.9875 | Validation Loss: 1.0768\n",
      "Epoch 42/100\n",
      "Model is training on: cuda:0\n"
     ]
    },
    {
     "name": "stderr",
     "output_type": "stream",
     "text": [
      "100%|██████████| 640/640 [04:32<00:00,  2.35it/s]\n",
      "100%|██████████| 229/229 [00:44<00:00,  5.18it/s]\n"
     ]
    },
    {
     "name": "stdout",
     "output_type": "stream",
     "text": [
      "Train Loss: 0.9694 | Validation Loss: 1.0247\n",
      "Epoch 43/100\n",
      "Model is training on: cuda:0\n"
     ]
    },
    {
     "name": "stderr",
     "output_type": "stream",
     "text": [
      "100%|██████████| 640/640 [04:32<00:00,  2.35it/s]\n",
      "100%|██████████| 229/229 [00:43<00:00,  5.26it/s]\n"
     ]
    },
    {
     "name": "stdout",
     "output_type": "stream",
     "text": [
      "Train Loss: 1.0044 | Validation Loss: 1.1184\n",
      "Epoch 44/100\n",
      "Model is training on: cuda:0\n"
     ]
    },
    {
     "name": "stderr",
     "output_type": "stream",
     "text": [
      "100%|██████████| 640/640 [04:32<00:00,  2.35it/s]\n",
      "100%|██████████| 229/229 [00:43<00:00,  5.26it/s]\n"
     ]
    },
    {
     "name": "stdout",
     "output_type": "stream",
     "text": [
      "Train Loss: 1.0353 | Validation Loss: 1.1017\n",
      "Epoch 45/100\n",
      "Model is training on: cuda:0\n"
     ]
    },
    {
     "name": "stderr",
     "output_type": "stream",
     "text": [
      "100%|██████████| 640/640 [04:31<00:00,  2.36it/s]\n",
      "100%|██████████| 229/229 [00:43<00:00,  5.28it/s]\n"
     ]
    },
    {
     "name": "stdout",
     "output_type": "stream",
     "text": [
      "Train Loss: 1.1878 | Validation Loss: 0.8460\n",
      "Model saved!\n",
      "Epoch 46/100\n",
      "Model is training on: cuda:0\n"
     ]
    },
    {
     "name": "stderr",
     "output_type": "stream",
     "text": [
      "100%|██████████| 640/640 [04:32<00:00,  2.35it/s]\n",
      "100%|██████████| 229/229 [00:43<00:00,  5.27it/s]\n"
     ]
    },
    {
     "name": "stdout",
     "output_type": "stream",
     "text": [
      "Train Loss: 0.8209 | Validation Loss: 0.8594\n",
      "Epoch 47/100\n",
      "Model is training on: cuda:0\n"
     ]
    },
    {
     "name": "stderr",
     "output_type": "stream",
     "text": [
      "100%|██████████| 640/640 [04:32<00:00,  2.35it/s]\n",
      "100%|██████████| 229/229 [00:43<00:00,  5.25it/s]\n"
     ]
    },
    {
     "name": "stdout",
     "output_type": "stream",
     "text": [
      "Train Loss: 0.8457 | Validation Loss: 0.8615\n",
      "Epoch 48/100\n",
      "Model is training on: cuda:0\n"
     ]
    },
    {
     "name": "stderr",
     "output_type": "stream",
     "text": [
      "100%|██████████| 640/640 [04:31<00:00,  2.35it/s]\n",
      "100%|██████████| 229/229 [00:43<00:00,  5.26it/s]\n"
     ]
    },
    {
     "name": "stdout",
     "output_type": "stream",
     "text": [
      "Train Loss: 0.8599 | Validation Loss: 0.7731\n",
      "Model saved!\n",
      "Epoch 49/100\n",
      "Model is training on: cuda:0\n"
     ]
    },
    {
     "name": "stderr",
     "output_type": "stream",
     "text": [
      "100%|██████████| 640/640 [04:32<00:00,  2.35it/s]\n",
      "100%|██████████| 229/229 [00:43<00:00,  5.24it/s]\n"
     ]
    },
    {
     "name": "stdout",
     "output_type": "stream",
     "text": [
      "Train Loss: 1.0103 | Validation Loss: 1.0450\n",
      "Epoch 50/100\n",
      "Model is training on: cuda:0\n"
     ]
    },
    {
     "name": "stderr",
     "output_type": "stream",
     "text": [
      "100%|██████████| 640/640 [04:32<00:00,  2.35it/s]\n",
      "100%|██████████| 229/229 [00:43<00:00,  5.24it/s]\n"
     ]
    },
    {
     "name": "stdout",
     "output_type": "stream",
     "text": [
      "Train Loss: 0.8782 | Validation Loss: 0.6572\n",
      "Model saved!\n",
      "Epoch 51/100\n",
      "Model is training on: cuda:0\n"
     ]
    },
    {
     "name": "stderr",
     "output_type": "stream",
     "text": [
      "100%|██████████| 640/640 [04:32<00:00,  2.35it/s]\n",
      "100%|██████████| 229/229 [00:43<00:00,  5.26it/s]\n"
     ]
    },
    {
     "name": "stdout",
     "output_type": "stream",
     "text": [
      "Train Loss: 0.7123 | Validation Loss: 0.6899\n",
      "Epoch 52/100\n",
      "Model is training on: cuda:0\n"
     ]
    },
    {
     "name": "stderr",
     "output_type": "stream",
     "text": [
      "100%|██████████| 640/640 [04:32<00:00,  2.35it/s]\n",
      "100%|██████████| 229/229 [00:43<00:00,  5.26it/s]\n"
     ]
    },
    {
     "name": "stdout",
     "output_type": "stream",
     "text": [
      "Train Loss: 0.7272 | Validation Loss: 0.8655\n",
      "Epoch 53/100\n",
      "Model is training on: cuda:0\n"
     ]
    },
    {
     "name": "stderr",
     "output_type": "stream",
     "text": [
      "100%|██████████| 640/640 [04:31<00:00,  2.35it/s]\n",
      "100%|██████████| 229/229 [00:43<00:00,  5.24it/s]\n"
     ]
    },
    {
     "name": "stdout",
     "output_type": "stream",
     "text": [
      "Train Loss: 0.8761 | Validation Loss: 0.6047\n",
      "Model saved!\n",
      "Epoch 54/100\n",
      "Model is training on: cuda:0\n"
     ]
    },
    {
     "name": "stderr",
     "output_type": "stream",
     "text": [
      "100%|██████████| 640/640 [04:32<00:00,  2.35it/s]\n",
      "100%|██████████| 229/229 [00:44<00:00,  5.20it/s]\n"
     ]
    },
    {
     "name": "stdout",
     "output_type": "stream",
     "text": [
      "Train Loss: 0.8465 | Validation Loss: 0.9675\n",
      "Epoch 55/100\n",
      "Model is training on: cuda:0\n"
     ]
    },
    {
     "name": "stderr",
     "output_type": "stream",
     "text": [
      "100%|██████████| 640/640 [04:33<00:00,  2.34it/s]\n",
      "100%|██████████| 229/229 [00:43<00:00,  5.26it/s]\n"
     ]
    },
    {
     "name": "stdout",
     "output_type": "stream",
     "text": [
      "Train Loss: 0.9006 | Validation Loss: 0.9040\n",
      "Epoch 56/100\n",
      "Model is training on: cuda:0\n"
     ]
    },
    {
     "name": "stderr",
     "output_type": "stream",
     "text": [
      "100%|██████████| 640/640 [04:31<00:00,  2.36it/s]\n",
      "100%|██████████| 229/229 [00:43<00:00,  5.26it/s]\n"
     ]
    },
    {
     "name": "stdout",
     "output_type": "stream",
     "text": [
      "Train Loss: 0.7268 | Validation Loss: 0.5528\n",
      "Model saved!\n",
      "Epoch 57/100\n",
      "Model is training on: cuda:0\n"
     ]
    },
    {
     "name": "stderr",
     "output_type": "stream",
     "text": [
      "100%|██████████| 640/640 [04:31<00:00,  2.36it/s]\n",
      "100%|██████████| 229/229 [00:43<00:00,  5.31it/s]\n"
     ]
    },
    {
     "name": "stdout",
     "output_type": "stream",
     "text": [
      "Train Loss: 0.6108 | Validation Loss: 0.5775\n",
      "Epoch 58/100\n",
      "Model is training on: cuda:0\n"
     ]
    },
    {
     "name": "stderr",
     "output_type": "stream",
     "text": [
      "100%|██████████| 640/640 [04:31<00:00,  2.36it/s]\n",
      "100%|██████████| 229/229 [00:44<00:00,  5.20it/s]\n"
     ]
    },
    {
     "name": "stdout",
     "output_type": "stream",
     "text": [
      "Train Loss: 0.6167 | Validation Loss: 0.5940\n",
      "Epoch 59/100\n",
      "Model is training on: cuda:0\n"
     ]
    },
    {
     "name": "stderr",
     "output_type": "stream",
     "text": [
      "100%|██████████| 640/640 [04:32<00:00,  2.35it/s]\n",
      "100%|██████████| 229/229 [00:43<00:00,  5.22it/s]\n"
     ]
    },
    {
     "name": "stdout",
     "output_type": "stream",
     "text": [
      "Train Loss: 0.6538 | Validation Loss: 0.8885\n",
      "Epoch 60/100\n",
      "Model is training on: cuda:0\n"
     ]
    },
    {
     "name": "stderr",
     "output_type": "stream",
     "text": [
      "100%|██████████| 640/640 [04:32<00:00,  2.35it/s]\n",
      "100%|██████████| 229/229 [00:43<00:00,  5.24it/s]\n"
     ]
    },
    {
     "name": "stdout",
     "output_type": "stream",
     "text": [
      "Train Loss: 0.7743 | Validation Loss: 0.5908\n",
      "Epoch 61/100\n",
      "Model is training on: cuda:0\n"
     ]
    },
    {
     "name": "stderr",
     "output_type": "stream",
     "text": [
      "100%|██████████| 640/640 [04:32<00:00,  2.35it/s]\n",
      "100%|██████████| 229/229 [00:44<00:00,  5.20it/s]\n"
     ]
    },
    {
     "name": "stdout",
     "output_type": "stream",
     "text": [
      "Train Loss: 0.6385 | Validation Loss: 0.7970\n",
      "Epoch 62/100\n",
      "Model is training on: cuda:0\n"
     ]
    },
    {
     "name": "stderr",
     "output_type": "stream",
     "text": [
      "100%|██████████| 640/640 [04:32<00:00,  2.35it/s]\n",
      "100%|██████████| 229/229 [00:43<00:00,  5.28it/s]\n"
     ]
    },
    {
     "name": "stdout",
     "output_type": "stream",
     "text": [
      "Train Loss: 0.8281 | Validation Loss: 0.6610\n",
      "Epoch 63/100\n",
      "Model is training on: cuda:0\n"
     ]
    },
    {
     "name": "stderr",
     "output_type": "stream",
     "text": [
      "100%|██████████| 640/640 [04:32<00:00,  2.35it/s]\n",
      "100%|██████████| 229/229 [00:43<00:00,  5.26it/s]\n"
     ]
    },
    {
     "name": "stdout",
     "output_type": "stream",
     "text": [
      "Train Loss: 0.7615 | Validation Loss: 0.8324\n",
      "Epoch 64/100\n",
      "Model is training on: cuda:0\n"
     ]
    },
    {
     "name": "stderr",
     "output_type": "stream",
     "text": [
      "100%|██████████| 640/640 [04:31<00:00,  2.35it/s]\n",
      "100%|██████████| 229/229 [00:43<00:00,  5.26it/s]\n"
     ]
    },
    {
     "name": "stdout",
     "output_type": "stream",
     "text": [
      "Train Loss: 0.8896 | Validation Loss: 0.7605\n",
      "Epoch 65/100\n",
      "Model is training on: cuda:0\n"
     ]
    },
    {
     "name": "stderr",
     "output_type": "stream",
     "text": [
      "100%|██████████| 640/640 [04:32<00:00,  2.35it/s]\n",
      "100%|██████████| 229/229 [00:43<00:00,  5.28it/s]\n"
     ]
    },
    {
     "name": "stdout",
     "output_type": "stream",
     "text": [
      "Train Loss: 0.6498 | Validation Loss: 0.4627\n",
      "Model saved!\n",
      "Epoch 66/100\n",
      "Model is training on: cuda:0\n"
     ]
    },
    {
     "name": "stderr",
     "output_type": "stream",
     "text": [
      "100%|██████████| 640/640 [04:31<00:00,  2.35it/s]\n",
      "100%|██████████| 229/229 [00:44<00:00,  5.19it/s]\n"
     ]
    },
    {
     "name": "stdout",
     "output_type": "stream",
     "text": [
      "Train Loss: 0.4776 | Validation Loss: 0.5272\n",
      "Epoch 67/100\n",
      "Model is training on: cuda:0\n"
     ]
    },
    {
     "name": "stderr",
     "output_type": "stream",
     "text": [
      "100%|██████████| 640/640 [04:31<00:00,  2.36it/s]\n",
      "100%|██████████| 229/229 [00:43<00:00,  5.30it/s]\n"
     ]
    },
    {
     "name": "stdout",
     "output_type": "stream",
     "text": [
      "Train Loss: 0.5272 | Validation Loss: 0.4854\n",
      "Epoch 68/100\n",
      "Model is training on: cuda:0\n"
     ]
    },
    {
     "name": "stderr",
     "output_type": "stream",
     "text": [
      "100%|██████████| 640/640 [04:27<00:00,  2.39it/s]\n",
      "100%|██████████| 229/229 [00:43<00:00,  5.28it/s]\n"
     ]
    },
    {
     "name": "stdout",
     "output_type": "stream",
     "text": [
      "Train Loss: 0.5383 | Validation Loss: 0.5483\n",
      "Epoch 69/100\n",
      "Model is training on: cuda:0\n"
     ]
    },
    {
     "name": "stderr",
     "output_type": "stream",
     "text": [
      "100%|██████████| 640/640 [04:28<00:00,  2.39it/s]\n",
      "100%|██████████| 229/229 [00:43<00:00,  5.30it/s]\n"
     ]
    },
    {
     "name": "stdout",
     "output_type": "stream",
     "text": [
      "Train Loss: 0.5517 | Validation Loss: 0.5448\n",
      "Epoch 70/100\n",
      "Model is training on: cuda:0\n"
     ]
    },
    {
     "name": "stderr",
     "output_type": "stream",
     "text": [
      "100%|██████████| 640/640 [04:30<00:00,  2.36it/s]\n",
      "100%|██████████| 229/229 [00:44<00:00,  5.19it/s]\n"
     ]
    },
    {
     "name": "stdout",
     "output_type": "stream",
     "text": [
      "Train Loss: 0.6563 | Validation Loss: 0.4704\n",
      "Epoch 71/100\n",
      "Model is training on: cuda:0\n"
     ]
    },
    {
     "name": "stderr",
     "output_type": "stream",
     "text": [
      "100%|██████████| 640/640 [04:29<00:00,  2.38it/s]\n",
      "100%|██████████| 229/229 [00:43<00:00,  5.30it/s]\n"
     ]
    },
    {
     "name": "stdout",
     "output_type": "stream",
     "text": [
      "Train Loss: 0.5272 | Validation Loss: 0.5139\n",
      "Epoch 72/100\n",
      "Model is training on: cuda:0\n"
     ]
    },
    {
     "name": "stderr",
     "output_type": "stream",
     "text": [
      "100%|██████████| 640/640 [04:27<00:00,  2.39it/s]\n",
      "100%|██████████| 229/229 [00:44<00:00,  5.20it/s]\n"
     ]
    },
    {
     "name": "stdout",
     "output_type": "stream",
     "text": [
      "Train Loss: 0.5174 | Validation Loss: 0.5163\n",
      "Epoch 73/100\n",
      "Model is training on: cuda:0\n"
     ]
    },
    {
     "name": "stderr",
     "output_type": "stream",
     "text": [
      "100%|██████████| 640/640 [04:27<00:00,  2.39it/s]\n",
      "100%|██████████| 229/229 [00:42<00:00,  5.33it/s]\n"
     ]
    },
    {
     "name": "stdout",
     "output_type": "stream",
     "text": [
      "Train Loss: 0.5140 | Validation Loss: 0.4569\n",
      "Model saved!\n",
      "Epoch 74/100\n",
      "Model is training on: cuda:0\n"
     ]
    },
    {
     "name": "stderr",
     "output_type": "stream",
     "text": [
      "100%|██████████| 640/640 [04:34<00:00,  2.33it/s]\n",
      "100%|██████████| 229/229 [00:44<00:00,  5.16it/s]\n"
     ]
    },
    {
     "name": "stdout",
     "output_type": "stream",
     "text": [
      "Train Loss: 0.6809 | Validation Loss: 0.6394\n",
      "Epoch 75/100\n",
      "Model is training on: cuda:0\n"
     ]
    },
    {
     "name": "stderr",
     "output_type": "stream",
     "text": [
      "100%|██████████| 640/640 [04:33<00:00,  2.34it/s]\n",
      "100%|██████████| 229/229 [00:43<00:00,  5.23it/s]\n"
     ]
    },
    {
     "name": "stdout",
     "output_type": "stream",
     "text": [
      "Train Loss: 0.8498 | Validation Loss: 0.9147\n",
      "Epoch 76/100\n",
      "Model is training on: cuda:0\n"
     ]
    },
    {
     "name": "stderr",
     "output_type": "stream",
     "text": [
      "100%|██████████| 640/640 [04:32<00:00,  2.35it/s]\n",
      "100%|██████████| 229/229 [00:44<00:00,  5.18it/s]\n"
     ]
    },
    {
     "name": "stdout",
     "output_type": "stream",
     "text": [
      "Train Loss: 0.7236 | Validation Loss: 0.7845\n",
      "Epoch 77/100\n",
      "Model is training on: cuda:0\n"
     ]
    },
    {
     "name": "stderr",
     "output_type": "stream",
     "text": [
      "100%|██████████| 640/640 [04:34<00:00,  2.33it/s]\n",
      "100%|██████████| 229/229 [00:43<00:00,  5.23it/s]\n"
     ]
    },
    {
     "name": "stdout",
     "output_type": "stream",
     "text": [
      "Train Loss: 0.4631 | Validation Loss: 0.4178\n",
      "Model saved!\n",
      "Epoch 78/100\n",
      "Model is training on: cuda:0\n"
     ]
    },
    {
     "name": "stderr",
     "output_type": "stream",
     "text": [
      "100%|██████████| 640/640 [04:26<00:00,  2.40it/s]\n",
      "100%|██████████| 229/229 [00:43<00:00,  5.23it/s]\n"
     ]
    },
    {
     "name": "stdout",
     "output_type": "stream",
     "text": [
      "Train Loss: 0.4617 | Validation Loss: 0.6643\n",
      "Epoch 79/100\n",
      "Model is training on: cuda:0\n"
     ]
    },
    {
     "name": "stderr",
     "output_type": "stream",
     "text": [
      "100%|██████████| 640/640 [04:27<00:00,  2.39it/s]\n",
      "100%|██████████| 229/229 [00:42<00:00,  5.40it/s]\n"
     ]
    },
    {
     "name": "stdout",
     "output_type": "stream",
     "text": [
      "Train Loss: 0.4817 | Validation Loss: 0.5536\n",
      "Epoch 80/100\n",
      "Model is training on: cuda:0\n"
     ]
    },
    {
     "name": "stderr",
     "output_type": "stream",
     "text": [
      "100%|██████████| 640/640 [04:24<00:00,  2.42it/s]\n",
      "100%|██████████| 229/229 [00:42<00:00,  5.40it/s]\n"
     ]
    },
    {
     "name": "stdout",
     "output_type": "stream",
     "text": [
      "Train Loss: 0.4899 | Validation Loss: 0.6164\n",
      "Epoch 81/100\n",
      "Model is training on: cuda:0\n"
     ]
    },
    {
     "name": "stderr",
     "output_type": "stream",
     "text": [
      "100%|██████████| 640/640 [04:26<00:00,  2.41it/s]\n",
      "100%|██████████| 229/229 [00:43<00:00,  5.29it/s]\n"
     ]
    },
    {
     "name": "stdout",
     "output_type": "stream",
     "text": [
      "Train Loss: 0.4884 | Validation Loss: 0.5804\n",
      "Epoch 82/100\n",
      "Model is training on: cuda:0\n"
     ]
    },
    {
     "name": "stderr",
     "output_type": "stream",
     "text": [
      "100%|██████████| 640/640 [04:29<00:00,  2.37it/s]\n",
      "100%|██████████| 229/229 [00:44<00:00,  5.20it/s]\n"
     ]
    },
    {
     "name": "stdout",
     "output_type": "stream",
     "text": [
      "Train Loss: 0.6595 | Validation Loss: 0.7139\n",
      "Epoch 83/100\n",
      "Model is training on: cuda:0\n"
     ]
    },
    {
     "name": "stderr",
     "output_type": "stream",
     "text": [
      "100%|██████████| 640/640 [04:31<00:00,  2.35it/s]\n",
      "100%|██████████| 229/229 [00:44<00:00,  5.15it/s]\n"
     ]
    },
    {
     "name": "stdout",
     "output_type": "stream",
     "text": [
      "Train Loss: 0.7869 | Validation Loss: 0.6501\n",
      "Epoch 84/100\n",
      "Model is training on: cuda:0\n"
     ]
    },
    {
     "name": "stderr",
     "output_type": "stream",
     "text": [
      "100%|██████████| 640/640 [04:26<00:00,  2.40it/s]\n",
      "100%|██████████| 229/229 [00:42<00:00,  5.33it/s]\n"
     ]
    },
    {
     "name": "stdout",
     "output_type": "stream",
     "text": [
      "Train Loss: 0.5305 | Validation Loss: 0.3999\n",
      "Model saved!\n",
      "Epoch 85/100\n",
      "Model is training on: cuda:0\n"
     ]
    },
    {
     "name": "stderr",
     "output_type": "stream",
     "text": [
      "100%|██████████| 640/640 [04:25<00:00,  2.41it/s]\n",
      "100%|██████████| 229/229 [00:42<00:00,  5.36it/s]\n"
     ]
    },
    {
     "name": "stdout",
     "output_type": "stream",
     "text": [
      "Train Loss: 0.4255 | Validation Loss: 0.5036\n",
      "Epoch 86/100\n",
      "Model is training on: cuda:0\n"
     ]
    },
    {
     "name": "stderr",
     "output_type": "stream",
     "text": [
      "100%|██████████| 640/640 [04:24<00:00,  2.42it/s]\n",
      "100%|██████████| 229/229 [00:42<00:00,  5.40it/s]\n"
     ]
    },
    {
     "name": "stdout",
     "output_type": "stream",
     "text": [
      "Train Loss: 0.4586 | Validation Loss: 0.4257\n",
      "Epoch 87/100\n",
      "Model is training on: cuda:0\n"
     ]
    },
    {
     "name": "stderr",
     "output_type": "stream",
     "text": [
      "100%|██████████| 640/640 [04:24<00:00,  2.42it/s]\n",
      "100%|██████████| 229/229 [00:42<00:00,  5.38it/s]\n"
     ]
    },
    {
     "name": "stdout",
     "output_type": "stream",
     "text": [
      "Train Loss: 0.7500 | Validation Loss: 0.6573\n",
      "Epoch 88/100\n",
      "Model is training on: cuda:0\n"
     ]
    },
    {
     "name": "stderr",
     "output_type": "stream",
     "text": [
      "100%|██████████| 640/640 [04:24<00:00,  2.42it/s]\n",
      "100%|██████████| 229/229 [00:42<00:00,  5.37it/s]\n"
     ]
    },
    {
     "name": "stdout",
     "output_type": "stream",
     "text": [
      "Train Loss: 0.6563 | Validation Loss: 0.4527\n",
      "Epoch 89/100\n",
      "Model is training on: cuda:0\n"
     ]
    },
    {
     "name": "stderr",
     "output_type": "stream",
     "text": [
      "100%|██████████| 640/640 [04:24<00:00,  2.42it/s]\n",
      "100%|██████████| 229/229 [00:42<00:00,  5.38it/s]\n"
     ]
    },
    {
     "name": "stdout",
     "output_type": "stream",
     "text": [
      "Train Loss: 0.4020 | Validation Loss: 0.4088\n",
      "Epoch 90/100\n",
      "Model is training on: cuda:0\n"
     ]
    },
    {
     "name": "stderr",
     "output_type": "stream",
     "text": [
      "100%|██████████| 640/640 [04:24<00:00,  2.42it/s]\n",
      "100%|██████████| 229/229 [00:42<00:00,  5.37it/s]\n"
     ]
    },
    {
     "name": "stdout",
     "output_type": "stream",
     "text": [
      "Train Loss: 0.4380 | Validation Loss: 0.4809\n",
      "Epoch 91/100\n",
      "Model is training on: cuda:0\n"
     ]
    },
    {
     "name": "stderr",
     "output_type": "stream",
     "text": [
      "100%|██████████| 640/640 [04:24<00:00,  2.42it/s]\n",
      "100%|██████████| 229/229 [00:42<00:00,  5.40it/s]\n"
     ]
    },
    {
     "name": "stdout",
     "output_type": "stream",
     "text": [
      "Train Loss: 0.4486 | Validation Loss: 0.4216\n",
      "Epoch 92/100\n",
      "Model is training on: cuda:0\n"
     ]
    },
    {
     "name": "stderr",
     "output_type": "stream",
     "text": [
      "100%|██████████| 640/640 [04:24<00:00,  2.42it/s]\n",
      "100%|██████████| 229/229 [00:42<00:00,  5.38it/s]\n"
     ]
    },
    {
     "name": "stdout",
     "output_type": "stream",
     "text": [
      "Train Loss: 0.4446 | Validation Loss: 0.4800\n",
      "Epoch 93/100\n",
      "Model is training on: cuda:0\n"
     ]
    },
    {
     "name": "stderr",
     "output_type": "stream",
     "text": [
      "100%|██████████| 640/640 [04:24<00:00,  2.42it/s]\n",
      "100%|██████████| 229/229 [00:42<00:00,  5.36it/s]\n"
     ]
    },
    {
     "name": "stdout",
     "output_type": "stream",
     "text": [
      "Train Loss: 0.4531 | Validation Loss: 0.5161\n",
      "Epoch 94/100\n",
      "Model is training on: cuda:0\n"
     ]
    },
    {
     "name": "stderr",
     "output_type": "stream",
     "text": [
      "100%|██████████| 640/640 [04:23<00:00,  2.42it/s]\n",
      "100%|██████████| 229/229 [00:42<00:00,  5.39it/s]\n"
     ]
    },
    {
     "name": "stdout",
     "output_type": "stream",
     "text": [
      "Train Loss: 0.5359 | Validation Loss: 0.4454\n",
      "Epoch 95/100\n",
      "Model is training on: cuda:0\n"
     ]
    },
    {
     "name": "stderr",
     "output_type": "stream",
     "text": [
      "100%|██████████| 640/640 [04:24<00:00,  2.42it/s]\n",
      "100%|██████████| 229/229 [00:42<00:00,  5.37it/s]\n"
     ]
    },
    {
     "name": "stdout",
     "output_type": "stream",
     "text": [
      "Train Loss: 0.7507 | Validation Loss: 0.6351\n",
      "Epoch 96/100\n",
      "Model is training on: cuda:0\n"
     ]
    },
    {
     "name": "stderr",
     "output_type": "stream",
     "text": [
      "100%|██████████| 640/640 [04:24<00:00,  2.42it/s]\n",
      "100%|██████████| 229/229 [00:42<00:00,  5.37it/s]\n"
     ]
    },
    {
     "name": "stdout",
     "output_type": "stream",
     "text": [
      "Train Loss: 0.5411 | Validation Loss: 0.3851\n",
      "Model saved!\n",
      "Epoch 97/100\n",
      "Model is training on: cuda:0\n"
     ]
    },
    {
     "name": "stderr",
     "output_type": "stream",
     "text": [
      "100%|██████████| 640/640 [04:29<00:00,  2.38it/s]\n",
      "100%|██████████| 229/229 [00:44<00:00,  5.18it/s]\n"
     ]
    },
    {
     "name": "stdout",
     "output_type": "stream",
     "text": [
      "Train Loss: 0.4089 | Validation Loss: 0.4160\n",
      "Epoch 98/100\n",
      "Model is training on: cuda:0\n"
     ]
    },
    {
     "name": "stderr",
     "output_type": "stream",
     "text": [
      "100%|██████████| 640/640 [04:35<00:00,  2.33it/s]\n",
      "100%|██████████| 229/229 [00:43<00:00,  5.21it/s]\n"
     ]
    },
    {
     "name": "stdout",
     "output_type": "stream",
     "text": [
      "Train Loss: 0.4247 | Validation Loss: 0.4024\n",
      "Epoch 99/100\n",
      "Model is training on: cuda:0\n"
     ]
    },
    {
     "name": "stderr",
     "output_type": "stream",
     "text": [
      "100%|██████████| 640/640 [04:34<00:00,  2.33it/s]\n",
      "100%|██████████| 229/229 [00:44<00:00,  5.19it/s]\n"
     ]
    },
    {
     "name": "stdout",
     "output_type": "stream",
     "text": [
      "Train Loss: 0.4274 | Validation Loss: 0.3996\n",
      "Epoch 100/100\n",
      "Model is training on: cuda:0\n"
     ]
    },
    {
     "name": "stderr",
     "output_type": "stream",
     "text": [
      "100%|██████████| 640/640 [04:33<00:00,  2.34it/s]\n",
      "100%|██████████| 229/229 [00:43<00:00,  5.22it/s]"
     ]
    },
    {
     "name": "stdout",
     "output_type": "stream",
     "text": [
      "Train Loss: 0.5029 | Validation Loss: 1.1217\n"
     ]
    },
    {
     "name": "stderr",
     "output_type": "stream",
     "text": [
      "\n"
     ]
    }
   ],
   "source": [
    "device = torch.device(\"cuda\" if torch.cuda.is_available() else \"cpu\")\n",
    "print(device)\n",
    "model = RCAN(num_features=64, num_groups=10, num_blocks=20, reduction=16, scale=10, in_channels=1, out_channels=1).to(device)\n",
    "\n",
    "learning_rate = 0.0001\n",
    "criterion = nn.L1Loss().to(device)\n",
    "optimizer = optim.Adam(model.parameters(), lr=learning_rate,weight_decay=1e-4)\n",
    "\n",
    "num_epochs = 100\n",
    "best_loss = float('inf')\n",
    "\n",
    "for epoch in range(num_epochs):\n",
    "    print(f'Epoch {epoch+1}/{num_epochs}')\n",
    "    print(f'Model is training on: {next(model.parameters()).device}')\n",
    "    train_loss = train_model(model, dataloader_train, criterion, optimizer, device)\n",
    "    val_loss = validate_model(model, dataloader_val, criterion, device)\n",
    "    print(f'Train Loss: {train_loss:.4f} | Validation Loss: {val_loss:.4f}')\n",
    "    \n",
    "    if val_loss < best_loss:\n",
    "        best_loss = val_loss\n",
    "        torch.save(model.state_dict(), 'G:/16_ECMWF/13_DL_modle/4_climate_590_330/RCAN/RCAN_tem_max.pth')\n",
    "        print('Model saved!')\n"
   ]
  },
  {
   "cell_type": "code",
   "execution_count": null,
   "id": "37839c2f-7451-4301-a9da-ab802edde50a",
   "metadata": {},
   "outputs": [],
   "source": []
  },
  {
   "cell_type": "code",
   "execution_count": null,
   "id": "89c64bce-c85b-41c5-a0e4-27c58832c95f",
   "metadata": {},
   "outputs": [],
   "source": []
  }
 ],
 "metadata": {
  "kernelspec": {
   "display_name": "Python 3 (ipykernel)",
   "language": "python",
   "name": "python3"
  },
  "language_info": {
   "codemirror_mode": {
    "name": "ipython",
    "version": 3
   },
   "file_extension": ".py",
   "mimetype": "text/x-python",
   "name": "python",
   "nbconvert_exporter": "python",
   "pygments_lexer": "ipython3",
   "version": "3.9.21"
  }
 },
 "nbformat": 4,
 "nbformat_minor": 5
}
