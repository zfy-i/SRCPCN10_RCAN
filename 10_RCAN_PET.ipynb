{
 "cells": [
  {
   "cell_type": "code",
   "execution_count": 1,
   "id": "6e8395e0-9f7d-47dd-9f8c-a137f38adbec",
   "metadata": {},
   "outputs": [],
   "source": [
    "import os\n",
    "import torch\n",
    "from torch.utils.data import Dataset, DataLoader\n",
    "from torchvision import transforms\n",
    "import rasterio\n",
    "import numpy as np\n",
    "import torch.nn as nn\n",
    "import torch.optim as optim\n",
    "from skimage.transform import resize\n",
    "from tqdm import tqdm\n",
    "import pandas as pd\n",
    "import torchvision.transforms as transforms\n",
    "import matplotlib.pyplot as plt\n",
    "import geopandas as gpd\n",
    "from shapely.geometry import mapping\n",
    "from rasterio.features import geometry_mask\n",
    "import torch.nn.functional as F"
   ]
  },
  {
   "cell_type": "code",
   "execution_count": 2,
   "id": "f08848cd-bb91-4839-9207-4b7e377109bb",
   "metadata": {},
   "outputs": [
    {
     "name": "stdout",
     "output_type": "stream",
     "text": [
      "Using device: cuda\n"
     ]
    }
   ],
   "source": [
    "device = torch.device(\"cuda\" if torch.cuda.is_available() else \"cpu\")\n",
    "print(f\"Using device: {device}\")\n",
    "\n",
    "tif_path = \"F:/12_PET/2001/PET_2001_01_01.tif\"\n",
    "with rasterio.open(tif_path) as src:\n",
    "        image_data = src.read(1)  # 读取第一个波段\n",
    "        transform = src.transform\n",
    "        crs = src.crs\n",
    "        bounds = src.bounds\n",
    "        height, width = src.height, src.width\n",
    "        profile = src.profile  # 获取文件元数据以便后续导出\n",
    "    \n",
    "shp_path = \"C:/Users/Administrator/Desktop/边界/中国/china.shp\"\n",
    "shapefile = gpd.read_file(shp_path)\n",
    "shapefile = shapefile.to_crs(crs)\n",
    "geometries = [mapping(geometry) for geometry in shapefile.geometry]\n",
    "mask = geometry_mask(geometries, transform=transform, invert=True, out_shape=(height, width))"
   ]
  },
  {
   "cell_type": "code",
   "execution_count": 4,
   "id": "44b18ded-c7d3-4805-bb61-78a3f5c3ffe2",
   "metadata": {},
   "outputs": [],
   "source": [
    "class SuperResolutionDataset(Dataset):\n",
    "    def __init__(self, tem_dirs, tem_min_dirs, tem_max_dirs, pr_dirs, wind_dirs, ps_dirs, solar_dirs, ther_dirs, rh_dirs, eva_dirs, transform=None):\n",
    "        self.tem_files = self._get_all_files(tem_dirs)\n",
    "        self.tem_min_files = self._get_all_files(tem_min_dirs)\n",
    "        self.tem_max_files = self._get_all_files(tem_max_dirs)\n",
    "        self.pr_files = self._get_all_files(pr_dirs)\n",
    "        self.wind_files = self._get_all_files(wind_dirs)\n",
    "        self.ps_files = self._get_all_files(ps_dirs)\n",
    "        self.solar_files = self._get_all_files(solar_dirs)\n",
    "        self.ther_files = self._get_all_files(ther_dirs)\n",
    "        self.rh_files = self._get_all_files(rh_dirs)\n",
    "        self.eva_files = self._get_all_files(eva_dirs)\n",
    "        \n",
    "        self.transform = transform\n",
    "\n",
    "    def _get_all_files(self, dirs):\n",
    "        all_files = []\n",
    "        for directory in dirs:\n",
    "            for filename in sorted(os.listdir(directory)):  # 排序保证匹配\n",
    "                file_path = os.path.join(directory, filename)\n",
    "                if os.path.isfile(file_path):  # 确保是文件\n",
    "                    all_files.append(file_path)\n",
    "        return all_files\n",
    "\n",
    "    def __len__(self):\n",
    "        return len(self.tem_files)\n",
    "\n",
    "    def __getitem__(self, idx):\n",
    "        tem_path = self.tem_files[idx]\n",
    "        tem_min_path = self.tem_min_files[idx]\n",
    "        tem_max_path = self.tem_max_files[idx]\n",
    "        pr_path = self.pr_files[idx]\n",
    "        wind_path = self.wind_files[idx]\n",
    "        ps_path = self.ps_files[idx]\n",
    "        solar_path = self.solar_files[idx]\n",
    "        ther_path = self.ther_files[idx]\n",
    "        rh_path = self.rh_files[idx]\n",
    "        eva_path = self.eva_files[idx]\n",
    "        \n",
    "        with rasterio.open(tem_path) as tem_dataset:\n",
    "            tem_image = tem_dataset.read(1)  \n",
    "        with rasterio.open(tem_min_path) as tem_min_dataset:\n",
    "            tem_min_image = tem_min_dataset.read(1)  \n",
    "        with rasterio.open(tem_max_path) as tem_max_dataset:\n",
    "            tem_max_image = tem_max_dataset.read(1)  \n",
    "        with rasterio.open(pr_path) as pr_dataset:\n",
    "            pr_image = pr_dataset.read(1)\n",
    "            pr_image = pr_image*1000\n",
    "        with rasterio.open(wind_path) as wind_dataset:\n",
    "            wind_image = wind_dataset.read(1)  \n",
    "        with rasterio.open(ps_path) as ps_dataset:\n",
    "            ps_image = ps_dataset.read(1)  \n",
    "            ps_image = ps_image/1000\n",
    "        with rasterio.open(solar_path) as solar_dataset:\n",
    "            solar_image = solar_dataset.read(1) \n",
    "            solar_image = solar_image/86400\n",
    "        with rasterio.open(ther_path) as ther_dataset:\n",
    "            ther_image = ther_dataset.read(1) \n",
    "            ther_image = ther_image/86400\n",
    "        with rasterio.open(rh_path) as rh_dataset:\n",
    "            rh_image = rh_dataset.read(1) \n",
    "        with rasterio.open(eva_path) as eva_dataset:\n",
    "            eva_image = eva_dataset.read(1) \n",
    "\n",
    "        # 如果有 transform，应用转换\n",
    "        if self.transform:\n",
    "            tem_image = self.transform(tem_image)\n",
    "            tem_min_image = self.transform(tem_min_image)\n",
    "            tem_max_image = self.transform(tem_max_image)\n",
    "            pr_image = self.transform(pr_image)\n",
    "            wind_image = self.transform(wind_image)\n",
    "            ps_image = self.transform(ps_image)\n",
    "            solar_image = self.transform(solar_image)\n",
    "            ther_image = self.transform(ther_image)\n",
    "            rh_image = self.transform(rh_image)\n",
    "            eva_image = self.transform(eva_image)\n",
    "\n",
    "        else:\n",
    "        # 如果没有 transform，转换为 PyTorch 张量\n",
    "            tem_image = torch.from_numpy(tem_image).float()  # (1, H, W)\n",
    "            tem_min_image = torch.from_numpy(tem_min_image).float()  # (1, H, W)\n",
    "            tem_max_image = torch.from_numpy(tem_max_image).float()  # (1, H, W)\n",
    "            pr_image = torch.from_numpy(pr_image).float()  # (1, H, W)\n",
    "            wind_image = torch.from_numpy(wind_image).float()  # (1, H, W)\n",
    "            ps_image = torch.from_numpy(ps_image).float()  # (1, H, W)\n",
    "            solar_image = torch.from_numpy(solar_image).float()  # (1, H, W)\n",
    "            ther_image = torch.from_numpy(ther_image).float()  # (1, H, W)\n",
    "            rh_image = torch.from_numpy(rh_image).float()  # (1, H, W)\n",
    "            eva_image = torch.from_numpy(eva_image).float()  # (1, H, W)\n",
    "\n",
    "        lr_image =  torch.cat([tem_image, tem_min_image,tem_max_image,pr_image,wind_image,ps_image,solar_image,ther_image,rh_image], dim=0)\n",
    "            \n",
    "        return lr_image, eva_image\n",
    "# 定义数据增强和预处理操作\n",
    "data_transforms = transforms.Compose([\n",
    "    transforms.ToTensor(),  # 将 NumPy 数组转换为 PyTorch 张量\n",
    "])\n",
    "\n",
    "def load_tiff_with_rasterio(file_path):\n",
    "    with rasterio.open(file_path) as src:\n",
    "        img = src.read(1)  # 读取第一个波段\n",
    "        img = img\n",
    "    return img"
   ]
  },
  {
   "cell_type": "code",
   "execution_count": 5,
   "id": "233eeb80-7bb9-4708-bb1b-1c48a8f97e74",
   "metadata": {},
   "outputs": [],
   "source": [
    "year = list(range(2000,2014))\n",
    "tem_directories = []\n",
    "tem_min_directories = []\n",
    "tem_max_directories = []\n",
    "pr_directories = []\n",
    "wind_directories = []\n",
    "ps_directories = []\n",
    "solar_directories = []\n",
    "ther_directories = []\n",
    "rh_directories = []\n",
    "eva_directories = []\n",
    "for a_index,a in enumerate(year):\n",
    "    tem_path = f'F:/6_climate_100_59_33/1_tem/{a}'\n",
    "    tem_directories.append(tem_path)\n",
    "    tem_min_path = f'F:/6_climate_100_59_33/3_tem_min/{a}'\n",
    "    tem_min_directories.append(tem_min_path)\n",
    "    tem_max_path = f'F:/6_climate_100_59_33/2_tem_max/{a}'\n",
    "    tem_max_directories.append(tem_max_path)\n",
    "    pr_path = f'F:/6_climate_100_59_33/7_tol_per/{a}'\n",
    "    pr_directories.append(pr_path)\n",
    "    wind_path = f'F:/6_climate_100_59_33/4_wind_u/{a}'\n",
    "    wind_directories.append(wind_path)\n",
    "    ps_path = f'F:/6_climate_100_59_33/6_ps/{a}'\n",
    "    ps_directories.append(ps_path)\n",
    "    solar_path = f'F:/6_climate_100_59_33/8_solar_rad/{a}'\n",
    "    solar_directories.append(solar_path)\n",
    "    ther_path = f'F:/6_climate_100_59_33/9_ther_rad/{a}'\n",
    "    ther_directories.append(ther_path)\n",
    "    rh_path = f'F:/6_climate_100_59_33/11_rh/{a}'\n",
    "    rh_directories.append(rh_path)\n",
    "    eva_path = f'F:/12_PET/{a}'\n",
    "    eva_directories.append(eva_path)\n",
    "dataset_train = SuperResolutionDataset(tem_dirs = tem_directories, tem_min_dirs = tem_min_directories, tem_max_dirs = tem_max_directories, \n",
    "                                       pr_dirs = pr_directories, wind_dirs = wind_directories, ps_dirs = ps_directories, solar_dirs = solar_directories,\n",
    "                                       ther_dirs = ther_directories, rh_dirs = rh_directories, eva_dirs = eva_directories, transform=data_transforms)\n",
    "dataloader_train = DataLoader(dataset_train, batch_size=8, shuffle=True, num_workers=0)\n",
    "\n",
    "\n",
    "year = list(range(2014,2019))\n",
    "tem_directories = []\n",
    "tem_min_directories = []\n",
    "tem_max_directories = []\n",
    "pr_directories = []\n",
    "wind_directories = []\n",
    "ps_directories = []\n",
    "solar_directories = []\n",
    "ther_directories = []\n",
    "rh_directories = []\n",
    "eva_directories = []\n",
    "for a_index,a in enumerate(year):\n",
    "    tem_path = f'F:/6_climate_100_59_33/1_tem/{a}'\n",
    "    tem_directories.append(tem_path)\n",
    "    tem_min_path = f'F:/6_climate_100_59_33/3_tem_min/{a}'\n",
    "    tem_min_directories.append(tem_min_path)\n",
    "    tem_max_path = f'F:/6_climate_100_59_33/2_tem_max/{a}'\n",
    "    tem_max_directories.append(tem_max_path)\n",
    "    pr_path = f'F:/6_climate_100_59_33/7_tol_per/{a}'\n",
    "    pr_directories.append(pr_path)\n",
    "    wind_path = f'F:/6_climate_100_59_33/4_wind_u/{a}'\n",
    "    wind_directories.append(wind_path)\n",
    "    ps_path = f'F:/6_climate_100_59_33/6_ps/{a}'\n",
    "    ps_directories.append(ps_path)\n",
    "    solar_path = f'F:/6_climate_100_59_33/8_solar_rad/{a}'\n",
    "    solar_directories.append(solar_path)\n",
    "    ther_path = f'F:/6_climate_100_59_33/9_ther_rad/{a}'\n",
    "    ther_directories.append(ther_path)\n",
    "    rh_path = f'F:/6_climate_100_59_33/11_rh/{a}'\n",
    "    rh_directories.append(rh_path)\n",
    "    eva_path = f'F:/12_PET/{a}'\n",
    "    eva_directories.append(eva_path)\n",
    "dataset_val = SuperResolutionDataset(tem_dirs = tem_directories, tem_min_dirs = tem_min_directories, tem_max_dirs = tem_max_directories, \n",
    "                                       pr_dirs = pr_directories, wind_dirs = wind_directories, ps_dirs = ps_directories, solar_dirs = solar_directories,\n",
    "                                       ther_dirs = ther_directories, rh_dirs = rh_directories, eva_dirs = eva_directories, transform=data_transforms)\n",
    "dataloader_val = DataLoader(dataset_val, batch_size=8, shuffle=True, num_workers=0)\n",
    "\n",
    "\n",
    "year = list(range(2019,2024))\n",
    "tem_directories = []\n",
    "tem_min_directories = []\n",
    "tem_max_directories = []\n",
    "pr_directories = []\n",
    "wind_directories = []\n",
    "ps_directories = []\n",
    "solar_directories = []\n",
    "ther_directories = []\n",
    "rh_directories = []\n",
    "eva_directories = []\n",
    "for a_index,a in enumerate(year):\n",
    "    tem_path = f'F:/6_climate_100_59_33/1_tem/{a}'\n",
    "    tem_directories.append(tem_path)\n",
    "    tem_min_path = f'F:/6_climate_100_59_33/3_tem_min/{a}'\n",
    "    tem_min_directories.append(tem_min_path)\n",
    "    tem_max_path = f'F:/6_climate_100_59_33/2_tem_max/{a}'\n",
    "    tem_max_directories.append(tem_max_path)\n",
    "    pr_path = f'F:/6_climate_100_59_33/7_tol_per/{a}'\n",
    "    pr_directories.append(pr_path)\n",
    "    wind_path = f'F:/6_climate_100_59_33/4_wind_u/{a}'\n",
    "    wind_directories.append(wind_path)\n",
    "    ps_path = f'F:/6_climate_100_59_33/6_ps/{a}'\n",
    "    ps_directories.append(ps_path)\n",
    "    solar_path = f'F:/6_climate_100_59_33/8_solar_rad/{a}'\n",
    "    solar_directories.append(solar_path)\n",
    "    ther_path = f'F:/6_climate_100_59_33/9_ther_rad/{a}'\n",
    "    ther_directories.append(ther_path)\n",
    "    rh_path = f'F:/6_climate_100_59_33/11_rh/{a}'\n",
    "    rh_directories.append(rh_path)\n",
    "    eva_path = f'F:/12_PET/{a}'\n",
    "    eva_directories.append(eva_path)\n",
    "dataset_test = SuperResolutionDataset(tem_dirs = tem_directories, tem_min_dirs = tem_min_directories, tem_max_dirs = tem_max_directories, \n",
    "                                       pr_dirs = pr_directories, wind_dirs = wind_directories, ps_dirs = ps_directories, solar_dirs = solar_directories,\n",
    "                                       ther_dirs = ther_directories, rh_dirs = rh_directories, eva_dirs = eva_directories, transform=data_transforms)\n",
    "dataloader_test = DataLoader(dataset_test, batch_size=8, shuffle=True, num_workers=0)"
   ]
  },
  {
   "cell_type": "code",
   "execution_count": 6,
   "id": "d6f27605-efc1-421d-a519-155b75ac566d",
   "metadata": {},
   "outputs": [],
   "source": [
    "def train_model(model, dataloader, criterion, optimizer, device):\n",
    "    model.train()\n",
    "    running_loss = 0.0\n",
    "    for inputs, targets in tqdm(dataloader):\n",
    "        inputs  = inputs.float().to(device)\n",
    "        targets = targets.float().to(device)\n",
    "\n",
    "        inputs[torch.isnan(inputs)] = 0\n",
    "        targets[torch.isnan(targets)] = 0\n",
    "\n",
    "        assert not torch.isnan(inputs).any(), \"Input contains NaN values\"\n",
    "        assert not torch.isnan(targets).any(), \"Target contains NaN values\"\n",
    "        \n",
    "        optimizer.zero_grad()\n",
    "        outputs_up = model(inputs)\n",
    "\n",
    "        loss = criterion(outputs_up, targets).to(device)\n",
    "        loss.backward()\n",
    "        optimizer.step()\n",
    "\n",
    "        running_loss += loss.item() * inputs.size(0)\n",
    "\n",
    "    epoch_loss = running_loss / len(dataloader.dataset)\n",
    "    return epoch_loss\n",
    "\n",
    "def validate_model(model, dataloader, criterion, device):\n",
    "    model.eval()\n",
    "    running_loss = 0.0\n",
    "    with torch.no_grad():\n",
    "        for inputs, targets in tqdm(dataloader):\n",
    "            inputs = inputs.float().to(device)\n",
    "            targets =  targets.float().to(device)\n",
    "            inputs[torch.isnan(inputs)] = 0\n",
    "            targets[torch.isnan(targets)] = 0\n",
    "\n",
    "            outputs = model(inputs)\n",
    "\n",
    "            loss = criterion(outputs, targets)\n",
    "            running_loss += loss.item() * inputs.size(0)\n",
    "\n",
    "    epoch_loss = running_loss / len(dataloader.dataset)\n",
    "    return epoch_loss\n"
   ]
  },
  {
   "cell_type": "code",
   "execution_count": 7,
   "id": "eb48869c-46fd-44dc-85c0-ad02863579db",
   "metadata": {},
   "outputs": [],
   "source": [
    "import torch\n",
    "import torch.nn as nn\n",
    "\n",
    "class ChannelAttention(nn.Module):\n",
    "    def __init__(self, num_features, reduction=16):\n",
    "        super(ChannelAttention, self).__init__()\n",
    "        self.avg_pool = nn.AdaptiveAvgPool2d(1)\n",
    "        self.conv = nn.Sequential(\n",
    "            nn.Conv2d(num_features, num_features // reduction, 1, padding=0, bias=True),\n",
    "            nn.ReLU(inplace=True),\n",
    "            nn.Conv2d(num_features // reduction, num_features, 1, padding=0, bias=True),\n",
    "            nn.Sigmoid()\n",
    "        )\n",
    "\n",
    "    def forward(self, x):\n",
    "        y = self.avg_pool(x)\n",
    "        y = self.conv(y)\n",
    "        return x * y\n",
    "\n",
    "class RCAB(nn.Module):\n",
    "    def __init__(self, num_features, reduction):\n",
    "        super(RCAB, self).__init__()\n",
    "        self.body = nn.Sequential(\n",
    "            nn.Conv2d(num_features, num_features, 3, padding=1),\n",
    "            nn.ReLU(inplace=True),\n",
    "            nn.Conv2d(num_features, num_features, 3, padding=1),\n",
    "            ChannelAttention(num_features, reduction)\n",
    "        )\n",
    "\n",
    "    def forward(self, x):\n",
    "        return x + self.body(x)\n",
    "\n",
    "class ResidualGroup(nn.Module):\n",
    "    def __init__(self, num_features, num_blocks, reduction):\n",
    "        super(ResidualGroup, self).__init__()\n",
    "        self.body = nn.Sequential(\n",
    "            *[RCAB(num_features, reduction) for _ in range(num_blocks)],\n",
    "            nn.Conv2d(num_features, num_features, 3, padding=1)\n",
    "        )\n",
    "\n",
    "    def forward(self, x):\n",
    "        return x + self.body(x)\n",
    "\n",
    "class RCAN(nn.Module):\n",
    "    def __init__(self, num_features=64, num_groups=10, num_blocks=20, reduction=16, scale=10, in_channels=9, out_channels=1):\n",
    "        super(RCAN, self).__init__()\n",
    "        \n",
    "        self.conv1 = nn.Conv2d(in_channels, num_features, 3, padding=1)\n",
    "        \n",
    "        self.body = nn.Sequential(\n",
    "            *[ResidualGroup(num_features, num_blocks, reduction) for _ in range(num_groups)],\n",
    "            nn.Conv2d(num_features, num_features, 3, padding=1)\n",
    "        )\n",
    "        \n",
    "        self.upsample = nn.Sequential(\n",
    "            nn.Conv2d(num_features, num_features * (scale ** 2), 3, padding=1),\n",
    "            nn.PixelShuffle(scale)\n",
    "        )\n",
    "        \n",
    "        self.conv2 = nn.Conv2d(num_features, out_channels, 3, padding=1)\n",
    "\n",
    "    def forward(self, x):\n",
    "        x = self.conv1(x)\n",
    "        res = self.body(x)\n",
    "        res += x\n",
    "        x = self.upsample(res)\n",
    "        x = self.conv2(x)\n",
    "        return x"
   ]
  },
  {
   "cell_type": "code",
   "execution_count": 8,
   "id": "737d144a-9d67-4ef9-a120-edccf1b0c99f",
   "metadata": {
    "scrolled": true
   },
   "outputs": [
    {
     "name": "stdout",
     "output_type": "stream",
     "text": [
      "cuda\n",
      "Epoch 1/100\n",
      "Model is training on: cuda:0\n"
     ]
    },
    {
     "name": "stderr",
     "output_type": "stream",
     "text": [
      "100%|██████████| 640/640 [06:29<00:00,  1.64it/s]\n",
      "100%|██████████| 229/229 [01:26<00:00,  2.64it/s]\n"
     ]
    },
    {
     "name": "stdout",
     "output_type": "stream",
     "text": [
      "Train Loss: 7.1656 | Validation Loss: 1.6125\n",
      "Model saved!\n",
      "Epoch 2/100\n",
      "Model is training on: cuda:0\n"
     ]
    },
    {
     "name": "stderr",
     "output_type": "stream",
     "text": [
      "100%|██████████| 640/640 [06:17<00:00,  1.69it/s]\n",
      "100%|██████████| 229/229 [01:21<00:00,  2.81it/s]\n"
     ]
    },
    {
     "name": "stdout",
     "output_type": "stream",
     "text": [
      "Train Loss: 1.1342 | Validation Loss: 0.8772\n",
      "Model saved!\n",
      "Epoch 3/100\n",
      "Model is training on: cuda:0\n"
     ]
    },
    {
     "name": "stderr",
     "output_type": "stream",
     "text": [
      "100%|██████████| 640/640 [06:24<00:00,  1.67it/s]\n",
      "100%|██████████| 229/229 [01:22<00:00,  2.78it/s]\n"
     ]
    },
    {
     "name": "stdout",
     "output_type": "stream",
     "text": [
      "Train Loss: 0.7839 | Validation Loss: 0.6800\n",
      "Model saved!\n",
      "Epoch 4/100\n",
      "Model is training on: cuda:0\n"
     ]
    },
    {
     "name": "stderr",
     "output_type": "stream",
     "text": [
      "100%|██████████| 640/640 [06:23<00:00,  1.67it/s]\n",
      "100%|██████████| 229/229 [01:23<00:00,  2.73it/s]\n"
     ]
    },
    {
     "name": "stdout",
     "output_type": "stream",
     "text": [
      "Train Loss: 0.6085 | Validation Loss: 0.5288\n",
      "Model saved!\n",
      "Epoch 5/100\n",
      "Model is training on: cuda:0\n"
     ]
    },
    {
     "name": "stderr",
     "output_type": "stream",
     "text": [
      "100%|██████████| 640/640 [06:26<00:00,  1.66it/s]\n",
      "100%|██████████| 229/229 [01:22<00:00,  2.77it/s]\n"
     ]
    },
    {
     "name": "stdout",
     "output_type": "stream",
     "text": [
      "Train Loss: 0.5114 | Validation Loss: 0.4767\n",
      "Model saved!\n",
      "Epoch 6/100\n",
      "Model is training on: cuda:0\n"
     ]
    },
    {
     "name": "stderr",
     "output_type": "stream",
     "text": [
      "100%|██████████| 640/640 [06:22<00:00,  1.67it/s]\n",
      "100%|██████████| 229/229 [01:21<00:00,  2.80it/s]\n"
     ]
    },
    {
     "name": "stdout",
     "output_type": "stream",
     "text": [
      "Train Loss: 0.4480 | Validation Loss: 0.4842\n",
      "Epoch 7/100\n",
      "Model is training on: cuda:0\n"
     ]
    },
    {
     "name": "stderr",
     "output_type": "stream",
     "text": [
      "100%|██████████| 640/640 [06:23<00:00,  1.67it/s]\n",
      "100%|██████████| 229/229 [01:22<00:00,  2.77it/s]\n"
     ]
    },
    {
     "name": "stdout",
     "output_type": "stream",
     "text": [
      "Train Loss: 0.4129 | Validation Loss: 0.6496\n",
      "Epoch 8/100\n",
      "Model is training on: cuda:0\n"
     ]
    },
    {
     "name": "stderr",
     "output_type": "stream",
     "text": [
      "100%|██████████| 640/640 [06:08<00:00,  1.73it/s]\n",
      "100%|██████████| 229/229 [01:18<00:00,  2.92it/s]\n"
     ]
    },
    {
     "name": "stdout",
     "output_type": "stream",
     "text": [
      "Train Loss: 0.3827 | Validation Loss: 0.3752\n",
      "Model saved!\n",
      "Epoch 9/100\n",
      "Model is training on: cuda:0\n"
     ]
    },
    {
     "name": "stderr",
     "output_type": "stream",
     "text": [
      "100%|██████████| 640/640 [06:10<00:00,  1.73it/s]\n",
      "100%|██████████| 229/229 [01:19<00:00,  2.88it/s]\n"
     ]
    },
    {
     "name": "stdout",
     "output_type": "stream",
     "text": [
      "Train Loss: 0.3738 | Validation Loss: 0.3391\n",
      "Model saved!\n",
      "Epoch 10/100\n",
      "Model is training on: cuda:0\n"
     ]
    },
    {
     "name": "stderr",
     "output_type": "stream",
     "text": [
      "100%|██████████| 640/640 [06:17<00:00,  1.70it/s]\n",
      "100%|██████████| 229/229 [01:19<00:00,  2.89it/s]\n"
     ]
    },
    {
     "name": "stdout",
     "output_type": "stream",
     "text": [
      "Train Loss: 0.3410 | Validation Loss: 0.3224\n",
      "Model saved!\n",
      "Epoch 11/100\n",
      "Model is training on: cuda:0\n"
     ]
    },
    {
     "name": "stderr",
     "output_type": "stream",
     "text": [
      "100%|██████████| 640/640 [06:15<00:00,  1.70it/s]\n",
      "100%|██████████| 229/229 [01:18<00:00,  2.91it/s]\n"
     ]
    },
    {
     "name": "stdout",
     "output_type": "stream",
     "text": [
      "Train Loss: 0.3281 | Validation Loss: 0.3276\n",
      "Epoch 12/100\n",
      "Model is training on: cuda:0\n"
     ]
    },
    {
     "name": "stderr",
     "output_type": "stream",
     "text": [
      "100%|██████████| 640/640 [06:09<00:00,  1.73it/s]\n",
      "100%|██████████| 229/229 [01:18<00:00,  2.90it/s]\n"
     ]
    },
    {
     "name": "stdout",
     "output_type": "stream",
     "text": [
      "Train Loss: 0.3133 | Validation Loss: 0.3220\n",
      "Model saved!\n",
      "Epoch 13/100\n",
      "Model is training on: cuda:0\n"
     ]
    },
    {
     "name": "stderr",
     "output_type": "stream",
     "text": [
      "100%|██████████| 640/640 [06:19<00:00,  1.69it/s]\n",
      "100%|██████████| 229/229 [01:22<00:00,  2.76it/s]\n"
     ]
    },
    {
     "name": "stdout",
     "output_type": "stream",
     "text": [
      "Train Loss: 0.3000 | Validation Loss: 0.2909\n",
      "Model saved!\n",
      "Epoch 14/100\n",
      "Model is training on: cuda:0\n"
     ]
    },
    {
     "name": "stderr",
     "output_type": "stream",
     "text": [
      "100%|██████████| 640/640 [06:28<00:00,  1.65it/s]\n",
      "100%|██████████| 229/229 [01:18<00:00,  2.90it/s]\n"
     ]
    },
    {
     "name": "stdout",
     "output_type": "stream",
     "text": [
      "Train Loss: 0.2853 | Validation Loss: 0.2729\n",
      "Model saved!\n",
      "Epoch 15/100\n",
      "Model is training on: cuda:0\n"
     ]
    },
    {
     "name": "stderr",
     "output_type": "stream",
     "text": [
      "100%|██████████| 640/640 [06:22<00:00,  1.67it/s]\n",
      "100%|██████████| 229/229 [01:23<00:00,  2.75it/s]\n"
     ]
    },
    {
     "name": "stdout",
     "output_type": "stream",
     "text": [
      "Train Loss: 0.2797 | Validation Loss: 0.2769\n",
      "Epoch 16/100\n",
      "Model is training on: cuda:0\n"
     ]
    },
    {
     "name": "stderr",
     "output_type": "stream",
     "text": [
      "100%|██████████| 640/640 [06:08<00:00,  1.73it/s]\n",
      "100%|██████████| 229/229 [01:18<00:00,  2.93it/s]\n"
     ]
    },
    {
     "name": "stdout",
     "output_type": "stream",
     "text": [
      "Train Loss: 0.2696 | Validation Loss: 0.2709\n",
      "Model saved!\n",
      "Epoch 17/100\n",
      "Model is training on: cuda:0\n"
     ]
    },
    {
     "name": "stderr",
     "output_type": "stream",
     "text": [
      "100%|██████████| 640/640 [06:09<00:00,  1.73it/s]\n",
      "100%|██████████| 229/229 [01:21<00:00,  2.82it/s]\n"
     ]
    },
    {
     "name": "stdout",
     "output_type": "stream",
     "text": [
      "Train Loss: 0.2579 | Validation Loss: 0.2449\n",
      "Model saved!\n",
      "Epoch 18/100\n",
      "Model is training on: cuda:0\n"
     ]
    },
    {
     "name": "stderr",
     "output_type": "stream",
     "text": [
      "100%|██████████| 640/640 [06:03<00:00,  1.76it/s]\n",
      "100%|██████████| 229/229 [01:20<00:00,  2.83it/s]\n"
     ]
    },
    {
     "name": "stdout",
     "output_type": "stream",
     "text": [
      "Train Loss: 0.2516 | Validation Loss: 0.2504\n",
      "Epoch 19/100\n",
      "Model is training on: cuda:0\n"
     ]
    },
    {
     "name": "stderr",
     "output_type": "stream",
     "text": [
      "100%|██████████| 640/640 [06:18<00:00,  1.69it/s]\n",
      "100%|██████████| 229/229 [01:21<00:00,  2.79it/s]\n"
     ]
    },
    {
     "name": "stdout",
     "output_type": "stream",
     "text": [
      "Train Loss: 0.2467 | Validation Loss: 0.2546\n",
      "Epoch 20/100\n",
      "Model is training on: cuda:0\n"
     ]
    },
    {
     "name": "stderr",
     "output_type": "stream",
     "text": [
      "100%|██████████| 640/640 [06:13<00:00,  1.71it/s]\n",
      "100%|██████████| 229/229 [01:20<00:00,  2.86it/s]\n"
     ]
    },
    {
     "name": "stdout",
     "output_type": "stream",
     "text": [
      "Train Loss: 0.2365 | Validation Loss: 0.2352\n",
      "Model saved!\n",
      "Epoch 21/100\n",
      "Model is training on: cuda:0\n"
     ]
    },
    {
     "name": "stderr",
     "output_type": "stream",
     "text": [
      "100%|██████████| 640/640 [05:57<00:00,  1.79it/s]\n",
      "100%|██████████| 229/229 [01:14<00:00,  3.07it/s]\n"
     ]
    },
    {
     "name": "stdout",
     "output_type": "stream",
     "text": [
      "Train Loss: 0.2310 | Validation Loss: 0.2322\n",
      "Model saved!\n",
      "Epoch 22/100\n",
      "Model is training on: cuda:0\n"
     ]
    },
    {
     "name": "stderr",
     "output_type": "stream",
     "text": [
      "100%|██████████| 640/640 [05:51<00:00,  1.82it/s]\n",
      "100%|██████████| 229/229 [01:16<00:00,  2.98it/s]\n"
     ]
    },
    {
     "name": "stdout",
     "output_type": "stream",
     "text": [
      "Train Loss: 0.2272 | Validation Loss: 0.2571\n",
      "Epoch 23/100\n",
      "Model is training on: cuda:0\n"
     ]
    },
    {
     "name": "stderr",
     "output_type": "stream",
     "text": [
      "100%|██████████| 640/640 [05:52<00:00,  1.82it/s]\n",
      "100%|██████████| 229/229 [01:14<00:00,  3.05it/s]\n"
     ]
    },
    {
     "name": "stdout",
     "output_type": "stream",
     "text": [
      "Train Loss: 0.2236 | Validation Loss: 0.2324\n",
      "Epoch 24/100\n",
      "Model is training on: cuda:0\n"
     ]
    },
    {
     "name": "stderr",
     "output_type": "stream",
     "text": [
      "100%|██████████| 640/640 [05:51<00:00,  1.82it/s]\n",
      "100%|██████████| 229/229 [01:14<00:00,  3.06it/s]\n"
     ]
    },
    {
     "name": "stdout",
     "output_type": "stream",
     "text": [
      "Train Loss: 0.2168 | Validation Loss: 0.2230\n",
      "Model saved!\n",
      "Epoch 25/100\n",
      "Model is training on: cuda:0\n"
     ]
    },
    {
     "name": "stderr",
     "output_type": "stream",
     "text": [
      "100%|██████████| 640/640 [05:51<00:00,  1.82it/s]\n",
      "100%|██████████| 229/229 [01:14<00:00,  3.06it/s]\n"
     ]
    },
    {
     "name": "stdout",
     "output_type": "stream",
     "text": [
      "Train Loss: 0.2101 | Validation Loss: 0.2454\n",
      "Epoch 26/100\n",
      "Model is training on: cuda:0\n"
     ]
    },
    {
     "name": "stderr",
     "output_type": "stream",
     "text": [
      "100%|██████████| 640/640 [05:51<00:00,  1.82it/s]\n",
      "100%|██████████| 229/229 [01:14<00:00,  3.06it/s]\n"
     ]
    },
    {
     "name": "stdout",
     "output_type": "stream",
     "text": [
      "Train Loss: 0.2085 | Validation Loss: 0.2110\n",
      "Model saved!\n",
      "Epoch 27/100\n",
      "Model is training on: cuda:0\n"
     ]
    },
    {
     "name": "stderr",
     "output_type": "stream",
     "text": [
      "100%|██████████| 640/640 [05:52<00:00,  1.82it/s]\n",
      "100%|██████████| 229/229 [01:14<00:00,  3.06it/s]\n"
     ]
    },
    {
     "name": "stdout",
     "output_type": "stream",
     "text": [
      "Train Loss: 0.2037 | Validation Loss: 0.1978\n",
      "Model saved!\n",
      "Epoch 28/100\n",
      "Model is training on: cuda:0\n"
     ]
    },
    {
     "name": "stderr",
     "output_type": "stream",
     "text": [
      "100%|██████████| 640/640 [05:51<00:00,  1.82it/s]\n",
      "100%|██████████| 229/229 [01:14<00:00,  3.06it/s]\n"
     ]
    },
    {
     "name": "stdout",
     "output_type": "stream",
     "text": [
      "Train Loss: 0.1993 | Validation Loss: 0.2145\n",
      "Epoch 29/100\n",
      "Model is training on: cuda:0\n"
     ]
    },
    {
     "name": "stderr",
     "output_type": "stream",
     "text": [
      "100%|██████████| 640/640 [05:51<00:00,  1.82it/s]\n",
      "100%|██████████| 229/229 [01:14<00:00,  3.06it/s]\n"
     ]
    },
    {
     "name": "stdout",
     "output_type": "stream",
     "text": [
      "Train Loss: 0.1963 | Validation Loss: 0.2090\n",
      "Epoch 30/100\n",
      "Model is training on: cuda:0\n"
     ]
    },
    {
     "name": "stderr",
     "output_type": "stream",
     "text": [
      "100%|██████████| 640/640 [05:51<00:00,  1.82it/s]\n",
      "100%|██████████| 229/229 [01:14<00:00,  3.06it/s]\n"
     ]
    },
    {
     "name": "stdout",
     "output_type": "stream",
     "text": [
      "Train Loss: 0.1930 | Validation Loss: 0.1963\n",
      "Model saved!\n",
      "Epoch 31/100\n",
      "Model is training on: cuda:0\n"
     ]
    },
    {
     "name": "stderr",
     "output_type": "stream",
     "text": [
      "100%|██████████| 640/640 [05:51<00:00,  1.82it/s]\n",
      "100%|██████████| 229/229 [01:14<00:00,  3.06it/s]\n"
     ]
    },
    {
     "name": "stdout",
     "output_type": "stream",
     "text": [
      "Train Loss: 0.1916 | Validation Loss: 0.2024\n",
      "Epoch 32/100\n",
      "Model is training on: cuda:0\n"
     ]
    },
    {
     "name": "stderr",
     "output_type": "stream",
     "text": [
      "100%|██████████| 640/640 [05:52<00:00,  1.82it/s]\n",
      "100%|██████████| 229/229 [01:14<00:00,  3.06it/s]\n"
     ]
    },
    {
     "name": "stdout",
     "output_type": "stream",
     "text": [
      "Train Loss: 0.1867 | Validation Loss: 0.1872\n",
      "Model saved!\n",
      "Epoch 33/100\n",
      "Model is training on: cuda:0\n"
     ]
    },
    {
     "name": "stderr",
     "output_type": "stream",
     "text": [
      "100%|██████████| 640/640 [05:51<00:00,  1.82it/s]\n",
      "100%|██████████| 229/229 [01:14<00:00,  3.06it/s]\n"
     ]
    },
    {
     "name": "stdout",
     "output_type": "stream",
     "text": [
      "Train Loss: 0.1860 | Validation Loss: 0.1848\n",
      "Model saved!\n",
      "Epoch 34/100\n",
      "Model is training on: cuda:0\n"
     ]
    },
    {
     "name": "stderr",
     "output_type": "stream",
     "text": [
      "100%|██████████| 640/640 [05:51<00:00,  1.82it/s]\n",
      "100%|██████████| 229/229 [01:15<00:00,  3.05it/s]\n"
     ]
    },
    {
     "name": "stdout",
     "output_type": "stream",
     "text": [
      "Train Loss: 0.1854 | Validation Loss: 0.1951\n",
      "Epoch 35/100\n",
      "Model is training on: cuda:0\n"
     ]
    },
    {
     "name": "stderr",
     "output_type": "stream",
     "text": [
      "100%|██████████| 640/640 [05:52<00:00,  1.82it/s]\n",
      "100%|██████████| 229/229 [01:15<00:00,  3.05it/s]\n"
     ]
    },
    {
     "name": "stdout",
     "output_type": "stream",
     "text": [
      "Train Loss: 0.1796 | Validation Loss: 0.1871\n",
      "Epoch 36/100\n",
      "Model is training on: cuda:0\n"
     ]
    },
    {
     "name": "stderr",
     "output_type": "stream",
     "text": [
      "100%|██████████| 640/640 [05:52<00:00,  1.81it/s]\n",
      "100%|██████████| 229/229 [01:15<00:00,  3.05it/s]\n"
     ]
    },
    {
     "name": "stdout",
     "output_type": "stream",
     "text": [
      "Train Loss: 0.1809 | Validation Loss: 0.2121\n",
      "Epoch 37/100\n",
      "Model is training on: cuda:0\n"
     ]
    },
    {
     "name": "stderr",
     "output_type": "stream",
     "text": [
      "100%|██████████| 640/640 [05:52<00:00,  1.82it/s]\n",
      "100%|██████████| 229/229 [01:14<00:00,  3.05it/s]\n"
     ]
    },
    {
     "name": "stdout",
     "output_type": "stream",
     "text": [
      "Train Loss: 0.1768 | Validation Loss: 0.1828\n",
      "Model saved!\n",
      "Epoch 38/100\n",
      "Model is training on: cuda:0\n"
     ]
    },
    {
     "name": "stderr",
     "output_type": "stream",
     "text": [
      "100%|██████████| 640/640 [05:52<00:00,  1.82it/s]\n",
      "100%|██████████| 229/229 [01:14<00:00,  3.06it/s]\n"
     ]
    },
    {
     "name": "stdout",
     "output_type": "stream",
     "text": [
      "Train Loss: 0.1767 | Validation Loss: 0.1868\n",
      "Epoch 39/100\n",
      "Model is training on: cuda:0\n"
     ]
    },
    {
     "name": "stderr",
     "output_type": "stream",
     "text": [
      "100%|██████████| 640/640 [05:52<00:00,  1.82it/s]\n",
      "100%|██████████| 229/229 [01:15<00:00,  3.05it/s]\n"
     ]
    },
    {
     "name": "stdout",
     "output_type": "stream",
     "text": [
      "Train Loss: 0.1734 | Validation Loss: 0.1861\n",
      "Epoch 40/100\n",
      "Model is training on: cuda:0\n"
     ]
    },
    {
     "name": "stderr",
     "output_type": "stream",
     "text": [
      "100%|██████████| 640/640 [05:51<00:00,  1.82it/s]\n",
      "100%|██████████| 229/229 [01:14<00:00,  3.06it/s]\n"
     ]
    },
    {
     "name": "stdout",
     "output_type": "stream",
     "text": [
      "Train Loss: 0.1736 | Validation Loss: 0.1764\n",
      "Model saved!\n",
      "Epoch 41/100\n",
      "Model is training on: cuda:0\n"
     ]
    },
    {
     "name": "stderr",
     "output_type": "stream",
     "text": [
      "100%|██████████| 640/640 [05:52<00:00,  1.82it/s]\n",
      "100%|██████████| 229/229 [01:15<00:00,  3.05it/s]\n"
     ]
    },
    {
     "name": "stdout",
     "output_type": "stream",
     "text": [
      "Train Loss: 0.1710 | Validation Loss: 0.1896\n",
      "Epoch 42/100\n",
      "Model is training on: cuda:0\n"
     ]
    },
    {
     "name": "stderr",
     "output_type": "stream",
     "text": [
      "100%|██████████| 640/640 [05:52<00:00,  1.82it/s]\n",
      "100%|██████████| 229/229 [01:14<00:00,  3.06it/s]\n"
     ]
    },
    {
     "name": "stdout",
     "output_type": "stream",
     "text": [
      "Train Loss: 0.1705 | Validation Loss: 0.1882\n",
      "Epoch 43/100\n",
      "Model is training on: cuda:0\n"
     ]
    },
    {
     "name": "stderr",
     "output_type": "stream",
     "text": [
      "100%|██████████| 640/640 [05:52<00:00,  1.82it/s]\n",
      "100%|██████████| 229/229 [01:15<00:00,  3.05it/s]\n"
     ]
    },
    {
     "name": "stdout",
     "output_type": "stream",
     "text": [
      "Train Loss: 0.1707 | Validation Loss: 0.1728\n",
      "Model saved!\n",
      "Epoch 44/100\n",
      "Model is training on: cuda:0\n"
     ]
    },
    {
     "name": "stderr",
     "output_type": "stream",
     "text": [
      "100%|██████████| 640/640 [05:52<00:00,  1.82it/s]\n",
      "100%|██████████| 229/229 [01:15<00:00,  3.05it/s]\n"
     ]
    },
    {
     "name": "stdout",
     "output_type": "stream",
     "text": [
      "Train Loss: 0.1686 | Validation Loss: 0.1838\n",
      "Epoch 45/100\n",
      "Model is training on: cuda:0\n"
     ]
    },
    {
     "name": "stderr",
     "output_type": "stream",
     "text": [
      "100%|██████████| 640/640 [05:52<00:00,  1.82it/s]\n",
      "100%|██████████| 229/229 [01:14<00:00,  3.06it/s]\n"
     ]
    },
    {
     "name": "stdout",
     "output_type": "stream",
     "text": [
      "Train Loss: 0.1661 | Validation Loss: 0.1743\n",
      "Epoch 46/100\n",
      "Model is training on: cuda:0\n"
     ]
    },
    {
     "name": "stderr",
     "output_type": "stream",
     "text": [
      "100%|██████████| 640/640 [05:52<00:00,  1.82it/s]\n",
      "100%|██████████| 229/229 [01:14<00:00,  3.05it/s]\n"
     ]
    },
    {
     "name": "stdout",
     "output_type": "stream",
     "text": [
      "Train Loss: 0.1662 | Validation Loss: 0.1740\n",
      "Epoch 47/100\n",
      "Model is training on: cuda:0\n"
     ]
    },
    {
     "name": "stderr",
     "output_type": "stream",
     "text": [
      "100%|██████████| 640/640 [05:52<00:00,  1.82it/s]\n",
      "100%|██████████| 229/229 [01:14<00:00,  3.06it/s]\n"
     ]
    },
    {
     "name": "stdout",
     "output_type": "stream",
     "text": [
      "Train Loss: 0.1631 | Validation Loss: 0.1635\n",
      "Model saved!\n",
      "Epoch 48/100\n",
      "Model is training on: cuda:0\n"
     ]
    },
    {
     "name": "stderr",
     "output_type": "stream",
     "text": [
      "100%|██████████| 640/640 [05:52<00:00,  1.82it/s]\n",
      "100%|██████████| 229/229 [01:15<00:00,  3.05it/s]\n"
     ]
    },
    {
     "name": "stdout",
     "output_type": "stream",
     "text": [
      "Train Loss: 0.1651 | Validation Loss: 0.1690\n",
      "Epoch 49/100\n",
      "Model is training on: cuda:0\n"
     ]
    },
    {
     "name": "stderr",
     "output_type": "stream",
     "text": [
      "100%|██████████| 640/640 [05:51<00:00,  1.82it/s]\n",
      "100%|██████████| 229/229 [01:14<00:00,  3.06it/s]\n"
     ]
    },
    {
     "name": "stdout",
     "output_type": "stream",
     "text": [
      "Train Loss: 0.1616 | Validation Loss: 0.1744\n",
      "Epoch 50/100\n",
      "Model is training on: cuda:0\n"
     ]
    },
    {
     "name": "stderr",
     "output_type": "stream",
     "text": [
      "100%|██████████| 640/640 [05:51<00:00,  1.82it/s]\n",
      "100%|██████████| 229/229 [01:15<00:00,  3.05it/s]\n"
     ]
    },
    {
     "name": "stdout",
     "output_type": "stream",
     "text": [
      "Train Loss: 0.1623 | Validation Loss: 0.1717\n",
      "Epoch 51/100\n",
      "Model is training on: cuda:0\n"
     ]
    },
    {
     "name": "stderr",
     "output_type": "stream",
     "text": [
      "100%|██████████| 640/640 [05:52<00:00,  1.82it/s]\n",
      "100%|██████████| 229/229 [01:15<00:00,  3.05it/s]\n"
     ]
    },
    {
     "name": "stdout",
     "output_type": "stream",
     "text": [
      "Train Loss: 0.1609 | Validation Loss: 0.1675\n",
      "Epoch 52/100\n",
      "Model is training on: cuda:0\n"
     ]
    },
    {
     "name": "stderr",
     "output_type": "stream",
     "text": [
      "100%|██████████| 640/640 [05:52<00:00,  1.82it/s]\n",
      "100%|██████████| 229/229 [01:14<00:00,  3.06it/s]\n"
     ]
    },
    {
     "name": "stdout",
     "output_type": "stream",
     "text": [
      "Train Loss: 0.1601 | Validation Loss: 0.1668\n",
      "Epoch 53/100\n",
      "Model is training on: cuda:0\n"
     ]
    },
    {
     "name": "stderr",
     "output_type": "stream",
     "text": [
      "100%|██████████| 640/640 [05:52<00:00,  1.82it/s]\n",
      "100%|██████████| 229/229 [01:15<00:00,  3.04it/s]\n"
     ]
    },
    {
     "name": "stdout",
     "output_type": "stream",
     "text": [
      "Train Loss: 0.1591 | Validation Loss: 0.1697\n",
      "Epoch 54/100\n",
      "Model is training on: cuda:0\n"
     ]
    },
    {
     "name": "stderr",
     "output_type": "stream",
     "text": [
      "100%|██████████| 640/640 [05:52<00:00,  1.82it/s]\n",
      "100%|██████████| 229/229 [01:15<00:00,  3.05it/s]\n"
     ]
    },
    {
     "name": "stdout",
     "output_type": "stream",
     "text": [
      "Train Loss: 0.1574 | Validation Loss: 0.1675\n",
      "Epoch 55/100\n",
      "Model is training on: cuda:0\n"
     ]
    },
    {
     "name": "stderr",
     "output_type": "stream",
     "text": [
      "100%|██████████| 640/640 [05:52<00:00,  1.81it/s]\n",
      "100%|██████████| 229/229 [01:15<00:00,  3.05it/s]\n"
     ]
    },
    {
     "name": "stdout",
     "output_type": "stream",
     "text": [
      "Train Loss: 0.1582 | Validation Loss: 0.1862\n",
      "Epoch 56/100\n",
      "Model is training on: cuda:0\n"
     ]
    },
    {
     "name": "stderr",
     "output_type": "stream",
     "text": [
      "100%|██████████| 640/640 [05:52<00:00,  1.82it/s]\n",
      "100%|██████████| 229/229 [01:14<00:00,  3.06it/s]\n"
     ]
    },
    {
     "name": "stdout",
     "output_type": "stream",
     "text": [
      "Train Loss: 0.1572 | Validation Loss: 0.1571\n",
      "Model saved!\n",
      "Epoch 57/100\n",
      "Model is training on: cuda:0\n"
     ]
    },
    {
     "name": "stderr",
     "output_type": "stream",
     "text": [
      "100%|██████████| 640/640 [05:52<00:00,  1.82it/s]\n",
      "100%|██████████| 229/229 [01:14<00:00,  3.05it/s]\n"
     ]
    },
    {
     "name": "stdout",
     "output_type": "stream",
     "text": [
      "Train Loss: 0.1560 | Validation Loss: 0.1621\n",
      "Epoch 58/100\n",
      "Model is training on: cuda:0\n"
     ]
    },
    {
     "name": "stderr",
     "output_type": "stream",
     "text": [
      "100%|██████████| 640/640 [05:52<00:00,  1.82it/s]\n",
      "100%|██████████| 229/229 [01:14<00:00,  3.06it/s]\n"
     ]
    },
    {
     "name": "stdout",
     "output_type": "stream",
     "text": [
      "Train Loss: 0.1558 | Validation Loss: 0.1700\n",
      "Epoch 59/100\n",
      "Model is training on: cuda:0\n"
     ]
    },
    {
     "name": "stderr",
     "output_type": "stream",
     "text": [
      "100%|██████████| 640/640 [05:51<00:00,  1.82it/s]\n",
      "100%|██████████| 229/229 [01:14<00:00,  3.06it/s]\n"
     ]
    },
    {
     "name": "stdout",
     "output_type": "stream",
     "text": [
      "Train Loss: 0.1550 | Validation Loss: 0.1719\n",
      "Epoch 60/100\n",
      "Model is training on: cuda:0\n"
     ]
    },
    {
     "name": "stderr",
     "output_type": "stream",
     "text": [
      "100%|██████████| 640/640 [05:52<00:00,  1.82it/s]\n",
      "100%|██████████| 229/229 [01:14<00:00,  3.06it/s]\n"
     ]
    },
    {
     "name": "stdout",
     "output_type": "stream",
     "text": [
      "Train Loss: 0.1550 | Validation Loss: 0.1570\n",
      "Model saved!\n",
      "Epoch 61/100\n",
      "Model is training on: cuda:0\n"
     ]
    },
    {
     "name": "stderr",
     "output_type": "stream",
     "text": [
      "100%|██████████| 640/640 [05:52<00:00,  1.82it/s]\n",
      "100%|██████████| 229/229 [01:15<00:00,  3.05it/s]\n"
     ]
    },
    {
     "name": "stdout",
     "output_type": "stream",
     "text": [
      "Train Loss: 0.1546 | Validation Loss: 0.1621\n",
      "Epoch 62/100\n",
      "Model is training on: cuda:0\n"
     ]
    },
    {
     "name": "stderr",
     "output_type": "stream",
     "text": [
      "100%|██████████| 640/640 [05:52<00:00,  1.82it/s]\n",
      "100%|██████████| 229/229 [01:15<00:00,  3.05it/s]\n"
     ]
    },
    {
     "name": "stdout",
     "output_type": "stream",
     "text": [
      "Train Loss: 0.1539 | Validation Loss: 0.1623\n",
      "Epoch 63/100\n",
      "Model is training on: cuda:0\n"
     ]
    },
    {
     "name": "stderr",
     "output_type": "stream",
     "text": [
      "100%|██████████| 640/640 [05:52<00:00,  1.82it/s]\n",
      "100%|██████████| 229/229 [01:15<00:00,  3.05it/s]\n"
     ]
    },
    {
     "name": "stdout",
     "output_type": "stream",
     "text": [
      "Train Loss: 0.1528 | Validation Loss: 0.1601\n",
      "Epoch 64/100\n",
      "Model is training on: cuda:0\n"
     ]
    },
    {
     "name": "stderr",
     "output_type": "stream",
     "text": [
      "100%|██████████| 640/640 [05:52<00:00,  1.82it/s]\n",
      "100%|██████████| 229/229 [01:15<00:00,  3.04it/s]\n"
     ]
    },
    {
     "name": "stdout",
     "output_type": "stream",
     "text": [
      "Train Loss: 0.1525 | Validation Loss: 0.1704\n",
      "Epoch 65/100\n",
      "Model is training on: cuda:0\n"
     ]
    },
    {
     "name": "stderr",
     "output_type": "stream",
     "text": [
      "100%|██████████| 640/640 [05:52<00:00,  1.82it/s]\n",
      "100%|██████████| 229/229 [01:14<00:00,  3.06it/s]\n"
     ]
    },
    {
     "name": "stdout",
     "output_type": "stream",
     "text": [
      "Train Loss: 0.1530 | Validation Loss: 0.1587\n",
      "Epoch 66/100\n",
      "Model is training on: cuda:0\n"
     ]
    },
    {
     "name": "stderr",
     "output_type": "stream",
     "text": [
      "100%|██████████| 640/640 [05:52<00:00,  1.82it/s]\n",
      "100%|██████████| 229/229 [01:14<00:00,  3.06it/s]\n"
     ]
    },
    {
     "name": "stdout",
     "output_type": "stream",
     "text": [
      "Train Loss: 0.1513 | Validation Loss: 0.1599\n",
      "Epoch 67/100\n",
      "Model is training on: cuda:0\n"
     ]
    },
    {
     "name": "stderr",
     "output_type": "stream",
     "text": [
      "100%|██████████| 640/640 [05:52<00:00,  1.82it/s]\n",
      "100%|██████████| 229/229 [01:14<00:00,  3.05it/s]\n"
     ]
    },
    {
     "name": "stdout",
     "output_type": "stream",
     "text": [
      "Train Loss: 0.1520 | Validation Loss: 0.1619\n",
      "Epoch 68/100\n",
      "Model is training on: cuda:0\n"
     ]
    },
    {
     "name": "stderr",
     "output_type": "stream",
     "text": [
      "100%|██████████| 640/640 [05:52<00:00,  1.82it/s]\n",
      "100%|██████████| 229/229 [01:15<00:00,  3.05it/s]\n"
     ]
    },
    {
     "name": "stdout",
     "output_type": "stream",
     "text": [
      "Train Loss: 0.1509 | Validation Loss: 0.1588\n",
      "Epoch 69/100\n",
      "Model is training on: cuda:0\n"
     ]
    },
    {
     "name": "stderr",
     "output_type": "stream",
     "text": [
      "100%|██████████| 640/640 [05:51<00:00,  1.82it/s]\n",
      "100%|██████████| 229/229 [01:14<00:00,  3.06it/s]\n"
     ]
    },
    {
     "name": "stdout",
     "output_type": "stream",
     "text": [
      "Train Loss: 0.1492 | Validation Loss: 0.1597\n",
      "Epoch 70/100\n",
      "Model is training on: cuda:0\n"
     ]
    },
    {
     "name": "stderr",
     "output_type": "stream",
     "text": [
      "100%|██████████| 640/640 [05:52<00:00,  1.82it/s]\n",
      "100%|██████████| 229/229 [01:15<00:00,  3.05it/s]\n"
     ]
    },
    {
     "name": "stdout",
     "output_type": "stream",
     "text": [
      "Train Loss: 0.1494 | Validation Loss: 0.1563\n",
      "Model saved!\n",
      "Epoch 71/100\n",
      "Model is training on: cuda:0\n"
     ]
    },
    {
     "name": "stderr",
     "output_type": "stream",
     "text": [
      "100%|██████████| 640/640 [05:52<00:00,  1.82it/s]\n",
      "100%|██████████| 229/229 [01:15<00:00,  3.04it/s]\n"
     ]
    },
    {
     "name": "stdout",
     "output_type": "stream",
     "text": [
      "Train Loss: 0.1505 | Validation Loss: 0.1552\n",
      "Model saved!\n",
      "Epoch 72/100\n",
      "Model is training on: cuda:0\n"
     ]
    },
    {
     "name": "stderr",
     "output_type": "stream",
     "text": [
      "100%|██████████| 640/640 [05:52<00:00,  1.82it/s]\n",
      "100%|██████████| 229/229 [01:15<00:00,  3.05it/s]\n"
     ]
    },
    {
     "name": "stdout",
     "output_type": "stream",
     "text": [
      "Train Loss: 0.1498 | Validation Loss: 0.1551\n",
      "Model saved!\n",
      "Epoch 73/100\n",
      "Model is training on: cuda:0\n"
     ]
    },
    {
     "name": "stderr",
     "output_type": "stream",
     "text": [
      "100%|██████████| 640/640 [05:52<00:00,  1.82it/s]\n",
      "100%|██████████| 229/229 [01:14<00:00,  3.05it/s]\n"
     ]
    },
    {
     "name": "stdout",
     "output_type": "stream",
     "text": [
      "Train Loss: 0.1485 | Validation Loss: 0.1765\n",
      "Epoch 74/100\n",
      "Model is training on: cuda:0\n"
     ]
    },
    {
     "name": "stderr",
     "output_type": "stream",
     "text": [
      "100%|██████████| 640/640 [05:51<00:00,  1.82it/s]\n",
      "100%|██████████| 229/229 [01:15<00:00,  3.05it/s]\n"
     ]
    },
    {
     "name": "stdout",
     "output_type": "stream",
     "text": [
      "Train Loss: 0.1489 | Validation Loss: 0.1527\n",
      "Model saved!\n",
      "Epoch 75/100\n",
      "Model is training on: cuda:0\n"
     ]
    },
    {
     "name": "stderr",
     "output_type": "stream",
     "text": [
      "100%|██████████| 640/640 [05:51<00:00,  1.82it/s]\n",
      "100%|██████████| 229/229 [01:15<00:00,  3.05it/s]\n"
     ]
    },
    {
     "name": "stdout",
     "output_type": "stream",
     "text": [
      "Train Loss: 0.1476 | Validation Loss: 0.1537\n",
      "Epoch 76/100\n",
      "Model is training on: cuda:0\n"
     ]
    },
    {
     "name": "stderr",
     "output_type": "stream",
     "text": [
      "100%|██████████| 640/640 [05:51<00:00,  1.82it/s]\n",
      "100%|██████████| 229/229 [01:15<00:00,  3.05it/s]\n"
     ]
    },
    {
     "name": "stdout",
     "output_type": "stream",
     "text": [
      "Train Loss: 0.1478 | Validation Loss: 0.1549\n",
      "Epoch 77/100\n",
      "Model is training on: cuda:0\n"
     ]
    },
    {
     "name": "stderr",
     "output_type": "stream",
     "text": [
      "100%|██████████| 640/640 [05:52<00:00,  1.82it/s]\n",
      "100%|██████████| 229/229 [01:14<00:00,  3.06it/s]\n"
     ]
    },
    {
     "name": "stdout",
     "output_type": "stream",
     "text": [
      "Train Loss: 0.1476 | Validation Loss: 0.1555\n",
      "Epoch 78/100\n",
      "Model is training on: cuda:0\n"
     ]
    },
    {
     "name": "stderr",
     "output_type": "stream",
     "text": [
      "100%|██████████| 640/640 [05:52<00:00,  1.82it/s]\n",
      "100%|██████████| 229/229 [01:15<00:00,  3.05it/s]\n"
     ]
    },
    {
     "name": "stdout",
     "output_type": "stream",
     "text": [
      "Train Loss: 0.1469 | Validation Loss: 0.1518\n",
      "Model saved!\n",
      "Epoch 79/100\n",
      "Model is training on: cuda:0\n"
     ]
    },
    {
     "name": "stderr",
     "output_type": "stream",
     "text": [
      "100%|██████████| 640/640 [05:52<00:00,  1.82it/s]\n",
      "100%|██████████| 229/229 [01:14<00:00,  3.06it/s]\n"
     ]
    },
    {
     "name": "stdout",
     "output_type": "stream",
     "text": [
      "Train Loss: 0.1471 | Validation Loss: 0.1562\n",
      "Epoch 80/100\n",
      "Model is training on: cuda:0\n"
     ]
    },
    {
     "name": "stderr",
     "output_type": "stream",
     "text": [
      "100%|██████████| 640/640 [05:52<00:00,  1.81it/s]\n",
      "100%|██████████| 229/229 [01:15<00:00,  3.04it/s]\n"
     ]
    },
    {
     "name": "stdout",
     "output_type": "stream",
     "text": [
      "Train Loss: 0.1463 | Validation Loss: 0.1600\n",
      "Epoch 81/100\n",
      "Model is training on: cuda:0\n"
     ]
    },
    {
     "name": "stderr",
     "output_type": "stream",
     "text": [
      "100%|██████████| 640/640 [05:52<00:00,  1.82it/s]\n",
      "100%|██████████| 229/229 [01:15<00:00,  3.05it/s]\n"
     ]
    },
    {
     "name": "stdout",
     "output_type": "stream",
     "text": [
      "Train Loss: 0.1460 | Validation Loss: 0.1572\n",
      "Epoch 82/100\n",
      "Model is training on: cuda:0\n"
     ]
    },
    {
     "name": "stderr",
     "output_type": "stream",
     "text": [
      "100%|██████████| 640/640 [05:52<00:00,  1.82it/s]\n",
      "100%|██████████| 229/229 [01:14<00:00,  3.06it/s]\n"
     ]
    },
    {
     "name": "stdout",
     "output_type": "stream",
     "text": [
      "Train Loss: 0.1450 | Validation Loss: 0.1599\n",
      "Epoch 83/100\n",
      "Model is training on: cuda:0\n"
     ]
    },
    {
     "name": "stderr",
     "output_type": "stream",
     "text": [
      "100%|██████████| 640/640 [05:52<00:00,  1.82it/s]\n",
      "100%|██████████| 229/229 [01:15<00:00,  3.05it/s]\n"
     ]
    },
    {
     "name": "stdout",
     "output_type": "stream",
     "text": [
      "Train Loss: 0.1463 | Validation Loss: 0.1519\n",
      "Epoch 84/100\n",
      "Model is training on: cuda:0\n"
     ]
    },
    {
     "name": "stderr",
     "output_type": "stream",
     "text": [
      "100%|██████████| 640/640 [05:52<00:00,  1.81it/s]\n",
      "100%|██████████| 229/229 [01:15<00:00,  3.04it/s]\n"
     ]
    },
    {
     "name": "stdout",
     "output_type": "stream",
     "text": [
      "Train Loss: 0.1448 | Validation Loss: 0.1561\n",
      "Epoch 85/100\n",
      "Model is training on: cuda:0\n"
     ]
    },
    {
     "name": "stderr",
     "output_type": "stream",
     "text": [
      "100%|██████████| 640/640 [05:53<00:00,  1.81it/s]\n",
      "100%|██████████| 229/229 [01:15<00:00,  3.05it/s]\n"
     ]
    },
    {
     "name": "stdout",
     "output_type": "stream",
     "text": [
      "Train Loss: 0.1439 | Validation Loss: 0.1548\n",
      "Epoch 86/100\n",
      "Model is training on: cuda:0\n"
     ]
    },
    {
     "name": "stderr",
     "output_type": "stream",
     "text": [
      "100%|██████████| 640/640 [05:52<00:00,  1.82it/s]\n",
      "100%|██████████| 229/229 [01:14<00:00,  3.06it/s]\n"
     ]
    },
    {
     "name": "stdout",
     "output_type": "stream",
     "text": [
      "Train Loss: 0.1439 | Validation Loss: 0.1531\n",
      "Epoch 87/100\n",
      "Model is training on: cuda:0\n"
     ]
    },
    {
     "name": "stderr",
     "output_type": "stream",
     "text": [
      "100%|██████████| 640/640 [05:52<00:00,  1.82it/s]\n",
      "100%|██████████| 229/229 [01:15<00:00,  3.05it/s]\n"
     ]
    },
    {
     "name": "stdout",
     "output_type": "stream",
     "text": [
      "Train Loss: 0.1466 | Validation Loss: 0.1503\n",
      "Model saved!\n",
      "Epoch 88/100\n",
      "Model is training on: cuda:0\n"
     ]
    },
    {
     "name": "stderr",
     "output_type": "stream",
     "text": [
      "100%|██████████| 640/640 [05:52<00:00,  1.81it/s]\n",
      "100%|██████████| 229/229 [01:15<00:00,  3.05it/s]\n"
     ]
    },
    {
     "name": "stdout",
     "output_type": "stream",
     "text": [
      "Train Loss: 0.1436 | Validation Loss: 0.1521\n",
      "Epoch 89/100\n",
      "Model is training on: cuda:0\n"
     ]
    },
    {
     "name": "stderr",
     "output_type": "stream",
     "text": [
      "100%|██████████| 640/640 [05:52<00:00,  1.82it/s]\n",
      "100%|██████████| 229/229 [01:15<00:00,  3.04it/s]\n"
     ]
    },
    {
     "name": "stdout",
     "output_type": "stream",
     "text": [
      "Train Loss: 0.1437 | Validation Loss: 0.1509\n",
      "Epoch 90/100\n",
      "Model is training on: cuda:0\n"
     ]
    },
    {
     "name": "stderr",
     "output_type": "stream",
     "text": [
      "100%|██████████| 640/640 [05:52<00:00,  1.81it/s]\n",
      "100%|██████████| 229/229 [01:15<00:00,  3.05it/s]\n"
     ]
    },
    {
     "name": "stdout",
     "output_type": "stream",
     "text": [
      "Train Loss: 0.1443 | Validation Loss: 0.1517\n",
      "Epoch 91/100\n",
      "Model is training on: cuda:0\n"
     ]
    },
    {
     "name": "stderr",
     "output_type": "stream",
     "text": [
      "100%|██████████| 640/640 [05:52<00:00,  1.82it/s]\n",
      "100%|██████████| 229/229 [01:15<00:00,  3.05it/s]\n"
     ]
    },
    {
     "name": "stdout",
     "output_type": "stream",
     "text": [
      "Train Loss: 0.1425 | Validation Loss: 0.1503\n",
      "Epoch 92/100\n",
      "Model is training on: cuda:0\n"
     ]
    },
    {
     "name": "stderr",
     "output_type": "stream",
     "text": [
      "100%|██████████| 640/640 [05:52<00:00,  1.82it/s]\n",
      "100%|██████████| 229/229 [01:15<00:00,  3.05it/s]\n"
     ]
    },
    {
     "name": "stdout",
     "output_type": "stream",
     "text": [
      "Train Loss: 0.1437 | Validation Loss: 0.1512\n",
      "Epoch 93/100\n",
      "Model is training on: cuda:0\n"
     ]
    },
    {
     "name": "stderr",
     "output_type": "stream",
     "text": [
      "100%|██████████| 640/640 [05:52<00:00,  1.82it/s]\n",
      "100%|██████████| 229/229 [01:15<00:00,  3.05it/s]\n"
     ]
    },
    {
     "name": "stdout",
     "output_type": "stream",
     "text": [
      "Train Loss: 0.1424 | Validation Loss: 0.1499\n",
      "Model saved!\n",
      "Epoch 94/100\n",
      "Model is training on: cuda:0\n"
     ]
    },
    {
     "name": "stderr",
     "output_type": "stream",
     "text": [
      "100%|██████████| 640/640 [05:52<00:00,  1.82it/s]\n",
      "100%|██████████| 229/229 [01:15<00:00,  3.05it/s]\n"
     ]
    },
    {
     "name": "stdout",
     "output_type": "stream",
     "text": [
      "Train Loss: 0.1430 | Validation Loss: 0.1524\n",
      "Epoch 95/100\n",
      "Model is training on: cuda:0\n"
     ]
    },
    {
     "name": "stderr",
     "output_type": "stream",
     "text": [
      "100%|██████████| 640/640 [05:52<00:00,  1.82it/s]\n",
      "100%|██████████| 229/229 [01:15<00:00,  3.05it/s]\n"
     ]
    },
    {
     "name": "stdout",
     "output_type": "stream",
     "text": [
      "Train Loss: 0.1420 | Validation Loss: 0.1522\n",
      "Epoch 96/100\n",
      "Model is training on: cuda:0\n"
     ]
    },
    {
     "name": "stderr",
     "output_type": "stream",
     "text": [
      "100%|██████████| 640/640 [05:52<00:00,  1.82it/s]\n",
      "100%|██████████| 229/229 [01:15<00:00,  3.05it/s]\n"
     ]
    },
    {
     "name": "stdout",
     "output_type": "stream",
     "text": [
      "Train Loss: 0.1423 | Validation Loss: 0.1509\n",
      "Epoch 97/100\n",
      "Model is training on: cuda:0\n"
     ]
    },
    {
     "name": "stderr",
     "output_type": "stream",
     "text": [
      "100%|██████████| 640/640 [05:52<00:00,  1.81it/s]\n",
      "100%|██████████| 229/229 [01:14<00:00,  3.06it/s]\n"
     ]
    },
    {
     "name": "stdout",
     "output_type": "stream",
     "text": [
      "Train Loss: 0.1411 | Validation Loss: 0.1516\n",
      "Epoch 98/100\n",
      "Model is training on: cuda:0\n"
     ]
    },
    {
     "name": "stderr",
     "output_type": "stream",
     "text": [
      "100%|██████████| 640/640 [05:52<00:00,  1.82it/s]\n",
      "100%|██████████| 229/229 [01:15<00:00,  3.04it/s]\n"
     ]
    },
    {
     "name": "stdout",
     "output_type": "stream",
     "text": [
      "Train Loss: 0.1420 | Validation Loss: 0.1504\n",
      "Epoch 99/100\n",
      "Model is training on: cuda:0\n"
     ]
    },
    {
     "name": "stderr",
     "output_type": "stream",
     "text": [
      "100%|██████████| 640/640 [05:52<00:00,  1.82it/s]\n",
      "100%|██████████| 229/229 [01:15<00:00,  3.05it/s]\n"
     ]
    },
    {
     "name": "stdout",
     "output_type": "stream",
     "text": [
      "Train Loss: 0.1418 | Validation Loss: 0.1578\n",
      "Epoch 100/100\n",
      "Model is training on: cuda:0\n"
     ]
    },
    {
     "name": "stderr",
     "output_type": "stream",
     "text": [
      "100%|██████████| 640/640 [05:52<00:00,  1.82it/s]\n",
      "100%|██████████| 229/229 [01:15<00:00,  3.05it/s]"
     ]
    },
    {
     "name": "stdout",
     "output_type": "stream",
     "text": [
      "Train Loss: 0.1416 | Validation Loss: 0.1565\n"
     ]
    },
    {
     "name": "stderr",
     "output_type": "stream",
     "text": [
      "\n"
     ]
    }
   ],
   "source": [
    "device = torch.device(\"cuda\" if torch.cuda.is_available() else \"cpu\")\n",
    "print(device)\n",
    "model = RCAN(num_features=64, num_groups=10, num_blocks=20, reduction=16, scale=10, in_channels=9, out_channels=1).to(device)\n",
    "\n",
    "learning_rate = 0.0001\n",
    "criterion = nn.L1Loss().to(device)\n",
    "optimizer = optim.Adam(model.parameters(), lr=learning_rate,weight_decay=1e-4)\n",
    "\n",
    "num_epochs = 100\n",
    "best_loss = float('inf')\n",
    "\n",
    "for epoch in range(num_epochs):\n",
    "    print(f'Epoch {epoch+1}/{num_epochs}')\n",
    "    print(f'Model is training on: {next(model.parameters()).device}')\n",
    "    train_loss = train_model(model, dataloader_train, criterion, optimizer, device)\n",
    "    val_loss = validate_model(model, dataloader_val, criterion, device)\n",
    "    print(f'Train Loss: {train_loss:.4f} | Validation Loss: {val_loss:.4f}')\n",
    "    \n",
    "    if val_loss < best_loss:\n",
    "        best_loss = val_loss\n",
    "        torch.save(model.state_dict(), 'G:/16_ECMWF/13_DL_modle/4_climate_590_330/RCAN/RCAN_pet.pth')\n",
    "        print('Model saved!')\n"
   ]
  },
  {
   "cell_type": "code",
   "execution_count": null,
   "id": "9287f1c8-ffaf-4557-87e7-a7a0fa0cf08f",
   "metadata": {},
   "outputs": [],
   "source": []
  },
  {
   "cell_type": "code",
   "execution_count": null,
   "id": "9bbf2ca8-0f1e-4d2a-a191-70554a056438",
   "metadata": {},
   "outputs": [],
   "source": []
  },
  {
   "cell_type": "code",
   "execution_count": null,
   "id": "37839c2f-7451-4301-a9da-ab802edde50a",
   "metadata": {},
   "outputs": [],
   "source": []
  },
  {
   "cell_type": "code",
   "execution_count": null,
   "id": "89c64bce-c85b-41c5-a0e4-27c58832c95f",
   "metadata": {},
   "outputs": [],
   "source": []
  }
 ],
 "metadata": {
  "kernelspec": {
   "display_name": "Python 3 (ipykernel)",
   "language": "python",
   "name": "python3"
  },
  "language_info": {
   "codemirror_mode": {
    "name": "ipython",
    "version": 3
   },
   "file_extension": ".py",
   "mimetype": "text/x-python",
   "name": "python",
   "nbconvert_exporter": "python",
   "pygments_lexer": "ipython3",
   "version": "3.9.21"
  }
 },
 "nbformat": 4,
 "nbformat_minor": 5
}
